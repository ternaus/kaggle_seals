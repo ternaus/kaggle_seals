{
 "cells": [
  {
   "cell_type": "code",
   "execution_count": 24,
   "metadata": {
    "collapsed": false
   },
   "outputs": [],
   "source": [
    "import pandas as pd"
   ]
  },
  {
   "cell_type": "code",
   "execution_count": 25,
   "metadata": {
    "collapsed": false
   },
   "outputs": [],
   "source": [
    "from multiprocessing import Pool, cpu_count, current_process"
   ]
  },
  {
   "cell_type": "code",
   "execution_count": 26,
   "metadata": {
    "collapsed": true
   },
   "outputs": [],
   "source": [
    "from joblib import Parallel, delayed"
   ]
  },
  {
   "cell_type": "code",
   "execution_count": 27,
   "metadata": {
    "collapsed": true
   },
   "outputs": [],
   "source": [
    "import json"
   ]
  },
  {
   "cell_type": "code",
   "execution_count": 28,
   "metadata": {
    "collapsed": true
   },
   "outputs": [],
   "source": [
    "import sys"
   ]
  },
  {
   "cell_type": "code",
   "execution_count": 29,
   "metadata": {
    "collapsed": true
   },
   "outputs": [],
   "source": [
    "import os"
   ]
  },
  {
   "cell_type": "code",
   "execution_count": 30,
   "metadata": {
    "collapsed": false
   },
   "outputs": [],
   "source": [
    "os.environ['CUDA_VISIBLE_DEVICES'] = \"\""
   ]
  },
  {
   "cell_type": "code",
   "execution_count": 31,
   "metadata": {
    "collapsed": true
   },
   "outputs": [],
   "source": [
    "import tensorflow as tf"
   ]
  },
  {
   "cell_type": "code",
   "execution_count": 32,
   "metadata": {
    "collapsed": true
   },
   "outputs": [],
   "source": [
    "import numpy as np"
   ]
  },
  {
   "cell_type": "code",
   "execution_count": 33,
   "metadata": {
    "collapsed": true
   },
   "outputs": [],
   "source": [
    "import os"
   ]
  },
  {
   "cell_type": "code",
   "execution_count": 34,
   "metadata": {
    "collapsed": true
   },
   "outputs": [],
   "source": [
    "from tqdm import tqdm"
   ]
  },
  {
   "cell_type": "code",
   "execution_count": 35,
   "metadata": {
    "collapsed": true
   },
   "outputs": [],
   "source": [
    "import cv2"
   ]
  },
  {
   "cell_type": "code",
   "execution_count": 36,
   "metadata": {
    "collapsed": false
   },
   "outputs": [],
   "source": [
    "temp = []\n",
    "\n",
    "for class_name in ['r', 'p', 'b', 'bl', 'g']:\n",
    "    df = pd.read_csv('/home/vladimir/workspace/data/kaggle_seals/results/comp4_det_test_patches0_{class_name}.txt'.format(class_name=class_name) ,\n",
    "                   header=None, \n",
    "                   sep=' ')\n",
    "    df.columns = ['file_index', 'confidence', 'x_min', 'y_min', 'x_max', 'y_max']\n",
    "    \n",
    "    df['class_name'] = class_name\n",
    "    \n",
    "    temp += [df]\n",
    "    \n",
    "    "
   ]
  },
  {
   "cell_type": "code",
   "execution_count": 37,
   "metadata": {
    "collapsed": false
   },
   "outputs": [],
   "source": [
    "for class_name in ['r', 'p', 'b', 'bl', 'g']:\n",
    "    df = pd.read_csv('/home/vladimir/workspace/data/kaggle_seals/results/comp4_det_test_patches1_{class_name}.txt'.format(class_name=class_name) ,\n",
    "                   header=None, \n",
    "                   sep=' ')\n",
    "    df.columns = ['file_index', 'confidence', 'x_min', 'y_min', 'x_max', 'y_max']\n",
    "    \n",
    "    df['class_name'] = class_name\n",
    "    \n",
    "    temp += [df]"
   ]
  },
  {
   "cell_type": "code",
   "execution_count": 38,
   "metadata": {
    "collapsed": false
   },
   "outputs": [],
   "source": [
    "df = pd.concat(temp)"
   ]
  },
  {
   "cell_type": "code",
   "execution_count": 39,
   "metadata": {
    "collapsed": false
   },
   "outputs": [
    {
     "data": {
      "text/html": [
       "<div>\n",
       "<table border=\"1\" class=\"dataframe\">\n",
       "  <thead>\n",
       "    <tr style=\"text-align: right;\">\n",
       "      <th></th>\n",
       "      <th>file_index</th>\n",
       "      <th>confidence</th>\n",
       "      <th>x_min</th>\n",
       "      <th>y_min</th>\n",
       "      <th>x_max</th>\n",
       "      <th>y_max</th>\n",
       "      <th>class_name</th>\n",
       "    </tr>\n",
       "  </thead>\n",
       "  <tbody>\n",
       "    <tr>\n",
       "      <th>0</th>\n",
       "      <td>18578_3900_1950.jpg</td>\n",
       "      <td>0.969</td>\n",
       "      <td>314.2</td>\n",
       "      <td>58.8</td>\n",
       "      <td>374.7</td>\n",
       "      <td>102.7</td>\n",
       "      <td>r</td>\n",
       "    </tr>\n",
       "    <tr>\n",
       "      <th>1</th>\n",
       "      <td>18578_3900_1950.jpg</td>\n",
       "      <td>0.961</td>\n",
       "      <td>409.5</td>\n",
       "      <td>312.9</td>\n",
       "      <td>455.6</td>\n",
       "      <td>347.7</td>\n",
       "      <td>r</td>\n",
       "    </tr>\n",
       "    <tr>\n",
       "      <th>2</th>\n",
       "      <td>18578_3900_1950.jpg</td>\n",
       "      <td>0.859</td>\n",
       "      <td>564.3</td>\n",
       "      <td>372.8</td>\n",
       "      <td>633.1</td>\n",
       "      <td>449.7</td>\n",
       "      <td>r</td>\n",
       "    </tr>\n",
       "    <tr>\n",
       "      <th>3</th>\n",
       "      <td>18578_3900_1950.jpg</td>\n",
       "      <td>0.612</td>\n",
       "      <td>359.8</td>\n",
       "      <td>427.1</td>\n",
       "      <td>417.7</td>\n",
       "      <td>462.2</td>\n",
       "      <td>r</td>\n",
       "    </tr>\n",
       "    <tr>\n",
       "      <th>4</th>\n",
       "      <td>18578_3900_1950.jpg</td>\n",
       "      <td>0.584</td>\n",
       "      <td>541.5</td>\n",
       "      <td>292.0</td>\n",
       "      <td>587.6</td>\n",
       "      <td>397.4</td>\n",
       "      <td>r</td>\n",
       "    </tr>\n",
       "  </tbody>\n",
       "</table>\n",
       "</div>"
      ],
      "text/plain": [
       "            file_index  confidence  x_min  y_min  x_max  y_max class_name\n",
       "0  18578_3900_1950.jpg       0.969  314.2   58.8  374.7  102.7          r\n",
       "1  18578_3900_1950.jpg       0.961  409.5  312.9  455.6  347.7          r\n",
       "2  18578_3900_1950.jpg       0.859  564.3  372.8  633.1  449.7          r\n",
       "3  18578_3900_1950.jpg       0.612  359.8  427.1  417.7  462.2          r\n",
       "4  18578_3900_1950.jpg       0.584  541.5  292.0  587.6  397.4          r"
      ]
     },
     "execution_count": 39,
     "metadata": {},
     "output_type": "execute_result"
    }
   ],
   "source": [
    "df.head()"
   ]
  },
  {
   "cell_type": "code",
   "execution_count": 40,
   "metadata": {
    "collapsed": false
   },
   "outputs": [
    {
     "data": {
      "text/plain": [
       "(3174842, 7)"
      ]
     },
     "execution_count": 40,
     "metadata": {},
     "output_type": "execute_result"
    }
   ],
   "source": [
    "df.shape"
   ]
  },
  {
   "cell_type": "code",
   "execution_count": 41,
   "metadata": {
    "collapsed": true
   },
   "outputs": [],
   "source": [
    "df = df[df['confidence'] > 0.6]"
   ]
  },
  {
   "cell_type": "code",
   "execution_count": 42,
   "metadata": {
    "collapsed": false
   },
   "outputs": [
    {
     "data": {
      "text/plain": [
       "(615263, 7)"
      ]
     },
     "execution_count": 42,
     "metadata": {},
     "output_type": "execute_result"
    }
   ],
   "source": [
    "df.shape"
   ]
  },
  {
   "cell_type": "code",
   "execution_count": 43,
   "metadata": {
    "collapsed": true
   },
   "outputs": [],
   "source": [
    "# df['file_name'] = df['file_index'].copy()"
   ]
  },
  {
   "cell_type": "code",
   "execution_count": 44,
   "metadata": {
    "collapsed": false
   },
   "outputs": [],
   "source": [
    "df['file_index'] = df['file_index'].str.replace('.jpg', '')"
   ]
  },
  {
   "cell_type": "code",
   "execution_count": 45,
   "metadata": {
    "collapsed": false
   },
   "outputs": [],
   "source": [
    "df['x_shift'] = df['file_index'].str.split('_').str.get(1).astype(int)\n",
    "df['y_shift'] = df['file_index'].str.split('_').str.get(2).astype(int)"
   ]
  },
  {
   "cell_type": "code",
   "execution_count": 46,
   "metadata": {
    "collapsed": false
   },
   "outputs": [],
   "source": [
    "df['x_min'] += df['x_shift']\n",
    "df['x_max'] += df['x_shift']\n",
    "\n",
    "df['y_min'] += df['y_shift']\n",
    "df['y_max'] += df['y_shift']\n"
   ]
  },
  {
   "cell_type": "code",
   "execution_count": 47,
   "metadata": {
    "collapsed": false
   },
   "outputs": [
    {
     "data": {
      "text/html": [
       "<div>\n",
       "<table border=\"1\" class=\"dataframe\">\n",
       "  <thead>\n",
       "    <tr style=\"text-align: right;\">\n",
       "      <th></th>\n",
       "      <th>file_index</th>\n",
       "      <th>confidence</th>\n",
       "      <th>x_min</th>\n",
       "      <th>y_min</th>\n",
       "      <th>x_max</th>\n",
       "      <th>y_max</th>\n",
       "      <th>class_name</th>\n",
       "      <th>x_shift</th>\n",
       "      <th>y_shift</th>\n",
       "    </tr>\n",
       "  </thead>\n",
       "  <tbody>\n",
       "    <tr>\n",
       "      <th>0</th>\n",
       "      <td>18578_3900_1950</td>\n",
       "      <td>0.969</td>\n",
       "      <td>4214.2</td>\n",
       "      <td>2008.8</td>\n",
       "      <td>4274.7</td>\n",
       "      <td>2052.7</td>\n",
       "      <td>r</td>\n",
       "      <td>3900</td>\n",
       "      <td>1950</td>\n",
       "    </tr>\n",
       "    <tr>\n",
       "      <th>1</th>\n",
       "      <td>18578_3900_1950</td>\n",
       "      <td>0.961</td>\n",
       "      <td>4309.5</td>\n",
       "      <td>2262.9</td>\n",
       "      <td>4355.6</td>\n",
       "      <td>2297.7</td>\n",
       "      <td>r</td>\n",
       "      <td>3900</td>\n",
       "      <td>1950</td>\n",
       "    </tr>\n",
       "    <tr>\n",
       "      <th>2</th>\n",
       "      <td>18578_3900_1950</td>\n",
       "      <td>0.859</td>\n",
       "      <td>4464.3</td>\n",
       "      <td>2322.8</td>\n",
       "      <td>4533.1</td>\n",
       "      <td>2399.7</td>\n",
       "      <td>r</td>\n",
       "      <td>3900</td>\n",
       "      <td>1950</td>\n",
       "    </tr>\n",
       "    <tr>\n",
       "      <th>3</th>\n",
       "      <td>18578_3900_1950</td>\n",
       "      <td>0.612</td>\n",
       "      <td>4259.8</td>\n",
       "      <td>2377.1</td>\n",
       "      <td>4317.7</td>\n",
       "      <td>2412.2</td>\n",
       "      <td>r</td>\n",
       "      <td>3900</td>\n",
       "      <td>1950</td>\n",
       "    </tr>\n",
       "    <tr>\n",
       "      <th>14</th>\n",
       "      <td>6906_975_1950</td>\n",
       "      <td>0.634</td>\n",
       "      <td>1494.1</td>\n",
       "      <td>2696.8</td>\n",
       "      <td>1562.3</td>\n",
       "      <td>2847.0</td>\n",
       "      <td>r</td>\n",
       "      <td>975</td>\n",
       "      <td>1950</td>\n",
       "    </tr>\n",
       "  </tbody>\n",
       "</table>\n",
       "</div>"
      ],
      "text/plain": [
       "         file_index  confidence   x_min   y_min   x_max   y_max class_name  \\\n",
       "0   18578_3900_1950       0.969  4214.2  2008.8  4274.7  2052.7          r   \n",
       "1   18578_3900_1950       0.961  4309.5  2262.9  4355.6  2297.7          r   \n",
       "2   18578_3900_1950       0.859  4464.3  2322.8  4533.1  2399.7          r   \n",
       "3   18578_3900_1950       0.612  4259.8  2377.1  4317.7  2412.2          r   \n",
       "14    6906_975_1950       0.634  1494.1  2696.8  1562.3  2847.0          r   \n",
       "\n",
       "    x_shift  y_shift  \n",
       "0      3900     1950  \n",
       "1      3900     1950  \n",
       "2      3900     1950  \n",
       "3      3900     1950  \n",
       "14      975     1950  "
      ]
     },
     "execution_count": 47,
     "metadata": {},
     "output_type": "execute_result"
    }
   ],
   "source": [
    "df.head()"
   ]
  },
  {
   "cell_type": "code",
   "execution_count": 48,
   "metadata": {
    "collapsed": true
   },
   "outputs": [],
   "source": [
    "df['test_id'] = df['file_index'].str.split('_').str.get(0)"
   ]
  },
  {
   "cell_type": "code",
   "execution_count": 49,
   "metadata": {
    "collapsed": false
   },
   "outputs": [
    {
     "data": {
      "text/html": [
       "<div>\n",
       "<table border=\"1\" class=\"dataframe\">\n",
       "  <thead>\n",
       "    <tr style=\"text-align: right;\">\n",
       "      <th></th>\n",
       "      <th>file_index</th>\n",
       "      <th>confidence</th>\n",
       "      <th>x_min</th>\n",
       "      <th>y_min</th>\n",
       "      <th>x_max</th>\n",
       "      <th>y_max</th>\n",
       "      <th>class_name</th>\n",
       "      <th>x_shift</th>\n",
       "      <th>y_shift</th>\n",
       "      <th>test_id</th>\n",
       "    </tr>\n",
       "  </thead>\n",
       "  <tbody>\n",
       "    <tr>\n",
       "      <th>0</th>\n",
       "      <td>18578_3900_1950</td>\n",
       "      <td>0.969</td>\n",
       "      <td>4214.2</td>\n",
       "      <td>2008.8</td>\n",
       "      <td>4274.7</td>\n",
       "      <td>2052.7</td>\n",
       "      <td>r</td>\n",
       "      <td>3900</td>\n",
       "      <td>1950</td>\n",
       "      <td>18578</td>\n",
       "    </tr>\n",
       "    <tr>\n",
       "      <th>1</th>\n",
       "      <td>18578_3900_1950</td>\n",
       "      <td>0.961</td>\n",
       "      <td>4309.5</td>\n",
       "      <td>2262.9</td>\n",
       "      <td>4355.6</td>\n",
       "      <td>2297.7</td>\n",
       "      <td>r</td>\n",
       "      <td>3900</td>\n",
       "      <td>1950</td>\n",
       "      <td>18578</td>\n",
       "    </tr>\n",
       "    <tr>\n",
       "      <th>2</th>\n",
       "      <td>18578_3900_1950</td>\n",
       "      <td>0.859</td>\n",
       "      <td>4464.3</td>\n",
       "      <td>2322.8</td>\n",
       "      <td>4533.1</td>\n",
       "      <td>2399.7</td>\n",
       "      <td>r</td>\n",
       "      <td>3900</td>\n",
       "      <td>1950</td>\n",
       "      <td>18578</td>\n",
       "    </tr>\n",
       "    <tr>\n",
       "      <th>3</th>\n",
       "      <td>18578_3900_1950</td>\n",
       "      <td>0.612</td>\n",
       "      <td>4259.8</td>\n",
       "      <td>2377.1</td>\n",
       "      <td>4317.7</td>\n",
       "      <td>2412.2</td>\n",
       "      <td>r</td>\n",
       "      <td>3900</td>\n",
       "      <td>1950</td>\n",
       "      <td>18578</td>\n",
       "    </tr>\n",
       "    <tr>\n",
       "      <th>14</th>\n",
       "      <td>6906_975_1950</td>\n",
       "      <td>0.634</td>\n",
       "      <td>1494.1</td>\n",
       "      <td>2696.8</td>\n",
       "      <td>1562.3</td>\n",
       "      <td>2847.0</td>\n",
       "      <td>r</td>\n",
       "      <td>975</td>\n",
       "      <td>1950</td>\n",
       "      <td>6906</td>\n",
       "    </tr>\n",
       "  </tbody>\n",
       "</table>\n",
       "</div>"
      ],
      "text/plain": [
       "         file_index  confidence   x_min   y_min   x_max   y_max class_name  \\\n",
       "0   18578_3900_1950       0.969  4214.2  2008.8  4274.7  2052.7          r   \n",
       "1   18578_3900_1950       0.961  4309.5  2262.9  4355.6  2297.7          r   \n",
       "2   18578_3900_1950       0.859  4464.3  2322.8  4533.1  2399.7          r   \n",
       "3   18578_3900_1950       0.612  4259.8  2377.1  4317.7  2412.2          r   \n",
       "14    6906_975_1950       0.634  1494.1  2696.8  1562.3  2847.0          r   \n",
       "\n",
       "    x_shift  y_shift test_id  \n",
       "0      3900     1950   18578  \n",
       "1      3900     1950   18578  \n",
       "2      3900     1950   18578  \n",
       "3      3900     1950   18578  \n",
       "14      975     1950    6906  "
      ]
     },
     "execution_count": 49,
     "metadata": {},
     "output_type": "execute_result"
    }
   ],
   "source": [
    "df.head()"
   ]
  },
  {
   "cell_type": "code",
   "execution_count": 50,
   "metadata": {
    "collapsed": false
   },
   "outputs": [
    {
     "data": {
      "text/plain": [
       "(615263, 10)"
      ]
     },
     "execution_count": 50,
     "metadata": {},
     "output_type": "execute_result"
    }
   ],
   "source": [
    "df.shape"
   ]
  },
  {
   "cell_type": "code",
   "execution_count": 51,
   "metadata": {
    "collapsed": true
   },
   "outputs": [],
   "source": [
    "# sample = pd.DataFrame(pd.read_csv('../data/sample_submission.csv')['test_id'])\n",
    "# sample['x'] = 1"
   ]
  },
  {
   "cell_type": "code",
   "execution_count": 52,
   "metadata": {
    "collapsed": false
   },
   "outputs": [],
   "source": [
    "# sample.info()"
   ]
  },
  {
   "cell_type": "code",
   "execution_count": 53,
   "metadata": {
    "collapsed": false
   },
   "outputs": [],
   "source": [
    "df['test_id'] = df['test_id'].astype(int)"
   ]
  },
  {
   "cell_type": "code",
   "execution_count": 54,
   "metadata": {
    "collapsed": false
   },
   "outputs": [
    {
     "data": {
      "text/html": [
       "<div>\n",
       "<table border=\"1\" class=\"dataframe\">\n",
       "  <thead>\n",
       "    <tr style=\"text-align: right;\">\n",
       "      <th></th>\n",
       "      <th>file_index</th>\n",
       "      <th>confidence</th>\n",
       "      <th>x_min</th>\n",
       "      <th>y_min</th>\n",
       "      <th>x_max</th>\n",
       "      <th>y_max</th>\n",
       "      <th>class_name</th>\n",
       "      <th>x_shift</th>\n",
       "      <th>y_shift</th>\n",
       "      <th>test_id</th>\n",
       "    </tr>\n",
       "  </thead>\n",
       "  <tbody>\n",
       "    <tr>\n",
       "      <th>0</th>\n",
       "      <td>18578_3900_1950</td>\n",
       "      <td>0.969</td>\n",
       "      <td>4214.2</td>\n",
       "      <td>2008.8</td>\n",
       "      <td>4274.7</td>\n",
       "      <td>2052.7</td>\n",
       "      <td>r</td>\n",
       "      <td>3900</td>\n",
       "      <td>1950</td>\n",
       "      <td>18578</td>\n",
       "    </tr>\n",
       "    <tr>\n",
       "      <th>1</th>\n",
       "      <td>18578_3900_1950</td>\n",
       "      <td>0.961</td>\n",
       "      <td>4309.5</td>\n",
       "      <td>2262.9</td>\n",
       "      <td>4355.6</td>\n",
       "      <td>2297.7</td>\n",
       "      <td>r</td>\n",
       "      <td>3900</td>\n",
       "      <td>1950</td>\n",
       "      <td>18578</td>\n",
       "    </tr>\n",
       "    <tr>\n",
       "      <th>2</th>\n",
       "      <td>18578_3900_1950</td>\n",
       "      <td>0.859</td>\n",
       "      <td>4464.3</td>\n",
       "      <td>2322.8</td>\n",
       "      <td>4533.1</td>\n",
       "      <td>2399.7</td>\n",
       "      <td>r</td>\n",
       "      <td>3900</td>\n",
       "      <td>1950</td>\n",
       "      <td>18578</td>\n",
       "    </tr>\n",
       "    <tr>\n",
       "      <th>3</th>\n",
       "      <td>18578_3900_1950</td>\n",
       "      <td>0.612</td>\n",
       "      <td>4259.8</td>\n",
       "      <td>2377.1</td>\n",
       "      <td>4317.7</td>\n",
       "      <td>2412.2</td>\n",
       "      <td>r</td>\n",
       "      <td>3900</td>\n",
       "      <td>1950</td>\n",
       "      <td>18578</td>\n",
       "    </tr>\n",
       "    <tr>\n",
       "      <th>14</th>\n",
       "      <td>6906_975_1950</td>\n",
       "      <td>0.634</td>\n",
       "      <td>1494.1</td>\n",
       "      <td>2696.8</td>\n",
       "      <td>1562.3</td>\n",
       "      <td>2847.0</td>\n",
       "      <td>r</td>\n",
       "      <td>975</td>\n",
       "      <td>1950</td>\n",
       "      <td>6906</td>\n",
       "    </tr>\n",
       "  </tbody>\n",
       "</table>\n",
       "</div>"
      ],
      "text/plain": [
       "         file_index  confidence   x_min   y_min   x_max   y_max class_name  \\\n",
       "0   18578_3900_1950       0.969  4214.2  2008.8  4274.7  2052.7          r   \n",
       "1   18578_3900_1950       0.961  4309.5  2262.9  4355.6  2297.7          r   \n",
       "2   18578_3900_1950       0.859  4464.3  2322.8  4533.1  2399.7          r   \n",
       "3   18578_3900_1950       0.612  4259.8  2377.1  4317.7  2412.2          r   \n",
       "14    6906_975_1950       0.634  1494.1  2696.8  1562.3  2847.0          r   \n",
       "\n",
       "    x_shift  y_shift  test_id  \n",
       "0      3900     1950    18578  \n",
       "1      3900     1950    18578  \n",
       "2      3900     1950    18578  \n",
       "3      3900     1950    18578  \n",
       "14      975     1950     6906  "
      ]
     },
     "execution_count": 54,
     "metadata": {},
     "output_type": "execute_result"
    }
   ],
   "source": [
    "df.head()"
   ]
  },
  {
   "cell_type": "code",
   "execution_count": 55,
   "metadata": {
    "collapsed": true
   },
   "outputs": [],
   "source": [
    "class_name_dict = {'r': 'adult_males',\n",
    "                  'b': 'adult_females',\n",
    "                   'p': 'subadult_males',\n",
    "                  'bl': 'juveniles',\n",
    "                  'g': 'pups'}"
   ]
  },
  {
   "cell_type": "code",
   "execution_count": 56,
   "metadata": {
    "collapsed": false
   },
   "outputs": [
    {
     "data": {
      "text/html": [
       "<div>\n",
       "<table border=\"1\" class=\"dataframe\">\n",
       "  <thead>\n",
       "    <tr style=\"text-align: right;\">\n",
       "      <th></th>\n",
       "      <th>file_index</th>\n",
       "      <th>confidence</th>\n",
       "      <th>x_min</th>\n",
       "      <th>y_min</th>\n",
       "      <th>x_max</th>\n",
       "      <th>y_max</th>\n",
       "      <th>class_name</th>\n",
       "      <th>x_shift</th>\n",
       "      <th>y_shift</th>\n",
       "      <th>test_id</th>\n",
       "    </tr>\n",
       "  </thead>\n",
       "  <tbody>\n",
       "    <tr>\n",
       "      <th>0</th>\n",
       "      <td>18578_3900_1950</td>\n",
       "      <td>0.969</td>\n",
       "      <td>4214.2</td>\n",
       "      <td>2008.8</td>\n",
       "      <td>4274.7</td>\n",
       "      <td>2052.7</td>\n",
       "      <td>r</td>\n",
       "      <td>3900</td>\n",
       "      <td>1950</td>\n",
       "      <td>18578</td>\n",
       "    </tr>\n",
       "    <tr>\n",
       "      <th>1</th>\n",
       "      <td>18578_3900_1950</td>\n",
       "      <td>0.961</td>\n",
       "      <td>4309.5</td>\n",
       "      <td>2262.9</td>\n",
       "      <td>4355.6</td>\n",
       "      <td>2297.7</td>\n",
       "      <td>r</td>\n",
       "      <td>3900</td>\n",
       "      <td>1950</td>\n",
       "      <td>18578</td>\n",
       "    </tr>\n",
       "    <tr>\n",
       "      <th>2</th>\n",
       "      <td>18578_3900_1950</td>\n",
       "      <td>0.859</td>\n",
       "      <td>4464.3</td>\n",
       "      <td>2322.8</td>\n",
       "      <td>4533.1</td>\n",
       "      <td>2399.7</td>\n",
       "      <td>r</td>\n",
       "      <td>3900</td>\n",
       "      <td>1950</td>\n",
       "      <td>18578</td>\n",
       "    </tr>\n",
       "    <tr>\n",
       "      <th>3</th>\n",
       "      <td>18578_3900_1950</td>\n",
       "      <td>0.612</td>\n",
       "      <td>4259.8</td>\n",
       "      <td>2377.1</td>\n",
       "      <td>4317.7</td>\n",
       "      <td>2412.2</td>\n",
       "      <td>r</td>\n",
       "      <td>3900</td>\n",
       "      <td>1950</td>\n",
       "      <td>18578</td>\n",
       "    </tr>\n",
       "    <tr>\n",
       "      <th>14</th>\n",
       "      <td>6906_975_1950</td>\n",
       "      <td>0.634</td>\n",
       "      <td>1494.1</td>\n",
       "      <td>2696.8</td>\n",
       "      <td>1562.3</td>\n",
       "      <td>2847.0</td>\n",
       "      <td>r</td>\n",
       "      <td>975</td>\n",
       "      <td>1950</td>\n",
       "      <td>6906</td>\n",
       "    </tr>\n",
       "  </tbody>\n",
       "</table>\n",
       "</div>"
      ],
      "text/plain": [
       "         file_index  confidence   x_min   y_min   x_max   y_max class_name  \\\n",
       "0   18578_3900_1950       0.969  4214.2  2008.8  4274.7  2052.7          r   \n",
       "1   18578_3900_1950       0.961  4309.5  2262.9  4355.6  2297.7          r   \n",
       "2   18578_3900_1950       0.859  4464.3  2322.8  4533.1  2399.7          r   \n",
       "3   18578_3900_1950       0.612  4259.8  2377.1  4317.7  2412.2          r   \n",
       "14    6906_975_1950       0.634  1494.1  2696.8  1562.3  2847.0          r   \n",
       "\n",
       "    x_shift  y_shift  test_id  \n",
       "0      3900     1950    18578  \n",
       "1      3900     1950    18578  \n",
       "2      3900     1950    18578  \n",
       "3      3900     1950    18578  \n",
       "14      975     1950     6906  "
      ]
     },
     "execution_count": 56,
     "metadata": {},
     "output_type": "execute_result"
    }
   ],
   "source": [
    "df.head()"
   ]
  },
  {
   "cell_type": "code",
   "execution_count": 57,
   "metadata": {
    "collapsed": false
   },
   "outputs": [],
   "source": [
    "df['id'] = df['test_id'].astype(str) + '_' + df['class_name']"
   ]
  },
  {
   "cell_type": "code",
   "execution_count": 71,
   "metadata": {
    "collapsed": false
   },
   "outputs": [
    {
     "data": {
      "text/html": [
       "<div>\n",
       "<table border=\"1\" class=\"dataframe\">\n",
       "  <thead>\n",
       "    <tr style=\"text-align: right;\">\n",
       "      <th></th>\n",
       "      <th>file_index</th>\n",
       "      <th>confidence</th>\n",
       "      <th>x_min</th>\n",
       "      <th>y_min</th>\n",
       "      <th>x_max</th>\n",
       "      <th>y_max</th>\n",
       "      <th>class_name</th>\n",
       "      <th>x_shift</th>\n",
       "      <th>y_shift</th>\n",
       "      <th>test_id</th>\n",
       "      <th>id</th>\n",
       "    </tr>\n",
       "  </thead>\n",
       "  <tbody>\n",
       "    <tr>\n",
       "      <th>0</th>\n",
       "      <td>18578_3900_1950</td>\n",
       "      <td>0.969</td>\n",
       "      <td>4214.2</td>\n",
       "      <td>2008.8</td>\n",
       "      <td>4274.7</td>\n",
       "      <td>2052.7</td>\n",
       "      <td>r</td>\n",
       "      <td>3900</td>\n",
       "      <td>1950</td>\n",
       "      <td>18578</td>\n",
       "      <td>18578_r</td>\n",
       "    </tr>\n",
       "    <tr>\n",
       "      <th>1</th>\n",
       "      <td>18578_3900_1950</td>\n",
       "      <td>0.961</td>\n",
       "      <td>4309.5</td>\n",
       "      <td>2262.9</td>\n",
       "      <td>4355.6</td>\n",
       "      <td>2297.7</td>\n",
       "      <td>r</td>\n",
       "      <td>3900</td>\n",
       "      <td>1950</td>\n",
       "      <td>18578</td>\n",
       "      <td>18578_r</td>\n",
       "    </tr>\n",
       "    <tr>\n",
       "      <th>2</th>\n",
       "      <td>18578_3900_1950</td>\n",
       "      <td>0.859</td>\n",
       "      <td>4464.3</td>\n",
       "      <td>2322.8</td>\n",
       "      <td>4533.1</td>\n",
       "      <td>2399.7</td>\n",
       "      <td>r</td>\n",
       "      <td>3900</td>\n",
       "      <td>1950</td>\n",
       "      <td>18578</td>\n",
       "      <td>18578_r</td>\n",
       "    </tr>\n",
       "    <tr>\n",
       "      <th>3</th>\n",
       "      <td>18578_3900_1950</td>\n",
       "      <td>0.612</td>\n",
       "      <td>4259.8</td>\n",
       "      <td>2377.1</td>\n",
       "      <td>4317.7</td>\n",
       "      <td>2412.2</td>\n",
       "      <td>r</td>\n",
       "      <td>3900</td>\n",
       "      <td>1950</td>\n",
       "      <td>18578</td>\n",
       "      <td>18578_r</td>\n",
       "    </tr>\n",
       "    <tr>\n",
       "      <th>14</th>\n",
       "      <td>6906_975_1950</td>\n",
       "      <td>0.634</td>\n",
       "      <td>1494.1</td>\n",
       "      <td>2696.8</td>\n",
       "      <td>1562.3</td>\n",
       "      <td>2847.0</td>\n",
       "      <td>r</td>\n",
       "      <td>975</td>\n",
       "      <td>1950</td>\n",
       "      <td>6906</td>\n",
       "      <td>6906_r</td>\n",
       "    </tr>\n",
       "  </tbody>\n",
       "</table>\n",
       "</div>"
      ],
      "text/plain": [
       "         file_index  confidence   x_min   y_min   x_max   y_max class_name  \\\n",
       "0   18578_3900_1950       0.969  4214.2  2008.8  4274.7  2052.7          r   \n",
       "1   18578_3900_1950       0.961  4309.5  2262.9  4355.6  2297.7          r   \n",
       "2   18578_3900_1950       0.859  4464.3  2322.8  4533.1  2399.7          r   \n",
       "3   18578_3900_1950       0.612  4259.8  2377.1  4317.7  2412.2          r   \n",
       "14    6906_975_1950       0.634  1494.1  2696.8  1562.3  2847.0          r   \n",
       "\n",
       "    x_shift  y_shift  test_id       id  \n",
       "0      3900     1950    18578  18578_r  \n",
       "1      3900     1950    18578  18578_r  \n",
       "2      3900     1950    18578  18578_r  \n",
       "3      3900     1950    18578  18578_r  \n",
       "14      975     1950     6906   6906_r  "
      ]
     },
     "execution_count": 71,
     "metadata": {},
     "output_type": "execute_result"
    }
   ],
   "source": [
    "df.head()"
   ]
  },
  {
   "cell_type": "code",
   "execution_count": 58,
   "metadata": {
    "collapsed": false
   },
   "outputs": [],
   "source": [
    "g = df.groupby('id')"
   ]
  },
  {
   "cell_type": "code",
   "execution_count": 59,
   "metadata": {
    "collapsed": false
   },
   "outputs": [],
   "source": [
    "# temp = []\n",
    "# for file_id, df_c in tqdm(g):\n",
    "#     temp += [(file_id, df_c)]"
   ]
  },
  {
   "cell_type": "code",
   "execution_count": 60,
   "metadata": {
    "collapsed": false
   },
   "outputs": [],
   "source": [
    "# def do_nms((file_id, df_c)):\n",
    "#     scores_input = tf.placeholder(tf.float32, shape=(None, ))\n",
    "#     bboxes_input = tf.placeholder(tf.float32, shape=(None, 4))\n",
    "#     bboxes_selection = tf.image.non_max_suppression(bboxes_input, scores_input, max_output_size=99, iou_threshold=0.2)\n",
    "\n",
    "#     selected_bboxes = tf.gather(bboxes_input, bboxes_selection)\n",
    "#     sess = tf.Session()\n",
    "#     scores = df_c['confidence']\n",
    "#     bboxes = df_c[['x_min', 'y_min', 'x_max', 'y_max']].values\n",
    "    \n",
    "#     result_bboxes = sess.run(selected_bboxes, feed_dict={scores_input: scores, bboxes_input: bboxes})\n",
    "#     selected_scores = sess.run(tf.gather(scores_input, bboxes_selection), feed_dict={scores_input: scores, bboxes_input: bboxes})\n",
    "    \n",
    "#     df = pd.DataFrame(result_bboxes, columns = ['x_min', 'y_min', 'x_max', 'y_max'])\n",
    "# #     df['id'] = file_id\n",
    "# #     df['confidence'] = selected_scores\n",
    "    \n",
    "# #     temp += [df]\n",
    "    \n",
    "#     sess.close()\n",
    "#     return (df, file_id, selected_scores)"
   ]
  },
  {
   "cell_type": "code",
   "execution_count": 61,
   "metadata": {
    "collapsed": false
   },
   "outputs": [],
   "source": [
    "# result = Parallel(n_jobs=8)(delayed(do_nms)(r) for r in temp)"
   ]
  },
  {
   "cell_type": "code",
   "execution_count": 62,
   "metadata": {
    "collapsed": false
   },
   "outputs": [],
   "source": [
    "# result = [do_nms(x) for x in tqdm(temp)]"
   ]
  },
  {
   "cell_type": "code",
   "execution_count": 63,
   "metadata": {
    "collapsed": true
   },
   "outputs": [],
   "source": [
    "def nms(name_groups):\n",
    "    config = tf.ConfigProto()\n",
    "#     config.gpu_options.allow_growth = True\n",
    "    dfs = []n\n",
    "    \n",
    "    with tf.Session(config=config) as sess:\n",
    "        for idx, name_group in enumerate(name_groups):\n",
    "#             if idx % 100 == 0:\n",
    "#                 print(\"in process {} progress {} of {}\".format(current_process(), idx, len(name_groups)))\n",
    "            name, group = name_group\n",
    "            boxes_ph = tf.placeholder(np.float32, (None, 4), name='boxes')\n",
    "            scores_ph = tf.placeholder(np.float32, (None, ), name='confs')\n",
    "            \n",
    "            boxes = group[['x_min', 'y_min', 'x_max', 'y_max']]\n",
    "            scores = group['confidence']\n",
    "            res = sess.run(tf.image.non_max_suppression(boxes_ph, scores_ph, 1000, 0.2),\n",
    "                           feed_dict={boxes_ph: boxes, scores_ph: scores})\n",
    "            r = group.values[res]\n",
    "            dfs.append(r)\n",
    "    return dfs"
   ]
  },
  {
   "cell_type": "code",
   "execution_count": 64,
   "metadata": {
    "collapsed": false
   },
   "outputs": [],
   "source": [
    "# a0 = nms(chunks[0])"
   ]
  },
  {
   "cell_type": "code",
   "execution_count": 65,
   "metadata": {
    "collapsed": false
   },
   "outputs": [],
   "source": [
    "# nms(chunks[0])"
   ]
  },
  {
   "cell_type": "code",
   "execution_count": 66,
   "metadata": {
    "collapsed": true
   },
   "outputs": [],
   "source": [
    "num_cpu = cpu_count()"
   ]
  },
  {
   "cell_type": "code",
   "execution_count": 67,
   "metadata": {
    "collapsed": false
   },
   "outputs": [],
   "source": [
    "grouped = df.groupby('id')\n",
    "grouped = [(name, group) for name, group in grouped]\n",
    "l = len(grouped)\n",
    "sp = l // num_cpu\n",
    "chunks = [grouped[i:i + sp] for i in range(0, l, sp)]\n"
   ]
  },
  {
   "cell_type": "code",
   "execution_count": 68,
   "metadata": {
    "collapsed": false
   },
   "outputs": [],
   "source": [
    "result = Parallel(n_jobs=8)(delayed(nms)(r) for r in chunks)"
   ]
  },
  {
   "cell_type": "code",
   "execution_count": 69,
   "metadata": {
    "collapsed": false
   },
   "outputs": [
    {
     "data": {
      "text/plain": [
       "9"
      ]
     },
     "execution_count": 69,
     "metadata": {},
     "output_type": "execute_result"
    }
   ],
   "source": [
    "len(result)"
   ]
  },
  {
   "cell_type": "code",
   "execution_count": 77,
   "metadata": {
    "collapsed": false
   },
   "outputs": [
    {
     "data": {
      "text/html": [
       "<div>\n",
       "<table border=\"1\" class=\"dataframe\">\n",
       "  <thead>\n",
       "    <tr style=\"text-align: right;\">\n",
       "      <th></th>\n",
       "      <th>0</th>\n",
       "      <th>1</th>\n",
       "      <th>2</th>\n",
       "      <th>3</th>\n",
       "      <th>4</th>\n",
       "      <th>5</th>\n",
       "      <th>6</th>\n",
       "      <th>7</th>\n",
       "      <th>8</th>\n",
       "      <th>9</th>\n",
       "      <th>10</th>\n",
       "    </tr>\n",
       "  </thead>\n",
       "  <tbody>\n",
       "    <tr>\n",
       "      <th>0</th>\n",
       "      <td>0_975_975</td>\n",
       "      <td>0.999</td>\n",
       "      <td>1663.4</td>\n",
       "      <td>1918.6</td>\n",
       "      <td>1703.4</td>\n",
       "      <td>1961.9</td>\n",
       "      <td>b</td>\n",
       "      <td>975</td>\n",
       "      <td>975</td>\n",
       "      <td>0</td>\n",
       "      <td>0_b</td>\n",
       "    </tr>\n",
       "    <tr>\n",
       "      <th>1</th>\n",
       "      <td>0_975_975</td>\n",
       "      <td>0.998</td>\n",
       "      <td>1844.1</td>\n",
       "      <td>1692</td>\n",
       "      <td>1888</td>\n",
       "      <td>1736</td>\n",
       "      <td>b</td>\n",
       "      <td>975</td>\n",
       "      <td>975</td>\n",
       "      <td>0</td>\n",
       "      <td>0_b</td>\n",
       "    </tr>\n",
       "    <tr>\n",
       "      <th>2</th>\n",
       "      <td>0_975_975</td>\n",
       "      <td>0.997</td>\n",
       "      <td>1549</td>\n",
       "      <td>1679.3</td>\n",
       "      <td>1584.5</td>\n",
       "      <td>1749.7</td>\n",
       "      <td>b</td>\n",
       "      <td>975</td>\n",
       "      <td>975</td>\n",
       "      <td>0</td>\n",
       "      <td>0_b</td>\n",
       "    </tr>\n",
       "    <tr>\n",
       "      <th>3</th>\n",
       "      <td>0_975_975</td>\n",
       "      <td>0.991</td>\n",
       "      <td>1515</td>\n",
       "      <td>1716.6</td>\n",
       "      <td>1549.8</td>\n",
       "      <td>1772.2</td>\n",
       "      <td>b</td>\n",
       "      <td>975</td>\n",
       "      <td>975</td>\n",
       "      <td>0</td>\n",
       "      <td>0_b</td>\n",
       "    </tr>\n",
       "    <tr>\n",
       "      <th>4</th>\n",
       "      <td>0_1950_975</td>\n",
       "      <td>0.989</td>\n",
       "      <td>2012</td>\n",
       "      <td>1509</td>\n",
       "      <td>2084.9</td>\n",
       "      <td>1547.4</td>\n",
       "      <td>b</td>\n",
       "      <td>1950</td>\n",
       "      <td>975</td>\n",
       "      <td>0</td>\n",
       "      <td>0_b</td>\n",
       "    </tr>\n",
       "    <tr>\n",
       "      <th>5</th>\n",
       "      <td>0_975_975</td>\n",
       "      <td>0.987</td>\n",
       "      <td>1528.7</td>\n",
       "      <td>1905</td>\n",
       "      <td>1561</td>\n",
       "      <td>1973.7</td>\n",
       "      <td>b</td>\n",
       "      <td>975</td>\n",
       "      <td>975</td>\n",
       "      <td>0</td>\n",
       "      <td>0_b</td>\n",
       "    </tr>\n",
       "    <tr>\n",
       "      <th>6</th>\n",
       "      <td>0_975_975</td>\n",
       "      <td>0.984</td>\n",
       "      <td>1550.4</td>\n",
       "      <td>1767.2</td>\n",
       "      <td>1608.2</td>\n",
       "      <td>1834.6</td>\n",
       "      <td>b</td>\n",
       "      <td>975</td>\n",
       "      <td>975</td>\n",
       "      <td>0</td>\n",
       "      <td>0_b</td>\n",
       "    </tr>\n",
       "    <tr>\n",
       "      <th>7</th>\n",
       "      <td>0_975_975</td>\n",
       "      <td>0.982</td>\n",
       "      <td>1840.2</td>\n",
       "      <td>1720.2</td>\n",
       "      <td>1863</td>\n",
       "      <td>1775.8</td>\n",
       "      <td>b</td>\n",
       "      <td>975</td>\n",
       "      <td>975</td>\n",
       "      <td>0</td>\n",
       "      <td>0_b</td>\n",
       "    </tr>\n",
       "    <tr>\n",
       "      <th>8</th>\n",
       "      <td>0_975_975</td>\n",
       "      <td>0.978</td>\n",
       "      <td>1567.9</td>\n",
       "      <td>1585.1</td>\n",
       "      <td>1605.8</td>\n",
       "      <td>1667</td>\n",
       "      <td>b</td>\n",
       "      <td>975</td>\n",
       "      <td>975</td>\n",
       "      <td>0</td>\n",
       "      <td>0_b</td>\n",
       "    </tr>\n",
       "    <tr>\n",
       "      <th>9</th>\n",
       "      <td>0_975_975</td>\n",
       "      <td>0.977</td>\n",
       "      <td>1530.9</td>\n",
       "      <td>1745.4</td>\n",
       "      <td>1558</td>\n",
       "      <td>1801</td>\n",
       "      <td>b</td>\n",
       "      <td>975</td>\n",
       "      <td>975</td>\n",
       "      <td>0</td>\n",
       "      <td>0_b</td>\n",
       "    </tr>\n",
       "    <tr>\n",
       "      <th>10</th>\n",
       "      <td>0_975_975</td>\n",
       "      <td>0.971</td>\n",
       "      <td>1841.6</td>\n",
       "      <td>1668.9</td>\n",
       "      <td>1876.3</td>\n",
       "      <td>1701.8</td>\n",
       "      <td>b</td>\n",
       "      <td>975</td>\n",
       "      <td>975</td>\n",
       "      <td>0</td>\n",
       "      <td>0_b</td>\n",
       "    </tr>\n",
       "    <tr>\n",
       "      <th>11</th>\n",
       "      <td>0_975_975</td>\n",
       "      <td>0.971</td>\n",
       "      <td>1780.1</td>\n",
       "      <td>1707.5</td>\n",
       "      <td>1803.2</td>\n",
       "      <td>1753.6</td>\n",
       "      <td>b</td>\n",
       "      <td>975</td>\n",
       "      <td>975</td>\n",
       "      <td>0</td>\n",
       "      <td>0_b</td>\n",
       "    </tr>\n",
       "    <tr>\n",
       "      <th>12</th>\n",
       "      <td>0_975_975</td>\n",
       "      <td>0.961</td>\n",
       "      <td>1610.1</td>\n",
       "      <td>1817.9</td>\n",
       "      <td>1678.1</td>\n",
       "      <td>1850.4</td>\n",
       "      <td>b</td>\n",
       "      <td>975</td>\n",
       "      <td>975</td>\n",
       "      <td>0</td>\n",
       "      <td>0_b</td>\n",
       "    </tr>\n",
       "    <tr>\n",
       "      <th>13</th>\n",
       "      <td>0_975_975</td>\n",
       "      <td>0.958</td>\n",
       "      <td>1572.7</td>\n",
       "      <td>1848.2</td>\n",
       "      <td>1646.9</td>\n",
       "      <td>1876.2</td>\n",
       "      <td>b</td>\n",
       "      <td>975</td>\n",
       "      <td>975</td>\n",
       "      <td>0</td>\n",
       "      <td>0_b</td>\n",
       "    </tr>\n",
       "    <tr>\n",
       "      <th>14</th>\n",
       "      <td>0_975_975</td>\n",
       "      <td>0.899</td>\n",
       "      <td>1582.2</td>\n",
       "      <td>1874.4</td>\n",
       "      <td>1619.4</td>\n",
       "      <td>1949.8</td>\n",
       "      <td>b</td>\n",
       "      <td>975</td>\n",
       "      <td>975</td>\n",
       "      <td>0</td>\n",
       "      <td>0_b</td>\n",
       "    </tr>\n",
       "    <tr>\n",
       "      <th>15</th>\n",
       "      <td>0_975_975</td>\n",
       "      <td>0.872</td>\n",
       "      <td>1869.3</td>\n",
       "      <td>1701.8</td>\n",
       "      <td>1949.6</td>\n",
       "      <td>1735.4</td>\n",
       "      <td>b</td>\n",
       "      <td>975</td>\n",
       "      <td>975</td>\n",
       "      <td>0</td>\n",
       "      <td>0_b</td>\n",
       "    </tr>\n",
       "    <tr>\n",
       "      <th>16</th>\n",
       "      <td>0_975_975</td>\n",
       "      <td>0.861</td>\n",
       "      <td>1603.2</td>\n",
       "      <td>1629.4</td>\n",
       "      <td>1640.1</td>\n",
       "      <td>1703.4</td>\n",
       "      <td>b</td>\n",
       "      <td>975</td>\n",
       "      <td>975</td>\n",
       "      <td>0</td>\n",
       "      <td>0_b</td>\n",
       "    </tr>\n",
       "    <tr>\n",
       "      <th>17</th>\n",
       "      <td>0_975_975</td>\n",
       "      <td>0.781</td>\n",
       "      <td>1925.5</td>\n",
       "      <td>1320.6</td>\n",
       "      <td>1955.7</td>\n",
       "      <td>1349.6</td>\n",
       "      <td>b</td>\n",
       "      <td>975</td>\n",
       "      <td>975</td>\n",
       "      <td>0</td>\n",
       "      <td>0_b</td>\n",
       "    </tr>\n",
       "    <tr>\n",
       "      <th>18</th>\n",
       "      <td>0_975_975</td>\n",
       "      <td>0.758</td>\n",
       "      <td>1851.9</td>\n",
       "      <td>1776.5</td>\n",
       "      <td>1893.9</td>\n",
       "      <td>1845.6</td>\n",
       "      <td>b</td>\n",
       "      <td>975</td>\n",
       "      <td>975</td>\n",
       "      <td>0</td>\n",
       "      <td>0_b</td>\n",
       "    </tr>\n",
       "    <tr>\n",
       "      <th>19</th>\n",
       "      <td>0_975_975</td>\n",
       "      <td>0.7</td>\n",
       "      <td>1452.3</td>\n",
       "      <td>1568.7</td>\n",
       "      <td>1489.2</td>\n",
       "      <td>1621.7</td>\n",
       "      <td>b</td>\n",
       "      <td>975</td>\n",
       "      <td>975</td>\n",
       "      <td>0</td>\n",
       "      <td>0_b</td>\n",
       "    </tr>\n",
       "    <tr>\n",
       "      <th>20</th>\n",
       "      <td>0_975_975</td>\n",
       "      <td>0.65</td>\n",
       "      <td>1800.2</td>\n",
       "      <td>1706.1</td>\n",
       "      <td>1828.8</td>\n",
       "      <td>1769.2</td>\n",
       "      <td>b</td>\n",
       "      <td>975</td>\n",
       "      <td>975</td>\n",
       "      <td>0</td>\n",
       "      <td>0_b</td>\n",
       "    </tr>\n",
       "    <tr>\n",
       "      <th>21</th>\n",
       "      <td>0_975_975</td>\n",
       "      <td>0.649</td>\n",
       "      <td>1621.8</td>\n",
       "      <td>1876.4</td>\n",
       "      <td>1682.7</td>\n",
       "      <td>1907.5</td>\n",
       "      <td>b</td>\n",
       "      <td>975</td>\n",
       "      <td>975</td>\n",
       "      <td>0</td>\n",
       "      <td>0_b</td>\n",
       "    </tr>\n",
       "    <tr>\n",
       "      <th>22</th>\n",
       "      <td>0_975_975</td>\n",
       "      <td>0.64</td>\n",
       "      <td>1785.5</td>\n",
       "      <td>1665.3</td>\n",
       "      <td>1835.8</td>\n",
       "      <td>1696.3</td>\n",
       "      <td>b</td>\n",
       "      <td>975</td>\n",
       "      <td>975</td>\n",
       "      <td>0</td>\n",
       "      <td>0_b</td>\n",
       "    </tr>\n",
       "  </tbody>\n",
       "</table>\n",
       "</div>"
      ],
      "text/plain": [
       "            0      1       2       3       4       5  6     7    8  9    10\n",
       "0    0_975_975  0.999  1663.4  1918.6  1703.4  1961.9  b   975  975  0  0_b\n",
       "1    0_975_975  0.998  1844.1    1692    1888    1736  b   975  975  0  0_b\n",
       "2    0_975_975  0.997    1549  1679.3  1584.5  1749.7  b   975  975  0  0_b\n",
       "3    0_975_975  0.991    1515  1716.6  1549.8  1772.2  b   975  975  0  0_b\n",
       "4   0_1950_975  0.989    2012    1509  2084.9  1547.4  b  1950  975  0  0_b\n",
       "5    0_975_975  0.987  1528.7    1905    1561  1973.7  b   975  975  0  0_b\n",
       "6    0_975_975  0.984  1550.4  1767.2  1608.2  1834.6  b   975  975  0  0_b\n",
       "7    0_975_975  0.982  1840.2  1720.2    1863  1775.8  b   975  975  0  0_b\n",
       "8    0_975_975  0.978  1567.9  1585.1  1605.8    1667  b   975  975  0  0_b\n",
       "9    0_975_975  0.977  1530.9  1745.4    1558    1801  b   975  975  0  0_b\n",
       "10   0_975_975  0.971  1841.6  1668.9  1876.3  1701.8  b   975  975  0  0_b\n",
       "11   0_975_975  0.971  1780.1  1707.5  1803.2  1753.6  b   975  975  0  0_b\n",
       "12   0_975_975  0.961  1610.1  1817.9  1678.1  1850.4  b   975  975  0  0_b\n",
       "13   0_975_975  0.958  1572.7  1848.2  1646.9  1876.2  b   975  975  0  0_b\n",
       "14   0_975_975  0.899  1582.2  1874.4  1619.4  1949.8  b   975  975  0  0_b\n",
       "15   0_975_975  0.872  1869.3  1701.8  1949.6  1735.4  b   975  975  0  0_b\n",
       "16   0_975_975  0.861  1603.2  1629.4  1640.1  1703.4  b   975  975  0  0_b\n",
       "17   0_975_975  0.781  1925.5  1320.6  1955.7  1349.6  b   975  975  0  0_b\n",
       "18   0_975_975  0.758  1851.9  1776.5  1893.9  1845.6  b   975  975  0  0_b\n",
       "19   0_975_975    0.7  1452.3  1568.7  1489.2  1621.7  b   975  975  0  0_b\n",
       "20   0_975_975   0.65  1800.2  1706.1  1828.8  1769.2  b   975  975  0  0_b\n",
       "21   0_975_975  0.649  1621.8  1876.4  1682.7  1907.5  b   975  975  0  0_b\n",
       "22   0_975_975   0.64  1785.5  1665.3  1835.8  1696.3  b   975  975  0  0_b"
      ]
     },
     "execution_count": 77,
     "metadata": {},
     "output_type": "execute_result"
    }
   ],
   "source": [
    "pd.DataFrame(result[0][0])"
   ]
  },
  {
   "cell_type": "code",
   "execution_count": 80,
   "metadata": {
    "collapsed": false
   },
   "outputs": [
    {
     "name": "stderr",
     "output_type": "stream",
     "text": [
      "100%|██████████| 9/9 [00:06<00:00,  1.36it/s]\n"
     ]
    }
   ],
   "source": [
    "tmp = []\n",
    "for c in tqdm(result):\n",
    "    for r in c:       \n",
    "        \n",
    "        tmp += [pd.DataFrame(r)]"
   ]
  },
  {
   "cell_type": "code",
   "execution_count": 90,
   "metadata": {
    "collapsed": true
   },
   "outputs": [],
   "source": [
    "df1 = pd.concat(tmp).reset_index(drop=True)"
   ]
  },
  {
   "cell_type": "code",
   "execution_count": 91,
   "metadata": {
    "collapsed": false
   },
   "outputs": [],
   "source": [
    "df1.columns = df.columns"
   ]
  },
  {
   "cell_type": "code",
   "execution_count": 92,
   "metadata": {
    "collapsed": false
   },
   "outputs": [
    {
     "data": {
      "text/html": [
       "<div>\n",
       "<table border=\"1\" class=\"dataframe\">\n",
       "  <thead>\n",
       "    <tr style=\"text-align: right;\">\n",
       "      <th></th>\n",
       "      <th>file_index</th>\n",
       "      <th>confidence</th>\n",
       "      <th>x_min</th>\n",
       "      <th>y_min</th>\n",
       "      <th>x_max</th>\n",
       "      <th>y_max</th>\n",
       "      <th>class_name</th>\n",
       "      <th>x_shift</th>\n",
       "      <th>y_shift</th>\n",
       "      <th>test_id</th>\n",
       "      <th>id</th>\n",
       "    </tr>\n",
       "  </thead>\n",
       "  <tbody>\n",
       "    <tr>\n",
       "      <th>0</th>\n",
       "      <td>0_975_975</td>\n",
       "      <td>0.999</td>\n",
       "      <td>1663.4</td>\n",
       "      <td>1918.6</td>\n",
       "      <td>1703.4</td>\n",
       "      <td>1961.9</td>\n",
       "      <td>b</td>\n",
       "      <td>975</td>\n",
       "      <td>975</td>\n",
       "      <td>0</td>\n",
       "      <td>0_b</td>\n",
       "    </tr>\n",
       "    <tr>\n",
       "      <th>1</th>\n",
       "      <td>0_975_975</td>\n",
       "      <td>0.998</td>\n",
       "      <td>1844.1</td>\n",
       "      <td>1692</td>\n",
       "      <td>1888</td>\n",
       "      <td>1736</td>\n",
       "      <td>b</td>\n",
       "      <td>975</td>\n",
       "      <td>975</td>\n",
       "      <td>0</td>\n",
       "      <td>0_b</td>\n",
       "    </tr>\n",
       "    <tr>\n",
       "      <th>2</th>\n",
       "      <td>0_975_975</td>\n",
       "      <td>0.997</td>\n",
       "      <td>1549</td>\n",
       "      <td>1679.3</td>\n",
       "      <td>1584.5</td>\n",
       "      <td>1749.7</td>\n",
       "      <td>b</td>\n",
       "      <td>975</td>\n",
       "      <td>975</td>\n",
       "      <td>0</td>\n",
       "      <td>0_b</td>\n",
       "    </tr>\n",
       "    <tr>\n",
       "      <th>3</th>\n",
       "      <td>0_975_975</td>\n",
       "      <td>0.991</td>\n",
       "      <td>1515</td>\n",
       "      <td>1716.6</td>\n",
       "      <td>1549.8</td>\n",
       "      <td>1772.2</td>\n",
       "      <td>b</td>\n",
       "      <td>975</td>\n",
       "      <td>975</td>\n",
       "      <td>0</td>\n",
       "      <td>0_b</td>\n",
       "    </tr>\n",
       "    <tr>\n",
       "      <th>4</th>\n",
       "      <td>0_1950_975</td>\n",
       "      <td>0.989</td>\n",
       "      <td>2012</td>\n",
       "      <td>1509</td>\n",
       "      <td>2084.9</td>\n",
       "      <td>1547.4</td>\n",
       "      <td>b</td>\n",
       "      <td>1950</td>\n",
       "      <td>975</td>\n",
       "      <td>0</td>\n",
       "      <td>0_b</td>\n",
       "    </tr>\n",
       "  </tbody>\n",
       "</table>\n",
       "</div>"
      ],
      "text/plain": [
       "   file_index confidence   x_min   y_min   x_max   y_max class_name x_shift  \\\n",
       "0   0_975_975      0.999  1663.4  1918.6  1703.4  1961.9          b     975   \n",
       "1   0_975_975      0.998  1844.1    1692    1888    1736          b     975   \n",
       "2   0_975_975      0.997    1549  1679.3  1584.5  1749.7          b     975   \n",
       "3   0_975_975      0.991    1515  1716.6  1549.8  1772.2          b     975   \n",
       "4  0_1950_975      0.989    2012    1509  2084.9  1547.4          b    1950   \n",
       "\n",
       "  y_shift test_id   id  \n",
       "0     975       0  0_b  \n",
       "1     975       0  0_b  \n",
       "2     975       0  0_b  \n",
       "3     975       0  0_b  \n",
       "4     975       0  0_b  "
      ]
     },
     "execution_count": 92,
     "metadata": {},
     "output_type": "execute_result"
    }
   ],
   "source": [
    "df1.head()"
   ]
  },
  {
   "cell_type": "code",
   "execution_count": 122,
   "metadata": {
    "collapsed": false
   },
   "outputs": [],
   "source": [
    "df1['file_name'] = df1['test_id'].astype(str) + '.jpg'"
   ]
  },
  {
   "cell_type": "code",
   "execution_count": 125,
   "metadata": {
    "collapsed": false
   },
   "outputs": [
    {
     "data": {
      "text/html": [
       "<div>\n",
       "<table border=\"1\" class=\"dataframe\">\n",
       "  <thead>\n",
       "    <tr style=\"text-align: right;\">\n",
       "      <th></th>\n",
       "      <th>file_index</th>\n",
       "      <th>confidence</th>\n",
       "      <th>x_min</th>\n",
       "      <th>y_min</th>\n",
       "      <th>x_max</th>\n",
       "      <th>y_max</th>\n",
       "      <th>class_name</th>\n",
       "      <th>x_shift</th>\n",
       "      <th>y_shift</th>\n",
       "      <th>test_id</th>\n",
       "      <th>id</th>\n",
       "      <th>file_name</th>\n",
       "    </tr>\n",
       "  </thead>\n",
       "  <tbody>\n",
       "    <tr>\n",
       "      <th>0</th>\n",
       "      <td>0_975_975</td>\n",
       "      <td>0.999</td>\n",
       "      <td>1663.4</td>\n",
       "      <td>1918.6</td>\n",
       "      <td>1703.4</td>\n",
       "      <td>1961.9</td>\n",
       "      <td>b</td>\n",
       "      <td>975</td>\n",
       "      <td>975</td>\n",
       "      <td>0</td>\n",
       "      <td>0_b</td>\n",
       "      <td>0.jpg</td>\n",
       "    </tr>\n",
       "    <tr>\n",
       "      <th>1</th>\n",
       "      <td>0_975_975</td>\n",
       "      <td>0.998</td>\n",
       "      <td>1844.1</td>\n",
       "      <td>1692</td>\n",
       "      <td>1888</td>\n",
       "      <td>1736</td>\n",
       "      <td>b</td>\n",
       "      <td>975</td>\n",
       "      <td>975</td>\n",
       "      <td>0</td>\n",
       "      <td>0_b</td>\n",
       "      <td>0.jpg</td>\n",
       "    </tr>\n",
       "    <tr>\n",
       "      <th>2</th>\n",
       "      <td>0_975_975</td>\n",
       "      <td>0.997</td>\n",
       "      <td>1549</td>\n",
       "      <td>1679.3</td>\n",
       "      <td>1584.5</td>\n",
       "      <td>1749.7</td>\n",
       "      <td>b</td>\n",
       "      <td>975</td>\n",
       "      <td>975</td>\n",
       "      <td>0</td>\n",
       "      <td>0_b</td>\n",
       "      <td>0.jpg</td>\n",
       "    </tr>\n",
       "    <tr>\n",
       "      <th>3</th>\n",
       "      <td>0_975_975</td>\n",
       "      <td>0.991</td>\n",
       "      <td>1515</td>\n",
       "      <td>1716.6</td>\n",
       "      <td>1549.8</td>\n",
       "      <td>1772.2</td>\n",
       "      <td>b</td>\n",
       "      <td>975</td>\n",
       "      <td>975</td>\n",
       "      <td>0</td>\n",
       "      <td>0_b</td>\n",
       "      <td>0.jpg</td>\n",
       "    </tr>\n",
       "    <tr>\n",
       "      <th>4</th>\n",
       "      <td>0_1950_975</td>\n",
       "      <td>0.989</td>\n",
       "      <td>2012</td>\n",
       "      <td>1509</td>\n",
       "      <td>2084.9</td>\n",
       "      <td>1547.4</td>\n",
       "      <td>b</td>\n",
       "      <td>1950</td>\n",
       "      <td>975</td>\n",
       "      <td>0</td>\n",
       "      <td>0_b</td>\n",
       "      <td>0.jpg</td>\n",
       "    </tr>\n",
       "  </tbody>\n",
       "</table>\n",
       "</div>"
      ],
      "text/plain": [
       "   file_index confidence   x_min   y_min   x_max   y_max class_name x_shift  \\\n",
       "0   0_975_975      0.999  1663.4  1918.6  1703.4  1961.9          b     975   \n",
       "1   0_975_975      0.998  1844.1    1692    1888    1736          b     975   \n",
       "2   0_975_975      0.997    1549  1679.3  1584.5  1749.7          b     975   \n",
       "3   0_975_975      0.991    1515  1716.6  1549.8  1772.2          b     975   \n",
       "4  0_1950_975      0.989    2012    1509  2084.9  1547.4          b    1950   \n",
       "\n",
       "  y_shift test_id   id file_name  \n",
       "0     975       0  0_b     0.jpg  \n",
       "1     975       0  0_b     0.jpg  \n",
       "2     975       0  0_b     0.jpg  \n",
       "3     975       0  0_b     0.jpg  \n",
       "4     975       0  0_b     0.jpg  "
      ]
     },
     "execution_count": 125,
     "metadata": {},
     "output_type": "execute_result"
    }
   ],
   "source": [
    "df1.head()"
   ]
  },
  {
   "cell_type": "code",
   "execution_count": null,
   "metadata": {
    "collapsed": true
   },
   "outputs": [],
   "source": [
    "colors = {'r': (0, 0, 255),\n",
    "#          'green': (0, 255, 0),\n",
    "         'bl': (255, 0, 0),\n",
    "         'p': (127, 0, 255),\n",
    "#          'l_blue': (255, 255, 0),\n",
    "#          'd_purple': (255, 0, 127),\n",
    "#          'yellow': (0, 255, 255),\n",
    "#          'orange': (0, 128, 255),\n",
    "#          'l_green': (51, 102, 0)\n",
    "         }"
   ]
  },
  {
   "cell_type": "code",
   "execution_count": 123,
   "metadata": {
    "collapsed": true
   },
   "outputs": [],
   "source": [
    "font = cv2.FONT_HERSHEY_SIMPLEX"
   ]
  },
  {
   "cell_type": "code",
   "execution_count": 126,
   "metadata": {
    "collapsed": false
   },
   "outputs": [
    {
     "name": "stderr",
     "output_type": "stream",
     "text": [
      "  0%|          | 0/10 [00:00<?, ?it/s]\n"
     ]
    },
    {
     "ename": "NameError",
     "evalue": "name 'colors' is not defined",
     "output_type": "error",
     "traceback": [
      "\u001b[0;31m---------------------------------------------------------------------\u001b[0m",
      "\u001b[0;31mNameError\u001b[0m                           Traceback (most recent call last)",
      "\u001b[0;32m<ipython-input-126-f3e6da130551>\u001b[0m in \u001b[0;36m<module>\u001b[0;34m()\u001b[0m\n\u001b[1;32m      8\u001b[0m \u001b[0;31m#         for j, value in enumerate(boxes):\u001b[0m\u001b[0;34m\u001b[0m\u001b[0;34m\u001b[0m\u001b[0m\n\u001b[1;32m      9\u001b[0m         \u001b[0;34m(\u001b[0m\u001b[0mx_min\u001b[0m\u001b[0;34m,\u001b[0m \u001b[0my_min\u001b[0m\u001b[0;34m,\u001b[0m \u001b[0mx_max\u001b[0m\u001b[0;34m,\u001b[0m \u001b[0my_max\u001b[0m\u001b[0;34m)\u001b[0m \u001b[0;34m=\u001b[0m \u001b[0mboxes\u001b[0m\u001b[0;34m\u001b[0m\u001b[0m\n\u001b[0;32m---> 10\u001b[0;31m         \u001b[0mimg\u001b[0m \u001b[0;34m=\u001b[0m \u001b[0mcv2\u001b[0m\u001b[0;34m.\u001b[0m\u001b[0mrectangle\u001b[0m\u001b[0;34m(\u001b[0m\u001b[0mimg\u001b[0m\u001b[0;34m,\u001b[0m \u001b[0;34m(\u001b[0m\u001b[0mx_min\u001b[0m\u001b[0;34m,\u001b[0m \u001b[0my_min\u001b[0m\u001b[0;34m)\u001b[0m\u001b[0;34m,\u001b[0m \u001b[0;34m(\u001b[0m\u001b[0mx_max\u001b[0m\u001b[0;34m,\u001b[0m \u001b[0my_max\u001b[0m\u001b[0;34m)\u001b[0m\u001b[0;34m,\u001b[0m \u001b[0mcolors\u001b[0m\u001b[0;34m[\u001b[0m\u001b[0mclass_name\u001b[0m\u001b[0;34m]\u001b[0m\u001b[0;34m,\u001b[0m \u001b[0;36m2\u001b[0m\u001b[0;34m)\u001b[0m\u001b[0;34m\u001b[0m\u001b[0m\n\u001b[0m\u001b[1;32m     11\u001b[0m         \u001b[0mimg\u001b[0m \u001b[0;34m=\u001b[0m \u001b[0mcv2\u001b[0m\u001b[0;34m.\u001b[0m\u001b[0mputText\u001b[0m\u001b[0;34m(\u001b[0m\u001b[0mimg\u001b[0m\u001b[0;34m,\u001b[0m \u001b[0mstr\u001b[0m\u001b[0;34m(\u001b[0m\u001b[0mint\u001b[0m\u001b[0;34m(\u001b[0m\u001b[0;36m100\u001b[0m \u001b[0;34m*\u001b[0m \u001b[0mprobs\u001b[0m\u001b[0;34m)\u001b[0m\u001b[0;34m)\u001b[0m\u001b[0;34m,\u001b[0m \u001b[0;34m(\u001b[0m\u001b[0mx_max\u001b[0m\u001b[0;34m,\u001b[0m \u001b[0my_min\u001b[0m\u001b[0;34m)\u001b[0m\u001b[0;34m,\u001b[0m \u001b[0mfont\u001b[0m\u001b[0;34m,\u001b[0m \u001b[0;36m1\u001b[0m\u001b[0;34m,\u001b[0m \u001b[0mcolors\u001b[0m\u001b[0;34m[\u001b[0m\u001b[0mclass_name\u001b[0m\u001b[0;34m]\u001b[0m\u001b[0;34m,\u001b[0m \u001b[0;36m2\u001b[0m\u001b[0;34m)\u001b[0m\u001b[0;34m\u001b[0m\u001b[0m\n\u001b[1;32m     12\u001b[0m     \u001b[0mcv2\u001b[0m\u001b[0;34m.\u001b[0m\u001b[0mimwrite\u001b[0m\u001b[0;34m(\u001b[0m\u001b[0mos\u001b[0m\u001b[0;34m.\u001b[0m\u001b[0mpath\u001b[0m\u001b[0;34m.\u001b[0m\u001b[0mjoin\u001b[0m\u001b[0;34m(\u001b[0m\u001b[0;34m'test_preds'\u001b[0m\u001b[0;34m,\u001b[0m \u001b[0mfile_name\u001b[0m\u001b[0;34m)\u001b[0m\u001b[0;34m,\u001b[0m \u001b[0mimg\u001b[0m\u001b[0;34m)\u001b[0m\u001b[0;34m\u001b[0m\u001b[0m\n",
      "\u001b[0;31mNameError\u001b[0m: name 'colors' is not defined"
     ]
    }
   ],
   "source": [
    "for file_name in tqdm(df1['file_name'].values[:10]):\n",
    "    img = cv2.imread(os.path.join('/home/vladimir/workspace/data/kaggle_seals/Test', file_name))\n",
    "    df_c = df1[df1['file_name'] == file_name]\n",
    "    for i in df_c.index:\n",
    "        class_name = df_c.loc[i, 'class_name']\n",
    "        probs = df_c.loc[i, 'confidence']        \n",
    "        boxes = df_c.loc[i, ['x_min', 'y_min', 'x_max', 'y_max']].astype(int).values        \n",
    "#         for j, value in enumerate(boxes):            \n",
    "        (x_min, y_min, x_max, y_max) = boxes\n",
    "        img = cv2.rectangle(img, (x_min, y_min), (x_max, y_max), colors[class_name], 2)\n",
    "        img = cv2.putText(img, str(int(100 * probs)), (x_max, y_min), font, 1, colors[class_name], 2)\n",
    "    cv2.imwrite(os.path.join('test_preds', file_name), img)"
   ]
  },
  {
   "cell_type": "code",
   "execution_count": null,
   "metadata": {
    "collapsed": false
   },
   "outputs": [],
   "source": [
    "df.head()"
   ]
  },
  {
   "cell_type": "code",
   "execution_count": null,
   "metadata": {
    "collapsed": true
   },
   "outputs": [],
   "source": [
    "# df['x_min'] = df['x_min'].astype(int)\n",
    "# df['y_min'] = df['y_min'].astype(int)\n",
    "# df['x_max'] = df['x_max'].astype(int)\n",
    "# df['y_max'] = df['y_max'].astype(int)"
   ]
  },
  {
   "cell_type": "code",
   "execution_count": null,
   "metadata": {
    "collapsed": true
   },
   "outputs": [],
   "source": [
    "sample = pd.read_csv('../data/sampleSubmission.csv')"
   ]
  },
  {
   "cell_type": "code",
   "execution_count": null,
   "metadata": {
    "collapsed": true
   },
   "outputs": [],
   "source": [
    "def helper(x):\n",
    "    a = x['filtered_boxes']    \n",
    "    result = []    \n",
    "    for b in a:        \n",
    "        result += ['{x}:{y}'.format(x=int(np.mean([b[0], b[2]])), \n",
    "                                      y=int(np.mean([b[1], b[3]])))]\n",
    "    return '|'.join(result)"
   ]
  },
  {
   "cell_type": "code",
   "execution_count": null,
   "metadata": {
    "collapsed": false
   },
   "outputs": [],
   "source": [
    "df['x_mean'] = ((df['x_min'] + df['x_max']) / 2).astype(int)\n",
    "df['y_mean'] = ((df['y_min'] + df['y_max']) / 2).astype(int)"
   ]
  },
  {
   "cell_type": "code",
   "execution_count": null,
   "metadata": {
    "collapsed": false
   },
   "outputs": [],
   "source": [
    "df['class_name'] = df['class_name'].str.upper()"
   ]
  },
  {
   "cell_type": "code",
   "execution_count": null,
   "metadata": {
    "collapsed": false
   },
   "outputs": [],
   "source": [
    "df.head()"
   ]
  },
  {
   "cell_type": "code",
   "execution_count": null,
   "metadata": {
    "collapsed": true
   },
   "outputs": [],
   "source": [
    "df['id'] = df['file_name'].str.replace('.jpg', '') + '_' + df['class_name']"
   ]
  },
  {
   "cell_type": "code",
   "execution_count": null,
   "metadata": {
    "collapsed": false
   },
   "outputs": [],
   "source": [
    "df.head()"
   ]
  },
  {
   "cell_type": "code",
   "execution_count": null,
   "metadata": {
    "collapsed": false
   },
   "outputs": [],
   "source": [
    "df['score'] = df['x_mean'].astype(str) + ':' + df['y_mean'].astype(str)"
   ]
  },
  {
   "cell_type": "code",
   "execution_count": null,
   "metadata": {
    "collapsed": false
   },
   "outputs": [],
   "source": [
    "# create file that will be changed to the Pascal Voc Format\n",
    "result = []\n",
    "\n",
    "g = df.groupby('file_name')\n",
    "\n",
    "for file_name, df_c in tqdm(g):\n",
    "    temp = []\n",
    "    for i in df_c.index:\n",
    "        x_min = int(df_c.loc[i, 'x_min'])\n",
    "        y_min = int(df_c.loc[i, 'y_min'])\n",
    "        x_max = int(df_c.loc[i, 'x_max'])\n",
    "        y_max = int(df_c.loc[i, 'y_max'])\n",
    "        class_name = df_c.loc[i, 'class_name']\n",
    "        \n",
    "        width = x_max - x_min\n",
    "        height = y_max - y_min\n",
    "        \n",
    "        temp += [{\n",
    "                'x': x_min,\n",
    "                'y': y_min,\n",
    "                'height': height,\n",
    "                'width': width,\n",
    "                'class': class_name\n",
    "            }]\n",
    "        result += [{'filename': '/home/vladimir/workspace/data/dstl_cars/VOC2017/test/' + file_name,\n",
    "                   'annotations': temp,\n",
    "                   'class': \"image\"}]"
   ]
  },
  {
   "cell_type": "code",
   "execution_count": null,
   "metadata": {
    "collapsed": false
   },
   "outputs": [],
   "source": [
    "result[0]"
   ]
  },
  {
   "cell_type": "code",
   "execution_count": null,
   "metadata": {
    "collapsed": false
   },
   "outputs": [],
   "source": [
    "json.dump(result, open('preds.json', 'w'), indent=4)"
   ]
  },
  {
   "cell_type": "code",
   "execution_count": null,
   "metadata": {
    "collapsed": false
   },
   "outputs": [],
   "source": [
    "g = pd.DataFrame(df.groupby('id')['score'].agg(lambda x: '|'.join(x))).reset_index()"
   ]
  },
  {
   "cell_type": "code",
   "execution_count": null,
   "metadata": {
    "collapsed": false
   },
   "outputs": [],
   "source": [
    "s = sample.merge(g, on='id', how='left')"
   ]
  },
  {
   "cell_type": "code",
   "execution_count": null,
   "metadata": {
    "collapsed": false
   },
   "outputs": [],
   "source": [
    "s = s[['id', 'score']]\n",
    "s.columns = ['id', 'detections']"
   ]
  },
  {
   "cell_type": "code",
   "execution_count": null,
   "metadata": {
    "collapsed": false
   },
   "outputs": [],
   "source": [
    "s['detections'] = s['detections'].fillna('None')"
   ]
  },
  {
   "cell_type": "code",
   "execution_count": null,
   "metadata": {
    "collapsed": false
   },
   "outputs": [],
   "source": [
    "s.shape"
   ]
  },
  {
   "cell_type": "code",
   "execution_count": null,
   "metadata": {
    "collapsed": true
   },
   "outputs": [],
   "source": [
    "s.to_csv('../data/try_1000_vgg_32_06.csv', index=False)"
   ]
  },
  {
   "cell_type": "code",
   "execution_count": null,
   "metadata": {
    "collapsed": true
   },
   "outputs": [],
   "source": []
  },
  {
   "cell_type": "code",
   "execution_count": null,
   "metadata": {
    "collapsed": true
   },
   "outputs": [],
   "source": []
  }
 ],
 "metadata": {
  "kernelspec": {
   "display_name": "Python 2",
   "language": "python",
   "name": "python2"
  },
  "language_info": {
   "codemirror_mode": {
    "name": "ipython",
    "version": 2
   },
   "file_extension": ".py",
   "mimetype": "text/x-python",
   "name": "python",
   "nbconvert_exporter": "python",
   "pygments_lexer": "ipython2",
   "version": "2.7.11"
  }
 },
 "nbformat": 4,
 "nbformat_minor": 0
}
