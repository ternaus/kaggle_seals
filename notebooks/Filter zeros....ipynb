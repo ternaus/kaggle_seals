{
 "cells": [
  {
   "cell_type": "code",
   "execution_count": 4,
   "metadata": {
    "collapsed": true
   },
   "outputs": [],
   "source": [
    "%matplotlib inline\n",
    "from pylab import *\n"
   ]
  },
  {
   "cell_type": "code",
   "execution_count": 1,
   "metadata": {
    "collapsed": true
   },
   "outputs": [],
   "source": [
    "import cv2"
   ]
  },
  {
   "cell_type": "code",
   "execution_count": 23,
   "metadata": {
    "collapsed": false
   },
   "outputs": [],
   "source": [
    "import xmltodict"
   ]
  },
  {
   "cell_type": "code",
   "execution_count": 28,
   "metadata": {
    "collapsed": false
   },
   "outputs": [
    {
     "name": "stdout",
     "output_type": "stream",
     "text": [
      "Help on module xmltodict:\n",
      "\n",
      "NAME\n",
      "    xmltodict - Makes working with XML feel like you are working with JSON\n",
      "\n",
      "FILE\n",
      "    /home/vladimir/anaconda2/lib/python2.7/site-packages/xmltodict.py\n",
      "\n",
      "CLASSES\n",
      "    exceptions.Exception(exceptions.BaseException)\n",
      "        ParsingInterrupted\n",
      "    \n",
      "    class ParsingInterrupted(exceptions.Exception)\n",
      "     |  Method resolution order:\n",
      "     |      ParsingInterrupted\n",
      "     |      exceptions.Exception\n",
      "     |      exceptions.BaseException\n",
      "     |      __builtin__.object\n",
      "     |  \n",
      "     |  Data descriptors defined here:\n",
      "     |  \n",
      "     |  __weakref__\n",
      "     |      list of weak references to the object (if defined)\n",
      "     |  \n",
      "     |  ----------------------------------------------------------------------\n",
      "     |  Methods inherited from exceptions.Exception:\n",
      "     |  \n",
      "     |  __init__(...)\n",
      "     |      x.__init__(...) initializes x; see help(type(x)) for signature\n",
      "     |  \n",
      "     |  ----------------------------------------------------------------------\n",
      "     |  Data and other attributes inherited from exceptions.Exception:\n",
      "     |  \n",
      "     |  __new__ = <built-in method __new__ of type object>\n",
      "     |      T.__new__(S, ...) -> a new object with type S, a subtype of T\n",
      "     |  \n",
      "     |  ----------------------------------------------------------------------\n",
      "     |  Methods inherited from exceptions.BaseException:\n",
      "     |  \n",
      "     |  __delattr__(...)\n",
      "     |      x.__delattr__('name') <==> del x.name\n",
      "     |  \n",
      "     |  __getattribute__(...)\n",
      "     |      x.__getattribute__('name') <==> x.name\n",
      "     |  \n",
      "     |  __getitem__(...)\n",
      "     |      x.__getitem__(y) <==> x[y]\n",
      "     |  \n",
      "     |  __getslice__(...)\n",
      "     |      x.__getslice__(i, j) <==> x[i:j]\n",
      "     |      \n",
      "     |      Use of negative indices is not supported.\n",
      "     |  \n",
      "     |  __reduce__(...)\n",
      "     |  \n",
      "     |  __repr__(...)\n",
      "     |      x.__repr__() <==> repr(x)\n",
      "     |  \n",
      "     |  __setattr__(...)\n",
      "     |      x.__setattr__('name', value) <==> x.name = value\n",
      "     |  \n",
      "     |  __setstate__(...)\n",
      "     |  \n",
      "     |  __str__(...)\n",
      "     |      x.__str__() <==> str(x)\n",
      "     |  \n",
      "     |  __unicode__(...)\n",
      "     |  \n",
      "     |  ----------------------------------------------------------------------\n",
      "     |  Data descriptors inherited from exceptions.BaseException:\n",
      "     |  \n",
      "     |  __dict__\n",
      "     |  \n",
      "     |  args\n",
      "     |  \n",
      "     |  message\n",
      "\n",
      "FUNCTIONS\n",
      "    StringIO(...)\n",
      "        StringIO([s]) -- Return a StringIO-like stream for reading or writing\n",
      "    \n",
      "    parse(xml_input, encoding=None, expat=<module 'xml.parsers.expat' from '/home/vladimir/anaconda2/lib/python2.7/xml/parsers/expat.pyc'>, process_namespaces=False, namespace_separator=':', disable_entities=True, **kwargs)\n",
      "        Parse the given XML input and convert it into a dictionary.\n",
      "        \n",
      "        `xml_input` can either be a `string` or a file-like object.\n",
      "        \n",
      "        If `xml_attribs` is `True`, element attributes are put in the dictionary\n",
      "        among regular child elements, using `@` as a prefix to avoid collisions. If\n",
      "        set to `False`, they are just ignored.\n",
      "        \n",
      "        Simple example::\n",
      "        \n",
      "            >>> import xmltodict\n",
      "            >>> doc = xmltodict.parse(\"\"\"\n",
      "            ... <a prop=\"x\">\n",
      "            ...   <b>1</b>\n",
      "            ...   <b>2</b>\n",
      "            ... </a>\n",
      "            ... \"\"\")\n",
      "            >>> doc['a']['@prop']\n",
      "            u'x'\n",
      "            >>> doc['a']['b']\n",
      "            [u'1', u'2']\n",
      "        \n",
      "        If `item_depth` is `0`, the function returns a dictionary for the root\n",
      "        element (default behavior). Otherwise, it calls `item_callback` every time\n",
      "        an item at the specified depth is found and returns `None` in the end\n",
      "        (streaming mode).\n",
      "        \n",
      "        The callback function receives two parameters: the `path` from the document\n",
      "        root to the item (name-attribs pairs), and the `item` (dict). If the\n",
      "        callback's return value is false-ish, parsing will be stopped with the\n",
      "        :class:`ParsingInterrupted` exception.\n",
      "        \n",
      "        Streaming example::\n",
      "        \n",
      "            >>> def handle(path, item):\n",
      "            ...     print('path:%s item:%s' % (path, item))\n",
      "            ...     return True\n",
      "            ...\n",
      "            >>> xmltodict.parse(\"\"\"\n",
      "            ... <a prop=\"x\">\n",
      "            ...   <b>1</b>\n",
      "            ...   <b>2</b>\n",
      "            ... </a>\"\"\", item_depth=2, item_callback=handle)\n",
      "            path:[(u'a', {u'prop': u'x'}), (u'b', None)] item:1\n",
      "            path:[(u'a', {u'prop': u'x'}), (u'b', None)] item:2\n",
      "        \n",
      "        The optional argument `postprocessor` is a function that takes `path`,\n",
      "        `key` and `value` as positional arguments and returns a new `(key, value)`\n",
      "        pair where both `key` and `value` may have changed. Usage example::\n",
      "        \n",
      "            >>> def postprocessor(path, key, value):\n",
      "            ...     try:\n",
      "            ...         return key + ':int', int(value)\n",
      "            ...     except (ValueError, TypeError):\n",
      "            ...         return key, value\n",
      "            >>> xmltodict.parse('<a><b>1</b><b>2</b><b>x</b></a>',\n",
      "            ...                 postprocessor=postprocessor)\n",
      "            OrderedDict([(u'a', OrderedDict([(u'b:int', [1, 2]), (u'b', u'x')]))])\n",
      "        \n",
      "        You can pass an alternate version of `expat` (such as `defusedexpat`) by\n",
      "        using the `expat` parameter. E.g:\n",
      "        \n",
      "            >>> import defusedexpat\n",
      "            >>> xmltodict.parse('<a>hello</a>', expat=defusedexpat.pyexpat)\n",
      "            OrderedDict([(u'a', u'hello')])\n",
      "        \n",
      "        You can use the force_list argument to force lists to be created even\n",
      "        when there is only a single child of a given level of hierarchy. The\n",
      "        force_list argument is a tuple of keys. If the key for a given level\n",
      "        of hierarchy is in the force_list argument, that level of hierarchy\n",
      "        will have a list as a child (even if there is only one sub-element).\n",
      "        The index_keys operation takes precendence over this. This is applied\n",
      "        after any user-supplied postprocessor has already run.\n",
      "        \n",
      "            For example, given this input:\n",
      "            <servers>\n",
      "              <server>\n",
      "                <name>host1</name>\n",
      "                <os>Linux</os>\n",
      "                <interfaces>\n",
      "                  <interface>\n",
      "                    <name>em0</name>\n",
      "                    <ip_address>10.0.0.1</ip_address>\n",
      "                  </interface>\n",
      "                </interfaces>\n",
      "              </server>\n",
      "            </servers>\n",
      "        \n",
      "            If called with force_list=('interface',), it will produce\n",
      "            this dictionary:\n",
      "            {'servers':\n",
      "              {'server':\n",
      "                {'name': 'host1',\n",
      "                 'os': 'Linux'},\n",
      "                 'interfaces':\n",
      "                  {'interface':\n",
      "                    [ {'name': 'em0', 'ip_address': '10.0.0.1' } ] } } }\n",
      "        \n",
      "            `force_list` can also be a callable that receives `path`, `key` and\n",
      "            `value`. This is helpful in cases where the logic that decides whether\n",
      "            a list should be forced is more complex.\n",
      "    \n",
      "    unparse(input_dict, output=None, encoding='utf-8', full_document=True, short_empty_elements=False, **kwargs)\n",
      "        Emit an XML document for the given `input_dict` (reverse of `parse`).\n",
      "        \n",
      "            The resulting XML document is returned as a string, but if `output` (a\n",
      "            file-like object) is specified, it is written there instead.\n",
      "        \n",
      "            Dictionary keys prefixed with `attr_prefix` (default=`'@'`) are interpreted\n",
      "            as XML node attributes, whereas keys equal to `cdata_key`\n",
      "            (default=`'#text'`) are treated as character data.\n",
      "        \n",
      "            The `pretty` parameter (default=`False`) enables pretty-printing. In this\n",
      "            mode, lines are terminated with `'\n",
      "        '` and indented with `' '`, but this\n",
      "            can be customized with the `newl` and `indent` parameters.\n",
      "\n",
      "DATA\n",
      "    __author__ = 'Martin Blech'\n",
      "    __license__ = 'MIT'\n",
      "    __version__ = '0.11.0'\n",
      "\n",
      "VERSION\n",
      "    0.11.0\n",
      "\n",
      "AUTHOR\n",
      "    Martin Blech\n",
      "\n",
      "\n"
     ]
    }
   ],
   "source": [
    "help(xmltodict)"
   ]
  },
  {
   "cell_type": "code",
   "execution_count": 51,
   "metadata": {
    "collapsed": true
   },
   "outputs": [],
   "source": [
    "t = open('/home/vladimir/workspace/kaggle_seals/data/Annottations/123.lif').read()"
   ]
  },
  {
   "cell_type": "code",
   "execution_count": 52,
   "metadata": {
    "collapsed": false
   },
   "outputs": [],
   "source": [
    "a = xmltodict.parse(t)"
   ]
  },
  {
   "cell_type": "code",
   "execution_count": 53,
   "metadata": {
    "collapsed": false
   },
   "outputs": [
    {
     "data": {
      "text/plain": [
       "collections.OrderedDict"
      ]
     },
     "execution_count": 53,
     "metadata": {},
     "output_type": "execute_result"
    }
   ],
   "source": [
    "type(a['annotation']['object'])"
   ]
  },
  {
   "cell_type": "code",
   "execution_count": 54,
   "metadata": {
    "collapsed": false
   },
   "outputs": [
    {
     "data": {
      "text/plain": [
       "u'123'"
      ]
     },
     "execution_count": 54,
     "metadata": {},
     "output_type": "execute_result"
    }
   ],
   "source": [
    "a['annotation']['filename']"
   ]
  },
  {
   "cell_type": "code",
   "execution_count": 59,
   "metadata": {
    "collapsed": false
   },
   "outputs": [
    {
     "data": {
      "text/plain": [
       "False"
      ]
     },
     "execution_count": 59,
     "metadata": {},
     "output_type": "execute_result"
    }
   ],
   "source": [
    "isinstance(a['annotation']['object'], list)"
   ]
  },
  {
   "cell_type": "code",
   "execution_count": 56,
   "metadata": {
    "collapsed": false
   },
   "outputs": [
    {
     "data": {
      "text/plain": [
       "OrderedDict([(u'name', u'b'),\n",
       "             (u'pose', u'Unspecified'),\n",
       "             (u'truncated', u'0'),\n",
       "             (u'difficult', u'0'),\n",
       "             (u'bndbox',\n",
       "              OrderedDict([(u'xmin', u'2361'),\n",
       "                           (u'ymin', u'1744'),\n",
       "                           (u'xmax', u'2399'),\n",
       "                           (u'ymax', u'1817')]))])"
      ]
     },
     "execution_count": 56,
     "metadata": {},
     "output_type": "execute_result"
    }
   ],
   "source": [
    "a['annotation']['object']"
   ]
  },
  {
   "cell_type": "code",
   "execution_count": null,
   "metadata": {
    "collapsed": true
   },
   "outputs": [],
   "source": []
  },
  {
   "cell_type": "code",
   "execution_count": null,
   "metadata": {
    "collapsed": true
   },
   "outputs": [],
   "source": [
    "a['annotation']"
   ]
  },
  {
   "cell_type": "code",
   "execution_count": 18,
   "metadata": {
    "collapsed": false
   },
   "outputs": [
    {
     "data": {
      "text/plain": [
       "14570551"
      ]
     },
     "execution_count": 18,
     "metadata": {},
     "output_type": "execute_result"
    }
   ],
   "source": [
    "f.sum()"
   ]
  },
  {
   "cell_type": "code",
   "execution_count": 19,
   "metadata": {
    "collapsed": false
   },
   "outputs": [
    {
     "data": {
      "text/plain": [
       "<matplotlib.image.AxesImage at 0x7f2001f9c7d0>"
      ]
     },
     "execution_count": 19,
     "metadata": {},
     "output_type": "execute_result"
    },
    {
     "data": {
      "image/png": "[encoded data removed]",
      "text/plain": [
       "<matplotlib.figure.Figure at 0x7f200602b650>"
      ]
     },
     "metadata": {},
     "output_type": "display_data"
    }
   ],
   "source": [
    "imshow(f)"
   ]
  },
  {
   "cell_type": "code",
   "execution_count": 20,
   "metadata": {
    "collapsed": false
   },
   "outputs": [
    {
     "data": {
      "text/plain": [
       "0.941397"
      ]
     },
     "execution_count": 20,
     "metadata": {},
     "output_type": "execute_result"
    }
   ],
   "source": [
    "float((f == 0).sum()) / np.prod(f.shape)"
   ]
  },
  {
   "cell_type": "code",
   "execution_count": null,
   "metadata": {
    "collapsed": true
   },
   "outputs": [],
   "source": []
  }
 ],
 "metadata": {
  "kernelspec": {
   "display_name": "Python 2",
   "language": "python",
   "name": "python2"
  },
  "language_info": {
   "codemirror_mode": {
    "name": "ipython",
    "version": 2
   },
   "file_extension": ".py",
   "mimetype": "text/x-python",
   "name": "python",
   "nbconvert_exporter": "python",
   "pygments_lexer": "ipython2",
   "version": "2.7.11"
  }
 },
 "nbformat": 4,
 "nbformat_minor": 0
}
