{
 "cells": [
  {
   "cell_type": "code",
   "execution_count": 95,
   "metadata": {
    "collapsed": true
   },
   "outputs": [],
   "source": [
    "import pandas as pd"
   ]
  },
  {
   "cell_type": "code",
   "execution_count": 96,
   "metadata": {
    "collapsed": true
   },
   "outputs": [],
   "source": [
    "import json"
   ]
  },
  {
   "cell_type": "code",
   "execution_count": 97,
   "metadata": {
    "collapsed": true
   },
   "outputs": [],
   "source": [
    "import sys"
   ]
  },
  {
   "cell_type": "code",
   "execution_count": 98,
   "metadata": {
    "collapsed": true
   },
   "outputs": [],
   "source": [
    "import os"
   ]
  },
  {
   "cell_type": "code",
   "execution_count": 99,
   "metadata": {
    "collapsed": false
   },
   "outputs": [],
   "source": [
    "os.environ['CUDA_VISIBLE_DEVICES'] = \"\""
   ]
  },
  {
   "cell_type": "code",
   "execution_count": 100,
   "metadata": {
    "collapsed": true
   },
   "outputs": [],
   "source": [
    "import tensorflow as tf"
   ]
  },
  {
   "cell_type": "code",
   "execution_count": 101,
   "metadata": {
    "collapsed": true
   },
   "outputs": [],
   "source": [
    "import numpy as np"
   ]
  },
  {
   "cell_type": "code",
   "execution_count": 102,
   "metadata": {
    "collapsed": true
   },
   "outputs": [],
   "source": [
    "import os"
   ]
  },
  {
   "cell_type": "code",
   "execution_count": 103,
   "metadata": {
    "collapsed": true
   },
   "outputs": [],
   "source": [
    "from tqdm import tqdm"
   ]
  },
  {
   "cell_type": "code",
   "execution_count": 104,
   "metadata": {
    "collapsed": true
   },
   "outputs": [],
   "source": [
    "import cv2"
   ]
  },
  {
   "cell_type": "code",
   "execution_count": 105,
   "metadata": {
    "collapsed": false
   },
   "outputs": [],
   "source": [
    "temp = []\n",
    "\n",
    "for class_name in ['r', 'p', 'b', 'bl', 'g']:\n",
    "    df = pd.read_csv('/home/vladimir/workspace/data/kaggle_seals/results/comp4_det_test_patches0_{class_name}.txt'.format(class_name=class_name) ,\n",
    "                   header=None, \n",
    "                   sep=' ')\n",
    "    df.columns = ['file_index', 'confidence', 'x_min', 'y_min', 'x_max', 'y_max']\n",
    "    \n",
    "    df['class_name'] = class_name\n",
    "    \n",
    "    temp += [df]\n",
    "    \n",
    "    "
   ]
  },
  {
   "cell_type": "code",
   "execution_count": 106,
   "metadata": {
    "collapsed": false
   },
   "outputs": [],
   "source": [
    "for class_name in ['r', 'p', 'b', 'bl', 'g']:\n",
    "    df = pd.read_csv('/home/vladimir/workspace/data/kaggle_seals/results/comp4_det_test_patches1_{class_name}.txt'.format(class_name=class_name) ,\n",
    "                   header=None, \n",
    "                   sep=' ')\n",
    "    df.columns = ['file_index', 'confidence', 'x_min', 'y_min', 'x_max', 'y_max']\n",
    "    \n",
    "    df['class_name'] = class_name\n",
    "    \n",
    "    temp += [df]"
   ]
  },
  {
   "cell_type": "code",
   "execution_count": 107,
   "metadata": {
    "collapsed": false
   },
   "outputs": [],
   "source": [
    "df = pd.concat(temp)"
   ]
  },
  {
   "cell_type": "code",
   "execution_count": 108,
   "metadata": {
    "collapsed": true
   },
   "outputs": [],
   "source": [
    "def rotate((x_min, y_min, x_max, y_max), angle=90, size=1000):\n",
    "    if angle == 90:\n",
    "        width = x_max - x_min\n",
    "        return y_min, size - width - x_min, y_max, size - x_min\n",
    "    elif angle == 180:\n",
    "        return size - x_max, size - y_max, size - x_min, size - y_min\n",
    "    elif angle == 270:\n",
    "        width = x_max - x_min\n",
    "        return size - y_max, x_min, size - y_min, x_min + width\n",
    "    else:\n",
    "        return (x_min, y_min, x_max, y_max)"
   ]
  },
  {
   "cell_type": "code",
   "execution_count": 109,
   "metadata": {
    "collapsed": false
   },
   "outputs": [
    {
     "data": {
      "text/html": [
       "<div>\n",
       "<table border=\"1\" class=\"dataframe\">\n",
       "  <thead>\n",
       "    <tr style=\"text-align: right;\">\n",
       "      <th></th>\n",
       "      <th>file_index</th>\n",
       "      <th>confidence</th>\n",
       "      <th>x_min</th>\n",
       "      <th>y_min</th>\n",
       "      <th>x_max</th>\n",
       "      <th>y_max</th>\n",
       "      <th>class_name</th>\n",
       "    </tr>\n",
       "  </thead>\n",
       "  <tbody>\n",
       "    <tr>\n",
       "      <th>0</th>\n",
       "      <td>18578_3900_1950.jpg</td>\n",
       "      <td>0.969</td>\n",
       "      <td>314.2</td>\n",
       "      <td>58.8</td>\n",
       "      <td>374.7</td>\n",
       "      <td>102.7</td>\n",
       "      <td>r</td>\n",
       "    </tr>\n",
       "    <tr>\n",
       "      <th>1</th>\n",
       "      <td>18578_3900_1950.jpg</td>\n",
       "      <td>0.961</td>\n",
       "      <td>409.5</td>\n",
       "      <td>312.9</td>\n",
       "      <td>455.6</td>\n",
       "      <td>347.7</td>\n",
       "      <td>r</td>\n",
       "    </tr>\n",
       "    <tr>\n",
       "      <th>2</th>\n",
       "      <td>18578_3900_1950.jpg</td>\n",
       "      <td>0.859</td>\n",
       "      <td>564.3</td>\n",
       "      <td>372.8</td>\n",
       "      <td>633.1</td>\n",
       "      <td>449.7</td>\n",
       "      <td>r</td>\n",
       "    </tr>\n",
       "    <tr>\n",
       "      <th>3</th>\n",
       "      <td>18578_3900_1950.jpg</td>\n",
       "      <td>0.612</td>\n",
       "      <td>359.8</td>\n",
       "      <td>427.1</td>\n",
       "      <td>417.7</td>\n",
       "      <td>462.2</td>\n",
       "      <td>r</td>\n",
       "    </tr>\n",
       "    <tr>\n",
       "      <th>4</th>\n",
       "      <td>18578_3900_1950.jpg</td>\n",
       "      <td>0.584</td>\n",
       "      <td>541.5</td>\n",
       "      <td>292.0</td>\n",
       "      <td>587.6</td>\n",
       "      <td>397.4</td>\n",
       "      <td>r</td>\n",
       "    </tr>\n",
       "  </tbody>\n",
       "</table>\n",
       "</div>"
      ],
      "text/plain": [
       "            file_index  confidence  x_min  y_min  x_max  y_max class_name\n",
       "0  18578_3900_1950.jpg       0.969  314.2   58.8  374.7  102.7          r\n",
       "1  18578_3900_1950.jpg       0.961  409.5  312.9  455.6  347.7          r\n",
       "2  18578_3900_1950.jpg       0.859  564.3  372.8  633.1  449.7          r\n",
       "3  18578_3900_1950.jpg       0.612  359.8  427.1  417.7  462.2          r\n",
       "4  18578_3900_1950.jpg       0.584  541.5  292.0  587.6  397.4          r"
      ]
     },
     "execution_count": 109,
     "metadata": {},
     "output_type": "execute_result"
    }
   ],
   "source": [
    "df.head()"
   ]
  },
  {
   "cell_type": "code",
   "execution_count": 113,
   "metadata": {
    "collapsed": false
   },
   "outputs": [
    {
     "data": {
      "text/plain": [
       "(3174842, 7)"
      ]
     },
     "execution_count": 113,
     "metadata": {},
     "output_type": "execute_result"
    }
   ],
   "source": [
    "df.shape"
   ]
  },
  {
   "cell_type": "code",
   "execution_count": 114,
   "metadata": {
    "collapsed": true
   },
   "outputs": [],
   "source": [
    "df = df[df['confidence'] > 0.6]"
   ]
  },
  {
   "cell_type": "code",
   "execution_count": 115,
   "metadata": {
    "collapsed": false
   },
   "outputs": [
    {
     "data": {
      "text/plain": [
       "(615263, 7)"
      ]
     },
     "execution_count": 115,
     "metadata": {},
     "output_type": "execute_result"
    }
   ],
   "source": [
    "df.shape"
   ]
  },
  {
   "cell_type": "code",
   "execution_count": 123,
   "metadata": {
    "collapsed": true
   },
   "outputs": [],
   "source": [
    "df['file_name'] = df['file_index']"
   ]
  },
  {
   "cell_type": "code",
   "execution_count": 124,
   "metadata": {
    "collapsed": true
   },
   "outputs": [],
   "source": [
    "df['file_index'] = df['file_index'].str.replace('.jpg', '')"
   ]
  },
  {
   "cell_type": "code",
   "execution_count": 125,
   "metadata": {
    "collapsed": false
   },
   "outputs": [],
   "source": [
    "df['x_shift'] = df['file_index'].str.split('_').str.get(1).astype(int)\n",
    "df['y_shift'] = df['file_index'].str.split('_').str.get(2).astype(int)"
   ]
  },
  {
   "cell_type": "code",
   "execution_count": 126,
   "metadata": {
    "collapsed": false
   },
   "outputs": [],
   "source": [
    "df['x_min'] += df['x_shift']\n",
    "df['x_max'] += df['x_shift']\n",
    "\n",
    "df['y_min'] += df['y_shift']\n",
    "df['y_max'] += df['y_shift']\n"
   ]
  },
  {
   "cell_type": "code",
   "execution_count": 127,
   "metadata": {
    "collapsed": false
   },
   "outputs": [
    {
     "data": {
      "text/html": [
       "<div>\n",
       "<table border=\"1\" class=\"dataframe\">\n",
       "  <thead>\n",
       "    <tr style=\"text-align: right;\">\n",
       "      <th></th>\n",
       "      <th>file_index</th>\n",
       "      <th>confidence</th>\n",
       "      <th>x_min</th>\n",
       "      <th>y_min</th>\n",
       "      <th>x_max</th>\n",
       "      <th>y_max</th>\n",
       "      <th>class_name</th>\n",
       "      <th>file_name</th>\n",
       "      <th>x_shift</th>\n",
       "      <th>y_shift</th>\n",
       "    </tr>\n",
       "  </thead>\n",
       "  <tbody>\n",
       "    <tr>\n",
       "      <th>0</th>\n",
       "      <td>18578_3900_1950</td>\n",
       "      <td>0.969</td>\n",
       "      <td>4214.2</td>\n",
       "      <td>2008.8</td>\n",
       "      <td>4274.7</td>\n",
       "      <td>2052.7</td>\n",
       "      <td>r</td>\n",
       "      <td>18578_3900_1950.jpg</td>\n",
       "      <td>3900</td>\n",
       "      <td>1950</td>\n",
       "    </tr>\n",
       "    <tr>\n",
       "      <th>1</th>\n",
       "      <td>18578_3900_1950</td>\n",
       "      <td>0.961</td>\n",
       "      <td>4309.5</td>\n",
       "      <td>2262.9</td>\n",
       "      <td>4355.6</td>\n",
       "      <td>2297.7</td>\n",
       "      <td>r</td>\n",
       "      <td>18578_3900_1950.jpg</td>\n",
       "      <td>3900</td>\n",
       "      <td>1950</td>\n",
       "    </tr>\n",
       "    <tr>\n",
       "      <th>2</th>\n",
       "      <td>18578_3900_1950</td>\n",
       "      <td>0.859</td>\n",
       "      <td>4464.3</td>\n",
       "      <td>2322.8</td>\n",
       "      <td>4533.1</td>\n",
       "      <td>2399.7</td>\n",
       "      <td>r</td>\n",
       "      <td>18578_3900_1950.jpg</td>\n",
       "      <td>3900</td>\n",
       "      <td>1950</td>\n",
       "    </tr>\n",
       "    <tr>\n",
       "      <th>3</th>\n",
       "      <td>18578_3900_1950</td>\n",
       "      <td>0.612</td>\n",
       "      <td>4259.8</td>\n",
       "      <td>2377.1</td>\n",
       "      <td>4317.7</td>\n",
       "      <td>2412.2</td>\n",
       "      <td>r</td>\n",
       "      <td>18578_3900_1950.jpg</td>\n",
       "      <td>3900</td>\n",
       "      <td>1950</td>\n",
       "    </tr>\n",
       "    <tr>\n",
       "      <th>14</th>\n",
       "      <td>6906_975_1950</td>\n",
       "      <td>0.634</td>\n",
       "      <td>1494.1</td>\n",
       "      <td>2696.8</td>\n",
       "      <td>1562.3</td>\n",
       "      <td>2847.0</td>\n",
       "      <td>r</td>\n",
       "      <td>6906_975_1950.jpg</td>\n",
       "      <td>975</td>\n",
       "      <td>1950</td>\n",
       "    </tr>\n",
       "  </tbody>\n",
       "</table>\n",
       "</div>"
      ],
      "text/plain": [
       "         file_index  confidence   x_min   y_min   x_max   y_max class_name  \\\n",
       "0   18578_3900_1950       0.969  4214.2  2008.8  4274.7  2052.7          r   \n",
       "1   18578_3900_1950       0.961  4309.5  2262.9  4355.6  2297.7          r   \n",
       "2   18578_3900_1950       0.859  4464.3  2322.8  4533.1  2399.7          r   \n",
       "3   18578_3900_1950       0.612  4259.8  2377.1  4317.7  2412.2          r   \n",
       "14    6906_975_1950       0.634  1494.1  2696.8  1562.3  2847.0          r   \n",
       "\n",
       "              file_name  x_shift  y_shift  \n",
       "0   18578_3900_1950.jpg     3900     1950  \n",
       "1   18578_3900_1950.jpg     3900     1950  \n",
       "2   18578_3900_1950.jpg     3900     1950  \n",
       "3   18578_3900_1950.jpg     3900     1950  \n",
       "14    6906_975_1950.jpg      975     1950  "
      ]
     },
     "execution_count": 127,
     "metadata": {},
     "output_type": "execute_result"
    }
   ],
   "source": [
    "df.head()"
   ]
  },
  {
   "cell_type": "code",
   "execution_count": 128,
   "metadata": {
    "collapsed": true
   },
   "outputs": [],
   "source": [
    "df['test_id'] = df['file_index'].str.split('_').str.get(0)"
   ]
  },
  {
   "cell_type": "code",
   "execution_count": 129,
   "metadata": {
    "collapsed": false
   },
   "outputs": [
    {
     "data": {
      "text/html": [
       "<div>\n",
       "<table border=\"1\" class=\"dataframe\">\n",
       "  <thead>\n",
       "    <tr style=\"text-align: right;\">\n",
       "      <th></th>\n",
       "      <th>file_index</th>\n",
       "      <th>confidence</th>\n",
       "      <th>x_min</th>\n",
       "      <th>y_min</th>\n",
       "      <th>x_max</th>\n",
       "      <th>y_max</th>\n",
       "      <th>class_name</th>\n",
       "      <th>file_name</th>\n",
       "      <th>x_shift</th>\n",
       "      <th>y_shift</th>\n",
       "      <th>test_id</th>\n",
       "    </tr>\n",
       "  </thead>\n",
       "  <tbody>\n",
       "    <tr>\n",
       "      <th>0</th>\n",
       "      <td>18578_3900_1950</td>\n",
       "      <td>0.969</td>\n",
       "      <td>4214.2</td>\n",
       "      <td>2008.8</td>\n",
       "      <td>4274.7</td>\n",
       "      <td>2052.7</td>\n",
       "      <td>r</td>\n",
       "      <td>18578_3900_1950.jpg</td>\n",
       "      <td>3900</td>\n",
       "      <td>1950</td>\n",
       "      <td>18578</td>\n",
       "    </tr>\n",
       "    <tr>\n",
       "      <th>1</th>\n",
       "      <td>18578_3900_1950</td>\n",
       "      <td>0.961</td>\n",
       "      <td>4309.5</td>\n",
       "      <td>2262.9</td>\n",
       "      <td>4355.6</td>\n",
       "      <td>2297.7</td>\n",
       "      <td>r</td>\n",
       "      <td>18578_3900_1950.jpg</td>\n",
       "      <td>3900</td>\n",
       "      <td>1950</td>\n",
       "      <td>18578</td>\n",
       "    </tr>\n",
       "    <tr>\n",
       "      <th>2</th>\n",
       "      <td>18578_3900_1950</td>\n",
       "      <td>0.859</td>\n",
       "      <td>4464.3</td>\n",
       "      <td>2322.8</td>\n",
       "      <td>4533.1</td>\n",
       "      <td>2399.7</td>\n",
       "      <td>r</td>\n",
       "      <td>18578_3900_1950.jpg</td>\n",
       "      <td>3900</td>\n",
       "      <td>1950</td>\n",
       "      <td>18578</td>\n",
       "    </tr>\n",
       "    <tr>\n",
       "      <th>3</th>\n",
       "      <td>18578_3900_1950</td>\n",
       "      <td>0.612</td>\n",
       "      <td>4259.8</td>\n",
       "      <td>2377.1</td>\n",
       "      <td>4317.7</td>\n",
       "      <td>2412.2</td>\n",
       "      <td>r</td>\n",
       "      <td>18578_3900_1950.jpg</td>\n",
       "      <td>3900</td>\n",
       "      <td>1950</td>\n",
       "      <td>18578</td>\n",
       "    </tr>\n",
       "    <tr>\n",
       "      <th>14</th>\n",
       "      <td>6906_975_1950</td>\n",
       "      <td>0.634</td>\n",
       "      <td>1494.1</td>\n",
       "      <td>2696.8</td>\n",
       "      <td>1562.3</td>\n",
       "      <td>2847.0</td>\n",
       "      <td>r</td>\n",
       "      <td>6906_975_1950.jpg</td>\n",
       "      <td>975</td>\n",
       "      <td>1950</td>\n",
       "      <td>6906</td>\n",
       "    </tr>\n",
       "  </tbody>\n",
       "</table>\n",
       "</div>"
      ],
      "text/plain": [
       "         file_index  confidence   x_min   y_min   x_max   y_max class_name  \\\n",
       "0   18578_3900_1950       0.969  4214.2  2008.8  4274.7  2052.7          r   \n",
       "1   18578_3900_1950       0.961  4309.5  2262.9  4355.6  2297.7          r   \n",
       "2   18578_3900_1950       0.859  4464.3  2322.8  4533.1  2399.7          r   \n",
       "3   18578_3900_1950       0.612  4259.8  2377.1  4317.7  2412.2          r   \n",
       "14    6906_975_1950       0.634  1494.1  2696.8  1562.3  2847.0          r   \n",
       "\n",
       "              file_name  x_shift  y_shift test_id  \n",
       "0   18578_3900_1950.jpg     3900     1950   18578  \n",
       "1   18578_3900_1950.jpg     3900     1950   18578  \n",
       "2   18578_3900_1950.jpg     3900     1950   18578  \n",
       "3   18578_3900_1950.jpg     3900     1950   18578  \n",
       "14    6906_975_1950.jpg      975     1950    6906  "
      ]
     },
     "execution_count": 129,
     "metadata": {},
     "output_type": "execute_result"
    }
   ],
   "source": [
    "df.head()"
   ]
  },
  {
   "cell_type": "code",
   "execution_count": 130,
   "metadata": {
    "collapsed": false
   },
   "outputs": [
    {
     "data": {
      "text/plain": [
       "(615263, 11)"
      ]
     },
     "execution_count": 130,
     "metadata": {},
     "output_type": "execute_result"
    }
   ],
   "source": [
    "df.shape"
   ]
  },
  {
   "cell_type": "code",
   "execution_count": 132,
   "metadata": {
    "collapsed": true
   },
   "outputs": [],
   "source": [
    "sample = pd.DataFrame(pd.read_csv('../data/sample_submission.csv')['test_id'])\n",
    "sample['x'] = 1"
   ]
  },
  {
   "cell_type": "code",
   "execution_count": 133,
   "metadata": {
    "collapsed": false
   },
   "outputs": [
    {
     "name": "stdout",
     "output_type": "stream",
     "text": [
      "<class 'pandas.core.frame.DataFrame'>\n",
      "RangeIndex: 18636 entries, 0 to 18635\n",
      "Data columns (total 2 columns):\n",
      "test_id    18636 non-null int64\n",
      "x          18636 non-null int64\n",
      "dtypes: int64(2)\n",
      "memory usage: 291.3 KB\n"
     ]
    }
   ],
   "source": [
    "sample.info()"
   ]
  },
  {
   "cell_type": "code",
   "execution_count": 134,
   "metadata": {
    "collapsed": false
   },
   "outputs": [],
   "source": [
    "df['test_id'] = df['test_id'].astype(int)"
   ]
  },
  {
   "cell_type": "code",
   "execution_count": 135,
   "metadata": {
    "collapsed": false
   },
   "outputs": [
    {
     "data": {
      "text/html": [
       "<div>\n",
       "<table border=\"1\" class=\"dataframe\">\n",
       "  <thead>\n",
       "    <tr style=\"text-align: right;\">\n",
       "      <th></th>\n",
       "      <th>file_index</th>\n",
       "      <th>confidence</th>\n",
       "      <th>x_min</th>\n",
       "      <th>y_min</th>\n",
       "      <th>x_max</th>\n",
       "      <th>y_max</th>\n",
       "      <th>class_name</th>\n",
       "      <th>file_name</th>\n",
       "      <th>x_shift</th>\n",
       "      <th>y_shift</th>\n",
       "      <th>test_id</th>\n",
       "    </tr>\n",
       "  </thead>\n",
       "  <tbody>\n",
       "    <tr>\n",
       "      <th>0</th>\n",
       "      <td>18578_3900_1950</td>\n",
       "      <td>0.969</td>\n",
       "      <td>4214.2</td>\n",
       "      <td>2008.8</td>\n",
       "      <td>4274.7</td>\n",
       "      <td>2052.7</td>\n",
       "      <td>r</td>\n",
       "      <td>18578_3900_1950.jpg</td>\n",
       "      <td>3900</td>\n",
       "      <td>1950</td>\n",
       "      <td>18578</td>\n",
       "    </tr>\n",
       "    <tr>\n",
       "      <th>1</th>\n",
       "      <td>18578_3900_1950</td>\n",
       "      <td>0.961</td>\n",
       "      <td>4309.5</td>\n",
       "      <td>2262.9</td>\n",
       "      <td>4355.6</td>\n",
       "      <td>2297.7</td>\n",
       "      <td>r</td>\n",
       "      <td>18578_3900_1950.jpg</td>\n",
       "      <td>3900</td>\n",
       "      <td>1950</td>\n",
       "      <td>18578</td>\n",
       "    </tr>\n",
       "    <tr>\n",
       "      <th>2</th>\n",
       "      <td>18578_3900_1950</td>\n",
       "      <td>0.859</td>\n",
       "      <td>4464.3</td>\n",
       "      <td>2322.8</td>\n",
       "      <td>4533.1</td>\n",
       "      <td>2399.7</td>\n",
       "      <td>r</td>\n",
       "      <td>18578_3900_1950.jpg</td>\n",
       "      <td>3900</td>\n",
       "      <td>1950</td>\n",
       "      <td>18578</td>\n",
       "    </tr>\n",
       "    <tr>\n",
       "      <th>3</th>\n",
       "      <td>18578_3900_1950</td>\n",
       "      <td>0.612</td>\n",
       "      <td>4259.8</td>\n",
       "      <td>2377.1</td>\n",
       "      <td>4317.7</td>\n",
       "      <td>2412.2</td>\n",
       "      <td>r</td>\n",
       "      <td>18578_3900_1950.jpg</td>\n",
       "      <td>3900</td>\n",
       "      <td>1950</td>\n",
       "      <td>18578</td>\n",
       "    </tr>\n",
       "    <tr>\n",
       "      <th>14</th>\n",
       "      <td>6906_975_1950</td>\n",
       "      <td>0.634</td>\n",
       "      <td>1494.1</td>\n",
       "      <td>2696.8</td>\n",
       "      <td>1562.3</td>\n",
       "      <td>2847.0</td>\n",
       "      <td>r</td>\n",
       "      <td>6906_975_1950.jpg</td>\n",
       "      <td>975</td>\n",
       "      <td>1950</td>\n",
       "      <td>6906</td>\n",
       "    </tr>\n",
       "  </tbody>\n",
       "</table>\n",
       "</div>"
      ],
      "text/plain": [
       "         file_index  confidence   x_min   y_min   x_max   y_max class_name  \\\n",
       "0   18578_3900_1950       0.969  4214.2  2008.8  4274.7  2052.7          r   \n",
       "1   18578_3900_1950       0.961  4309.5  2262.9  4355.6  2297.7          r   \n",
       "2   18578_3900_1950       0.859  4464.3  2322.8  4533.1  2399.7          r   \n",
       "3   18578_3900_1950       0.612  4259.8  2377.1  4317.7  2412.2          r   \n",
       "14    6906_975_1950       0.634  1494.1  2696.8  1562.3  2847.0          r   \n",
       "\n",
       "              file_name  x_shift  y_shift  test_id  \n",
       "0   18578_3900_1950.jpg     3900     1950    18578  \n",
       "1   18578_3900_1950.jpg     3900     1950    18578  \n",
       "2   18578_3900_1950.jpg     3900     1950    18578  \n",
       "3   18578_3900_1950.jpg     3900     1950    18578  \n",
       "14    6906_975_1950.jpg      975     1950     6906  "
      ]
     },
     "execution_count": 135,
     "metadata": {},
     "output_type": "execute_result"
    }
   ],
   "source": [
    "df.head()"
   ]
  },
  {
   "cell_type": "code",
   "execution_count": 137,
   "metadata": {
    "collapsed": false,
    "scrolled": true
   },
   "outputs": [
    {
     "data": {
      "text/html": [
       "<div>\n",
       "<table border=\"1\" class=\"dataframe\">\n",
       "  <thead>\n",
       "    <tr style=\"text-align: right;\">\n",
       "      <th></th>\n",
       "      <th>file_index</th>\n",
       "      <th>confidence</th>\n",
       "      <th>x_min</th>\n",
       "      <th>y_min</th>\n",
       "      <th>x_max</th>\n",
       "      <th>y_max</th>\n",
       "      <th>class_name</th>\n",
       "      <th>file_name</th>\n",
       "      <th>x_shift</th>\n",
       "      <th>y_shift</th>\n",
       "      <th>test_id</th>\n",
       "    </tr>\n",
       "  </thead>\n",
       "  <tbody>\n",
       "    <tr>\n",
       "      <th>0</th>\n",
       "      <td>18578_3900_1950</td>\n",
       "      <td>0.969</td>\n",
       "      <td>4214.2</td>\n",
       "      <td>2008.8</td>\n",
       "      <td>4274.7</td>\n",
       "      <td>2052.7</td>\n",
       "      <td>r</td>\n",
       "      <td>18578_3900_1950.jpg</td>\n",
       "      <td>3900</td>\n",
       "      <td>1950</td>\n",
       "      <td>18578</td>\n",
       "    </tr>\n",
       "    <tr>\n",
       "      <th>1</th>\n",
       "      <td>18578_3900_1950</td>\n",
       "      <td>0.961</td>\n",
       "      <td>4309.5</td>\n",
       "      <td>2262.9</td>\n",
       "      <td>4355.6</td>\n",
       "      <td>2297.7</td>\n",
       "      <td>r</td>\n",
       "      <td>18578_3900_1950.jpg</td>\n",
       "      <td>3900</td>\n",
       "      <td>1950</td>\n",
       "      <td>18578</td>\n",
       "    </tr>\n",
       "    <tr>\n",
       "      <th>2</th>\n",
       "      <td>18578_3900_1950</td>\n",
       "      <td>0.859</td>\n",
       "      <td>4464.3</td>\n",
       "      <td>2322.8</td>\n",
       "      <td>4533.1</td>\n",
       "      <td>2399.7</td>\n",
       "      <td>r</td>\n",
       "      <td>18578_3900_1950.jpg</td>\n",
       "      <td>3900</td>\n",
       "      <td>1950</td>\n",
       "      <td>18578</td>\n",
       "    </tr>\n",
       "    <tr>\n",
       "      <th>3</th>\n",
       "      <td>18578_3900_1950</td>\n",
       "      <td>0.612</td>\n",
       "      <td>4259.8</td>\n",
       "      <td>2377.1</td>\n",
       "      <td>4317.7</td>\n",
       "      <td>2412.2</td>\n",
       "      <td>r</td>\n",
       "      <td>18578_3900_1950.jpg</td>\n",
       "      <td>3900</td>\n",
       "      <td>1950</td>\n",
       "      <td>18578</td>\n",
       "    </tr>\n",
       "    <tr>\n",
       "      <th>14</th>\n",
       "      <td>6906_975_1950</td>\n",
       "      <td>0.634</td>\n",
       "      <td>1494.1</td>\n",
       "      <td>2696.8</td>\n",
       "      <td>1562.3</td>\n",
       "      <td>2847.0</td>\n",
       "      <td>r</td>\n",
       "      <td>6906_975_1950.jpg</td>\n",
       "      <td>975</td>\n",
       "      <td>1950</td>\n",
       "      <td>6906</td>\n",
       "    </tr>\n",
       "  </tbody>\n",
       "</table>\n",
       "</div>"
      ],
      "text/plain": [
       "         file_index  confidence   x_min   y_min   x_max   y_max class_name  \\\n",
       "0   18578_3900_1950       0.969  4214.2  2008.8  4274.7  2052.7          r   \n",
       "1   18578_3900_1950       0.961  4309.5  2262.9  4355.6  2297.7          r   \n",
       "2   18578_3900_1950       0.859  4464.3  2322.8  4533.1  2399.7          r   \n",
       "3   18578_3900_1950       0.612  4259.8  2377.1  4317.7  2412.2          r   \n",
       "14    6906_975_1950       0.634  1494.1  2696.8  1562.3  2847.0          r   \n",
       "\n",
       "              file_name  x_shift  y_shift  test_id  \n",
       "0   18578_3900_1950.jpg     3900     1950    18578  \n",
       "1   18578_3900_1950.jpg     3900     1950    18578  \n",
       "2   18578_3900_1950.jpg     3900     1950    18578  \n",
       "3   18578_3900_1950.jpg     3900     1950    18578  \n",
       "14    6906_975_1950.jpg      975     1950     6906  "
      ]
     },
     "execution_count": 137,
     "metadata": {},
     "output_type": "execute_result"
    }
   ],
   "source": [
    "df.head()"
   ]
  },
  {
   "cell_type": "code",
   "execution_count": 138,
   "metadata": {
    "collapsed": true
   },
   "outputs": [],
   "source": [
    "class_name_dict = {'r': 'adult_males',\n",
    "                  'b': 'adult_females',\n",
    "                   'p': 'subadult_males',\n",
    "                  'bl': 'juveniles',\n",
    "                  'g': 'pups'}"
   ]
  },
  {
   "cell_type": "code",
   "execution_count": 139,
   "metadata": {
    "collapsed": false
   },
   "outputs": [],
   "source": [
    "g = pd.DataFrame(df.groupby(['test_id', 'class_name'])['x_min'].count()).reset_index()"
   ]
  },
  {
   "cell_type": "code",
   "execution_count": 140,
   "metadata": {
    "collapsed": false
   },
   "outputs": [],
   "source": [
    "g['class_name'] = g['class_name'].map(class_name_dict)"
   ]
  },
  {
   "cell_type": "code",
   "execution_count": 141,
   "metadata": {
    "collapsed": false
   },
   "outputs": [],
   "source": [
    "df1 = g.pivot(index='test_id', columns='class_name', values='x_min')"
   ]
  },
  {
   "cell_type": "code",
   "execution_count": 142,
   "metadata": {
    "collapsed": false
   },
   "outputs": [],
   "source": [
    "df1 = df1.reset_index()"
   ]
  },
  {
   "cell_type": "code",
   "execution_count": 143,
   "metadata": {
    "collapsed": false
   },
   "outputs": [
    {
     "data": {
      "text/html": [
       "<div>\n",
       "<table border=\"1\" class=\"dataframe\">\n",
       "  <thead>\n",
       "    <tr style=\"text-align: right;\">\n",
       "      <th>class_name</th>\n",
       "      <th>test_id</th>\n",
       "      <th>adult_females</th>\n",
       "      <th>adult_males</th>\n",
       "      <th>juveniles</th>\n",
       "      <th>pups</th>\n",
       "      <th>subadult_males</th>\n",
       "    </tr>\n",
       "  </thead>\n",
       "  <tbody>\n",
       "    <tr>\n",
       "      <th>0</th>\n",
       "      <td>0</td>\n",
       "      <td>24.0</td>\n",
       "      <td>9.0</td>\n",
       "      <td>2.0</td>\n",
       "      <td>NaN</td>\n",
       "      <td>3.0</td>\n",
       "    </tr>\n",
       "    <tr>\n",
       "      <th>1</th>\n",
       "      <td>1</td>\n",
       "      <td>2.0</td>\n",
       "      <td>2.0</td>\n",
       "      <td>NaN</td>\n",
       "      <td>NaN</td>\n",
       "      <td>NaN</td>\n",
       "    </tr>\n",
       "    <tr>\n",
       "      <th>2</th>\n",
       "      <td>2</td>\n",
       "      <td>NaN</td>\n",
       "      <td>1.0</td>\n",
       "      <td>NaN</td>\n",
       "      <td>NaN</td>\n",
       "      <td>NaN</td>\n",
       "    </tr>\n",
       "    <tr>\n",
       "      <th>3</th>\n",
       "      <td>3</td>\n",
       "      <td>1.0</td>\n",
       "      <td>NaN</td>\n",
       "      <td>2.0</td>\n",
       "      <td>NaN</td>\n",
       "      <td>2.0</td>\n",
       "    </tr>\n",
       "    <tr>\n",
       "      <th>4</th>\n",
       "      <td>4</td>\n",
       "      <td>1.0</td>\n",
       "      <td>6.0</td>\n",
       "      <td>NaN</td>\n",
       "      <td>NaN</td>\n",
       "      <td>1.0</td>\n",
       "    </tr>\n",
       "  </tbody>\n",
       "</table>\n",
       "</div>"
      ],
      "text/plain": [
       "class_name  test_id  adult_females  adult_males  juveniles  pups  \\\n",
       "0                 0           24.0          9.0        2.0   NaN   \n",
       "1                 1            2.0          2.0        NaN   NaN   \n",
       "2                 2            NaN          1.0        NaN   NaN   \n",
       "3                 3            1.0          NaN        2.0   NaN   \n",
       "4                 4            1.0          6.0        NaN   NaN   \n",
       "\n",
       "class_name  subadult_males  \n",
       "0                      3.0  \n",
       "1                      NaN  \n",
       "2                      NaN  \n",
       "3                      2.0  \n",
       "4                      1.0  "
      ]
     },
     "execution_count": 143,
     "metadata": {},
     "output_type": "execute_result"
    }
   ],
   "source": [
    "df1.head()"
   ]
  },
  {
   "cell_type": "code",
   "execution_count": 144,
   "metadata": {
    "collapsed": false
   },
   "outputs": [
    {
     "data": {
      "text/plain": [
       "(17288, 6)"
      ]
     },
     "execution_count": 144,
     "metadata": {},
     "output_type": "execute_result"
    }
   ],
   "source": [
    "df1.shape"
   ]
  },
  {
   "cell_type": "code",
   "execution_count": 145,
   "metadata": {
    "collapsed": false
   },
   "outputs": [],
   "source": [
    "sample = pd.DataFrame(pd.read_csv('../data/sample_submission.csv')['test_id'])\n",
    "sample['x'] = 1"
   ]
  },
  {
   "cell_type": "code",
   "execution_count": 146,
   "metadata": {
    "collapsed": false
   },
   "outputs": [
    {
     "data": {
      "text/html": [
       "<div>\n",
       "<table border=\"1\" class=\"dataframe\">\n",
       "  <thead>\n",
       "    <tr style=\"text-align: right;\">\n",
       "      <th></th>\n",
       "      <th>test_id</th>\n",
       "      <th>x</th>\n",
       "    </tr>\n",
       "  </thead>\n",
       "  <tbody>\n",
       "    <tr>\n",
       "      <th>0</th>\n",
       "      <td>0</td>\n",
       "      <td>1</td>\n",
       "    </tr>\n",
       "    <tr>\n",
       "      <th>1</th>\n",
       "      <td>1</td>\n",
       "      <td>1</td>\n",
       "    </tr>\n",
       "    <tr>\n",
       "      <th>2</th>\n",
       "      <td>2</td>\n",
       "      <td>1</td>\n",
       "    </tr>\n",
       "    <tr>\n",
       "      <th>3</th>\n",
       "      <td>3</td>\n",
       "      <td>1</td>\n",
       "    </tr>\n",
       "    <tr>\n",
       "      <th>4</th>\n",
       "      <td>4</td>\n",
       "      <td>1</td>\n",
       "    </tr>\n",
       "  </tbody>\n",
       "</table>\n",
       "</div>"
      ],
      "text/plain": [
       "   test_id  x\n",
       "0        0  1\n",
       "1        1  1\n",
       "2        2  1\n",
       "3        3  1\n",
       "4        4  1"
      ]
     },
     "execution_count": 146,
     "metadata": {},
     "output_type": "execute_result"
    }
   ],
   "source": [
    "sample.head()"
   ]
  },
  {
   "cell_type": "code",
   "execution_count": 147,
   "metadata": {
    "collapsed": false
   },
   "outputs": [],
   "source": [
    "sample = sample.merge(df1, on='test_id', how='left', left_index=True)"
   ]
  },
  {
   "cell_type": "code",
   "execution_count": 148,
   "metadata": {
    "collapsed": true
   },
   "outputs": [],
   "source": [
    "sample = sample.drop('x', 1).fillna(0)"
   ]
  },
  {
   "cell_type": "code",
   "execution_count": 149,
   "metadata": {
    "collapsed": false
   },
   "outputs": [],
   "source": [
    "for column in sample.columns:\n",
    "    sample[column] = sample[column].astype(int)"
   ]
  },
  {
   "cell_type": "code",
   "execution_count": 150,
   "metadata": {
    "collapsed": true
   },
   "outputs": [],
   "source": [
    "sample.to_csv('../data/06.csv', index=False)"
   ]
  },
  {
   "cell_type": "code",
   "execution_count": 151,
   "metadata": {
    "collapsed": false
   },
   "outputs": [
    {
     "data": {
      "text/html": [
       "<div>\n",
       "<table border=\"1\" class=\"dataframe\">\n",
       "  <thead>\n",
       "    <tr style=\"text-align: right;\">\n",
       "      <th></th>\n",
       "      <th>test_id</th>\n",
       "      <th>adult_females</th>\n",
       "      <th>adult_males</th>\n",
       "      <th>juveniles</th>\n",
       "      <th>pups</th>\n",
       "      <th>subadult_males</th>\n",
       "    </tr>\n",
       "  </thead>\n",
       "  <tbody>\n",
       "    <tr>\n",
       "      <th>0</th>\n",
       "      <td>0</td>\n",
       "      <td>24</td>\n",
       "      <td>9</td>\n",
       "      <td>2</td>\n",
       "      <td>0</td>\n",
       "      <td>3</td>\n",
       "    </tr>\n",
       "    <tr>\n",
       "      <th>1</th>\n",
       "      <td>1</td>\n",
       "      <td>2</td>\n",
       "      <td>2</td>\n",
       "      <td>0</td>\n",
       "      <td>0</td>\n",
       "      <td>0</td>\n",
       "    </tr>\n",
       "    <tr>\n",
       "      <th>2</th>\n",
       "      <td>2</td>\n",
       "      <td>0</td>\n",
       "      <td>1</td>\n",
       "      <td>0</td>\n",
       "      <td>0</td>\n",
       "      <td>0</td>\n",
       "    </tr>\n",
       "    <tr>\n",
       "      <th>3</th>\n",
       "      <td>3</td>\n",
       "      <td>1</td>\n",
       "      <td>0</td>\n",
       "      <td>2</td>\n",
       "      <td>0</td>\n",
       "      <td>2</td>\n",
       "    </tr>\n",
       "    <tr>\n",
       "      <th>4</th>\n",
       "      <td>4</td>\n",
       "      <td>1</td>\n",
       "      <td>6</td>\n",
       "      <td>0</td>\n",
       "      <td>0</td>\n",
       "      <td>1</td>\n",
       "    </tr>\n",
       "  </tbody>\n",
       "</table>\n",
       "</div>"
      ],
      "text/plain": [
       "   test_id  adult_females  adult_males  juveniles  pups  subadult_males\n",
       "0        0             24            9          2     0               3\n",
       "1        1              2            2          0     0               0\n",
       "2        2              0            1          0     0               0\n",
       "3        3              1            0          2     0               2\n",
       "4        4              1            6          0     0               1"
      ]
     },
     "execution_count": 151,
     "metadata": {},
     "output_type": "execute_result"
    }
   ],
   "source": [
    "sample.head()"
   ]
  },
  {
   "cell_type": "code",
   "execution_count": 152,
   "metadata": {
    "collapsed": false
   },
   "outputs": [
    {
     "name": "stdout",
     "output_type": "stream",
     "text": [
      "<class 'pandas.core.frame.DataFrame'>\n",
      "Int64Index: 18636 entries, 0 to 17287\n",
      "Data columns (total 6 columns):\n",
      "test_id           18636 non-null int64\n",
      "adult_females     18636 non-null int64\n",
      "adult_males       18636 non-null int64\n",
      "juveniles         18636 non-null int64\n",
      "pups              18636 non-null int64\n",
      "subadult_males    18636 non-null int64\n",
      "dtypes: int64(6)\n",
      "memory usage: 1019.2 KB\n"
     ]
    }
   ],
   "source": [
    "sample.info()"
   ]
  },
  {
   "cell_type": "code",
   "execution_count": 153,
   "metadata": {
    "collapsed": false
   },
   "outputs": [
    {
     "data": {
      "text/html": [
       "<div>\n",
       "<table border=\"1\" class=\"dataframe\">\n",
       "  <thead>\n",
       "    <tr style=\"text-align: right;\">\n",
       "      <th></th>\n",
       "      <th>file_index</th>\n",
       "      <th>confidence</th>\n",
       "      <th>x_min</th>\n",
       "      <th>y_min</th>\n",
       "      <th>x_max</th>\n",
       "      <th>y_max</th>\n",
       "      <th>class_name</th>\n",
       "      <th>file_name</th>\n",
       "      <th>x_shift</th>\n",
       "      <th>y_shift</th>\n",
       "      <th>test_id</th>\n",
       "    </tr>\n",
       "  </thead>\n",
       "  <tbody>\n",
       "    <tr>\n",
       "      <th>0</th>\n",
       "      <td>18578_3900_1950</td>\n",
       "      <td>0.969</td>\n",
       "      <td>4214.2</td>\n",
       "      <td>2008.8</td>\n",
       "      <td>4274.7</td>\n",
       "      <td>2052.7</td>\n",
       "      <td>r</td>\n",
       "      <td>18578_3900_1950.jpg</td>\n",
       "      <td>3900</td>\n",
       "      <td>1950</td>\n",
       "      <td>18578</td>\n",
       "    </tr>\n",
       "    <tr>\n",
       "      <th>1</th>\n",
       "      <td>18578_3900_1950</td>\n",
       "      <td>0.961</td>\n",
       "      <td>4309.5</td>\n",
       "      <td>2262.9</td>\n",
       "      <td>4355.6</td>\n",
       "      <td>2297.7</td>\n",
       "      <td>r</td>\n",
       "      <td>18578_3900_1950.jpg</td>\n",
       "      <td>3900</td>\n",
       "      <td>1950</td>\n",
       "      <td>18578</td>\n",
       "    </tr>\n",
       "    <tr>\n",
       "      <th>2</th>\n",
       "      <td>18578_3900_1950</td>\n",
       "      <td>0.859</td>\n",
       "      <td>4464.3</td>\n",
       "      <td>2322.8</td>\n",
       "      <td>4533.1</td>\n",
       "      <td>2399.7</td>\n",
       "      <td>r</td>\n",
       "      <td>18578_3900_1950.jpg</td>\n",
       "      <td>3900</td>\n",
       "      <td>1950</td>\n",
       "      <td>18578</td>\n",
       "    </tr>\n",
       "    <tr>\n",
       "      <th>3</th>\n",
       "      <td>18578_3900_1950</td>\n",
       "      <td>0.612</td>\n",
       "      <td>4259.8</td>\n",
       "      <td>2377.1</td>\n",
       "      <td>4317.7</td>\n",
       "      <td>2412.2</td>\n",
       "      <td>r</td>\n",
       "      <td>18578_3900_1950.jpg</td>\n",
       "      <td>3900</td>\n",
       "      <td>1950</td>\n",
       "      <td>18578</td>\n",
       "    </tr>\n",
       "    <tr>\n",
       "      <th>14</th>\n",
       "      <td>6906_975_1950</td>\n",
       "      <td>0.634</td>\n",
       "      <td>1494.1</td>\n",
       "      <td>2696.8</td>\n",
       "      <td>1562.3</td>\n",
       "      <td>2847.0</td>\n",
       "      <td>r</td>\n",
       "      <td>6906_975_1950.jpg</td>\n",
       "      <td>975</td>\n",
       "      <td>1950</td>\n",
       "      <td>6906</td>\n",
       "    </tr>\n",
       "  </tbody>\n",
       "</table>\n",
       "</div>"
      ],
      "text/plain": [
       "         file_index  confidence   x_min   y_min   x_max   y_max class_name  \\\n",
       "0   18578_3900_1950       0.969  4214.2  2008.8  4274.7  2052.7          r   \n",
       "1   18578_3900_1950       0.961  4309.5  2262.9  4355.6  2297.7          r   \n",
       "2   18578_3900_1950       0.859  4464.3  2322.8  4533.1  2399.7          r   \n",
       "3   18578_3900_1950       0.612  4259.8  2377.1  4317.7  2412.2          r   \n",
       "14    6906_975_1950       0.634  1494.1  2696.8  1562.3  2847.0          r   \n",
       "\n",
       "              file_name  x_shift  y_shift  test_id  \n",
       "0   18578_3900_1950.jpg     3900     1950    18578  \n",
       "1   18578_3900_1950.jpg     3900     1950    18578  \n",
       "2   18578_3900_1950.jpg     3900     1950    18578  \n",
       "3   18578_3900_1950.jpg     3900     1950    18578  \n",
       "14    6906_975_1950.jpg      975     1950     6906  "
      ]
     },
     "execution_count": 153,
     "metadata": {},
     "output_type": "execute_result"
    }
   ],
   "source": [
    "df.head()"
   ]
  },
  {
   "cell_type": "code",
   "execution_count": 154,
   "metadata": {
    "collapsed": false
   },
   "outputs": [
    {
     "data": {
      "text/html": [
       "<div>\n",
       "<table border=\"1\" class=\"dataframe\">\n",
       "  <thead>\n",
       "    <tr style=\"text-align: right;\">\n",
       "      <th></th>\n",
       "      <th>test_id</th>\n",
       "      <th>adult_females</th>\n",
       "      <th>adult_males</th>\n",
       "      <th>juveniles</th>\n",
       "      <th>pups</th>\n",
       "      <th>subadult_males</th>\n",
       "    </tr>\n",
       "  </thead>\n",
       "  <tbody>\n",
       "    <tr>\n",
       "      <th>count</th>\n",
       "      <td>18636.000000</td>\n",
       "      <td>18636.000000</td>\n",
       "      <td>18636.000000</td>\n",
       "      <td>18636.000000</td>\n",
       "      <td>18636.000000</td>\n",
       "      <td>18636.000000</td>\n",
       "    </tr>\n",
       "    <tr>\n",
       "      <th>mean</th>\n",
       "      <td>9317.500000</td>\n",
       "      <td>17.584085</td>\n",
       "      <td>7.680189</td>\n",
       "      <td>2.688184</td>\n",
       "      <td>2.142037</td>\n",
       "      <td>2.920262</td>\n",
       "    </tr>\n",
       "    <tr>\n",
       "      <th>std</th>\n",
       "      <td>5379.894144</td>\n",
       "      <td>29.730962</td>\n",
       "      <td>10.068635</td>\n",
       "      <td>6.472352</td>\n",
       "      <td>7.376345</td>\n",
       "      <td>4.800576</td>\n",
       "    </tr>\n",
       "    <tr>\n",
       "      <th>min</th>\n",
       "      <td>0.000000</td>\n",
       "      <td>0.000000</td>\n",
       "      <td>0.000000</td>\n",
       "      <td>0.000000</td>\n",
       "      <td>0.000000</td>\n",
       "      <td>0.000000</td>\n",
       "    </tr>\n",
       "    <tr>\n",
       "      <th>25%</th>\n",
       "      <td>4658.750000</td>\n",
       "      <td>1.000000</td>\n",
       "      <td>1.000000</td>\n",
       "      <td>0.000000</td>\n",
       "      <td>0.000000</td>\n",
       "      <td>0.000000</td>\n",
       "    </tr>\n",
       "    <tr>\n",
       "      <th>50%</th>\n",
       "      <td>9317.500000</td>\n",
       "      <td>5.000000</td>\n",
       "      <td>4.000000</td>\n",
       "      <td>1.000000</td>\n",
       "      <td>0.000000</td>\n",
       "      <td>1.000000</td>\n",
       "    </tr>\n",
       "    <tr>\n",
       "      <th>75%</th>\n",
       "      <td>13976.250000</td>\n",
       "      <td>22.000000</td>\n",
       "      <td>10.000000</td>\n",
       "      <td>3.000000</td>\n",
       "      <td>1.000000</td>\n",
       "      <td>4.000000</td>\n",
       "    </tr>\n",
       "    <tr>\n",
       "      <th>max</th>\n",
       "      <td>18635.000000</td>\n",
       "      <td>407.000000</td>\n",
       "      <td>137.000000</td>\n",
       "      <td>192.000000</td>\n",
       "      <td>122.000000</td>\n",
       "      <td>77.000000</td>\n",
       "    </tr>\n",
       "  </tbody>\n",
       "</table>\n",
       "</div>"
      ],
      "text/plain": [
       "            test_id  adult_females   adult_males     juveniles          pups  \\\n",
       "count  18636.000000   18636.000000  18636.000000  18636.000000  18636.000000   \n",
       "mean    9317.500000      17.584085      7.680189      2.688184      2.142037   \n",
       "std     5379.894144      29.730962     10.068635      6.472352      7.376345   \n",
       "min        0.000000       0.000000      0.000000      0.000000      0.000000   \n",
       "25%     4658.750000       1.000000      1.000000      0.000000      0.000000   \n",
       "50%     9317.500000       5.000000      4.000000      1.000000      0.000000   \n",
       "75%    13976.250000      22.000000     10.000000      3.000000      1.000000   \n",
       "max    18635.000000     407.000000    137.000000    192.000000    122.000000   \n",
       "\n",
       "       subadult_males  \n",
       "count    18636.000000  \n",
       "mean         2.920262  \n",
       "std          4.800576  \n",
       "min          0.000000  \n",
       "25%          0.000000  \n",
       "50%          1.000000  \n",
       "75%          4.000000  \n",
       "max         77.000000  "
      ]
     },
     "execution_count": 154,
     "metadata": {},
     "output_type": "execute_result"
    }
   ],
   "source": [
    "sample.describe()"
   ]
  },
  {
   "cell_type": "code",
   "execution_count": 155,
   "metadata": {
    "collapsed": false
   },
   "outputs": [],
   "source": [
    "df['id'] = df['test_id'].astype(str) + '_' + df['class_name']"
   ]
  },
  {
   "cell_type": "code",
   "execution_count": 69,
   "metadata": {
    "collapsed": false
   },
   "outputs": [],
   "source": [
    "g = df.groupby('id')"
   ]
  },
  {
   "cell_type": "code",
   "execution_count": 70,
   "metadata": {
    "collapsed": false
   },
   "outputs": [],
   "source": [
    "scores_input = tf.placeholder(tf.float32, shape=(None, ))\n",
    "bboxes_input = tf.placeholder(tf.float32, shape=(None, 4))\n",
    "bboxes_selection = tf.image.non_max_suppression(bboxes_input, scores_input, max_output_size=99, iou_threshold=0.2)\n",
    "\n",
    "selected_bboxes = tf.gather(bboxes_input, bboxes_selection)"
   ]
  },
  {
   "cell_type": "code",
   "execution_count": null,
   "metadata": {
    "collapsed": false
   },
   "outputs": [
    {
     "name": "stderr",
     "output_type": "stream",
     "text": [
      "  3%|▎         | 1448/57313 [00:51<1:06:50, 13.93it/s]"
     ]
    }
   ],
   "source": [
    "# sess = tf.Session()\n",
    "temp = []\n",
    "\n",
    "for file_id, df_c in tqdm(g):\n",
    "    sess = tf.Session()\n",
    "    scores = df_c['confidence']\n",
    "    bboxes = df_c[['x_min', 'y_min', 'x_max', 'y_max']].values\n",
    "    \n",
    "    result_bboxes = sess.run(selected_bboxes, feed_dict={scores_input: scores, bboxes_input: bboxes})\n",
    "    selected_scores = sess.run(tf.gather(scores_input, bboxes_selection), feed_dict={scores_input: scores, bboxes_input: bboxes})\n",
    "    \n",
    "    df = pd.DataFrame(result_bboxes, columns = ['x_min', 'y_min', 'x_max', 'y_max'])\n",
    "    df['id'] = file_id\n",
    "    df['confidence'] = selected_scores\n",
    "    \n",
    "    temp += [df]\n",
    "    \n",
    "    sess.close()"
   ]
  },
  {
   "cell_type": "code",
   "execution_count": 72,
   "metadata": {
    "collapsed": true
   },
   "outputs": [],
   "source": [
    "df = pd.concat(temp).reset_index(drop=True)"
   ]
  },
  {
   "cell_type": "code",
   "execution_count": 73,
   "metadata": {
    "collapsed": false
   },
   "outputs": [
    {
     "ename": "NameError",
     "evalue": "name 'asd' is not defined",
     "output_type": "error",
     "traceback": [
      "\u001b[0;31m---------------------------------------------------------------------\u001b[0m",
      "\u001b[0;31mNameError\u001b[0m                           Traceback (most recent call last)",
      "\u001b[0;32m<ipython-input-73-e07910a06a08>\u001b[0m in \u001b[0;36m<module>\u001b[0;34m()\u001b[0m\n\u001b[0;32m----> 1\u001b[0;31m \u001b[0masd\u001b[0m\u001b[0;34m\u001b[0m\u001b[0m\n\u001b[0m",
      "\u001b[0;31mNameError\u001b[0m: name 'asd' is not defined"
     ]
    }
   ],
   "source": [
    "asd"
   ]
  },
  {
   "cell_type": "code",
   "execution_count": null,
   "metadata": {
    "collapsed": false
   },
   "outputs": [],
   "source": [
    "df.shape"
   ]
  },
  {
   "cell_type": "code",
   "execution_count": null,
   "metadata": {
    "collapsed": false
   },
   "outputs": [],
   "source": [
    "df.head()"
   ]
  },
  {
   "cell_type": "code",
   "execution_count": null,
   "metadata": {
    "collapsed": false
   },
   "outputs": [],
   "source": [
    "# ind = (df['x_min'] < 2) | (df['y_min'] < 2) | (df['x_max'] > 1998) | (df['y_max'] > 1998)"
   ]
  },
  {
   "cell_type": "code",
   "execution_count": null,
   "metadata": {
    "collapsed": true
   },
   "outputs": [],
   "source": [
    "# df = df[~ind].reset_index(drop=True)"
   ]
  },
  {
   "cell_type": "code",
   "execution_count": null,
   "metadata": {
    "collapsed": true
   },
   "outputs": [],
   "source": [
    "sample_1 = pd.read_csv('../data/sampleSubmission.csv')"
   ]
  },
  {
   "cell_type": "code",
   "execution_count": null,
   "metadata": {
    "collapsed": true
   },
   "outputs": [],
   "source": [
    "sample_1['file_name'] = sample_1['id'].str.slice(0, 10) + '.jpg'"
   ]
  },
  {
   "cell_type": "code",
   "execution_count": null,
   "metadata": {
    "collapsed": false
   },
   "outputs": [],
   "source": [
    "sample_1.head()"
   ]
  },
  {
   "cell_type": "code",
   "execution_count": null,
   "metadata": {
    "collapsed": false
   },
   "outputs": [],
   "source": [
    "df.head()"
   ]
  },
  {
   "cell_type": "code",
   "execution_count": null,
   "metadata": {
    "collapsed": true
   },
   "outputs": [],
   "source": [
    "df['class_name'] = df['id'].str.get(11)"
   ]
  },
  {
   "cell_type": "code",
   "execution_count": null,
   "metadata": {
    "collapsed": true
   },
   "outputs": [],
   "source": [
    "df['file_name'] = df['id'].str.slice(0, 10) + '.jpg'"
   ]
  },
  {
   "cell_type": "code",
   "execution_count": null,
   "metadata": {
    "collapsed": false
   },
   "outputs": [],
   "source": [
    "keys = df['class_name'].unique()\n",
    "class_map_dict = dict(zip(keys, range(9)))\n",
    "class_map_dict_back = dict(zip(range(9), keys))"
   ]
  },
  {
   "cell_type": "code",
   "execution_count": null,
   "metadata": {
    "collapsed": false
   },
   "outputs": [],
   "source": [
    "class_map_dict"
   ]
  },
  {
   "cell_type": "code",
   "execution_count": null,
   "metadata": {
    "collapsed": true
   },
   "outputs": [],
   "source": [
    "df['class_name'] = df['class_name'].map(class_map_dict)"
   ]
  },
  {
   "cell_type": "code",
   "execution_count": null,
   "metadata": {
    "collapsed": false
   },
   "outputs": [],
   "source": [
    "df.head()"
   ]
  },
  {
   "cell_type": "code",
   "execution_count": null,
   "metadata": {
    "collapsed": true
   },
   "outputs": [],
   "source": [
    "g = df.groupby('file_name')"
   ]
  },
  {
   "cell_type": "code",
   "execution_count": null,
   "metadata": {
    "collapsed": true
   },
   "outputs": [],
   "source": [
    "scores_input = tf.placeholder(tf.float32, shape=(None, ))\n",
    "bboxes_input = tf.placeholder(tf.float32, shape=(None, 4))\n",
    "class_input = tf.placeholder(tf.float32, shape=(None, ))\n",
    "\n",
    "bboxes_selection = tf.image.non_max_suppression(bboxes_input, scores_input, max_output_size=99, iou_threshold=0.5)\n",
    "\n",
    "selected_bboxes = tf.gather(bboxes_input, bboxes_selection)"
   ]
  },
  {
   "cell_type": "code",
   "execution_count": null,
   "metadata": {
    "collapsed": false
   },
   "outputs": [],
   "source": [
    "sess = tf.Session()\n",
    "temp = []\n",
    "\n",
    "for file_name, df_c in tqdm(g):\n",
    "    \n",
    "    scores = df_c['confidence']\n",
    "    bboxes = df_c[['x_min', 'y_min', 'x_max', 'y_max']].values\n",
    "    class_name = df_c['class_name']\n",
    "    \n",
    "    \n",
    "    result_bboxes = sess.run(selected_bboxes, feed_dict={scores_input: scores, bboxes_input: bboxes})    \n",
    "    selected_scores = sess.run(tf.gather(scores_input, bboxes_selection), feed_dict={scores_input: scores, bboxes_input: bboxes})\n",
    "    \n",
    "    selected_class = sess.run(tf.gather(class_input, bboxes_selection), feed_dict={class_input: class_name, \n",
    "                                                                                   scores_input: scores,\n",
    "                                                                                   bboxes_input: bboxes})\n",
    "    \n",
    "    df = pd.DataFrame(result_bboxes, columns = ['x_min', 'y_min', 'x_max', 'y_max'])\n",
    "    df['file_name'] = file_name\n",
    "    df['confidence'] = selected_scores\n",
    "    df['class_name'] = selected_class\n",
    "    \n",
    "    temp += [df]\n",
    "    \n",
    "sess.close()"
   ]
  },
  {
   "cell_type": "code",
   "execution_count": null,
   "metadata": {
    "collapsed": false
   },
   "outputs": [],
   "source": [
    "df = pd.concat(temp).reset_index(drop=True)"
   ]
  },
  {
   "cell_type": "code",
   "execution_count": null,
   "metadata": {
    "collapsed": false
   },
   "outputs": [],
   "source": [
    "df.shape"
   ]
  },
  {
   "cell_type": "code",
   "execution_count": null,
   "metadata": {
    "collapsed": false
   },
   "outputs": [],
   "source": [
    "df['class_name'] = df['class_name'].astype(int).map(class_map_dict_back)"
   ]
  },
  {
   "cell_type": "code",
   "execution_count": null,
   "metadata": {
    "collapsed": false
   },
   "outputs": [],
   "source": [
    "df.head()"
   ]
  },
  {
   "cell_type": "code",
   "execution_count": null,
   "metadata": {
    "collapsed": true
   },
   "outputs": [],
   "source": [
    "# df_lif = pd.read_csv('../notebooks/lif_pred.csv')"
   ]
  },
  {
   "cell_type": "code",
   "execution_count": null,
   "metadata": {
    "collapsed": false
   },
   "outputs": [],
   "source": [
    "# df_lif.head()"
   ]
  },
  {
   "cell_type": "code",
   "execution_count": null,
   "metadata": {
    "collapsed": false
   },
   "outputs": [],
   "source": [
    "# df_lif['id'] = df_lif['file_name'].str.replace('.jpg', '') + '_' + df_lif['class_name']\n",
    "# df_lif['confidence'] = 1"
   ]
  },
  {
   "cell_type": "code",
   "execution_count": null,
   "metadata": {
    "collapsed": true
   },
   "outputs": [],
   "source": [
    "# df = df[~df['file_name'].isin(df_lif['file_name'])]"
   ]
  },
  {
   "cell_type": "code",
   "execution_count": null,
   "metadata": {
    "collapsed": true
   },
   "outputs": [],
   "source": [
    "# df_lif = df_lif[df_lif['class_name'].notnull()]"
   ]
  },
  {
   "cell_type": "code",
   "execution_count": null,
   "metadata": {
    "collapsed": false
   },
   "outputs": [],
   "source": [
    "# df = pd.concat([df, df_lif]).reset_index(drop=True)"
   ]
  },
  {
   "cell_type": "code",
   "execution_count": null,
   "metadata": {
    "collapsed": false
   },
   "outputs": [],
   "source": [
    "df.shape"
   ]
  },
  {
   "cell_type": "code",
   "execution_count": null,
   "metadata": {
    "collapsed": true
   },
   "outputs": [],
   "source": [
    "colors = {'A': (0, 0, 255),\n",
    "         'B': (255, 255, 255),\n",
    "         'C': (255, 0, 0),\n",
    "         'D': (127, 0, 255),\n",
    "         'E': (255, 255, 0),\n",
    "         'F': (255, 0, 127),\n",
    "         'G': (0, 255, 255),\n",
    "         'H': (0, 128, 255),\n",
    "         'I': (51, 102, 0)}"
   ]
  },
  {
   "cell_type": "code",
   "execution_count": null,
   "metadata": {
    "collapsed": true
   },
   "outputs": [],
   "source": [
    "font = cv2.FONT_HERSHEY_SIMPLEX"
   ]
  },
  {
   "cell_type": "code",
   "execution_count": null,
   "metadata": {
    "collapsed": false
   },
   "outputs": [],
   "source": [
    "for file_name in tqdm(sample_1['file_name'].unique()):\n",
    "    img = cv2.imread(os.path.join('/home/vladimir/workspace/data/dstl_cars/VOC2017/test', file_name))\n",
    "    df_c = df[df['file_name'] == file_name]\n",
    "    for i in df_c.index:\n",
    "        class_name = df_c.loc[i, 'class_name']\n",
    "        probs = df_c.loc[i, 'confidence']        \n",
    "        boxes = df_c.loc[i, ['x_min', 'y_min', 'x_max', 'y_max']].astype(int).values        \n",
    "#         for j, value in enumerate(boxes):            \n",
    "        (x_min, y_min, x_max, y_max) = boxes\n",
    "        img = cv2.rectangle(img, (x_min, y_min), (x_max, y_max), colors[class_name], 2)\n",
    "        img = cv2.putText(img, str(int(100 * probs)), (x_max, y_min), font, 1, colors[class_name], 2)\n",
    "    cv2.imwrite(os.path.join('test_preds', file_name), img)"
   ]
  },
  {
   "cell_type": "code",
   "execution_count": null,
   "metadata": {
    "collapsed": false
   },
   "outputs": [],
   "source": [
    "df.head()"
   ]
  },
  {
   "cell_type": "code",
   "execution_count": null,
   "metadata": {
    "collapsed": true
   },
   "outputs": [],
   "source": [
    "# df['x_min'] = df['x_min'].astype(int)\n",
    "# df['y_min'] = df['y_min'].astype(int)\n",
    "# df['x_max'] = df['x_max'].astype(int)\n",
    "# df['y_max'] = df['y_max'].astype(int)"
   ]
  },
  {
   "cell_type": "code",
   "execution_count": null,
   "metadata": {
    "collapsed": true
   },
   "outputs": [],
   "source": [
    "sample = pd.read_csv('../data/sampleSubmission.csv')"
   ]
  },
  {
   "cell_type": "code",
   "execution_count": null,
   "metadata": {
    "collapsed": true
   },
   "outputs": [],
   "source": [
    "def helper(x):\n",
    "    a = x['filtered_boxes']    \n",
    "    result = []    \n",
    "    for b in a:        \n",
    "        result += ['{x}:{y}'.format(x=int(np.mean([b[0], b[2]])), \n",
    "                                      y=int(np.mean([b[1], b[3]])))]\n",
    "    return '|'.join(result)"
   ]
  },
  {
   "cell_type": "code",
   "execution_count": null,
   "metadata": {
    "collapsed": false
   },
   "outputs": [],
   "source": [
    "df['x_mean'] = ((df['x_min'] + df['x_max']) / 2).astype(int)\n",
    "df['y_mean'] = ((df['y_min'] + df['y_max']) / 2).astype(int)"
   ]
  },
  {
   "cell_type": "code",
   "execution_count": null,
   "metadata": {
    "collapsed": false
   },
   "outputs": [],
   "source": [
    "df['class_name'] = df['class_name'].str.upper()"
   ]
  },
  {
   "cell_type": "code",
   "execution_count": null,
   "metadata": {
    "collapsed": false
   },
   "outputs": [],
   "source": [
    "df.head()"
   ]
  },
  {
   "cell_type": "code",
   "execution_count": null,
   "metadata": {
    "collapsed": true
   },
   "outputs": [],
   "source": [
    "df['id'] = df['file_name'].str.replace('.jpg', '') + '_' + df['class_name']"
   ]
  },
  {
   "cell_type": "code",
   "execution_count": null,
   "metadata": {
    "collapsed": false
   },
   "outputs": [],
   "source": [
    "df.head()"
   ]
  },
  {
   "cell_type": "code",
   "execution_count": null,
   "metadata": {
    "collapsed": false
   },
   "outputs": [],
   "source": [
    "df['score'] = df['x_mean'].astype(str) + ':' + df['y_mean'].astype(str)"
   ]
  },
  {
   "cell_type": "code",
   "execution_count": null,
   "metadata": {
    "collapsed": false
   },
   "outputs": [],
   "source": [
    "# create file that will be changed to the Pascal Voc Format\n",
    "result = []\n",
    "\n",
    "g = df.groupby('file_name')\n",
    "\n",
    "for file_name, df_c in tqdm(g):\n",
    "    temp = []\n",
    "    for i in df_c.index:\n",
    "        x_min = int(df_c.loc[i, 'x_min'])\n",
    "        y_min = int(df_c.loc[i, 'y_min'])\n",
    "        x_max = int(df_c.loc[i, 'x_max'])\n",
    "        y_max = int(df_c.loc[i, 'y_max'])\n",
    "        class_name = df_c.loc[i, 'class_name']\n",
    "        \n",
    "        width = x_max - x_min\n",
    "        height = y_max - y_min\n",
    "        \n",
    "        temp += [{\n",
    "                'x': x_min,\n",
    "                'y': y_min,\n",
    "                'height': height,\n",
    "                'width': width,\n",
    "                'class': class_name\n",
    "            }]\n",
    "        result += [{'filename': '/home/vladimir/workspace/data/dstl_cars/VOC2017/test/' + file_name,\n",
    "                   'annotations': temp,\n",
    "                   'class': \"image\"}]"
   ]
  },
  {
   "cell_type": "code",
   "execution_count": null,
   "metadata": {
    "collapsed": false
   },
   "outputs": [],
   "source": [
    "result[0]"
   ]
  },
  {
   "cell_type": "code",
   "execution_count": null,
   "metadata": {
    "collapsed": false
   },
   "outputs": [],
   "source": [
    "json.dump(result, open('preds.json', 'w'), indent=4)"
   ]
  },
  {
   "cell_type": "code",
   "execution_count": null,
   "metadata": {
    "collapsed": false
   },
   "outputs": [],
   "source": [
    "g = pd.DataFrame(df.groupby('id')['score'].agg(lambda x: '|'.join(x))).reset_index()"
   ]
  },
  {
   "cell_type": "code",
   "execution_count": null,
   "metadata": {
    "collapsed": false
   },
   "outputs": [],
   "source": [
    "s = sample.merge(g, on='id', how='left')"
   ]
  },
  {
   "cell_type": "code",
   "execution_count": null,
   "metadata": {
    "collapsed": false
   },
   "outputs": [],
   "source": [
    "s = s[['id', 'score']]\n",
    "s.columns = ['id', 'detections']"
   ]
  },
  {
   "cell_type": "code",
   "execution_count": null,
   "metadata": {
    "collapsed": false
   },
   "outputs": [],
   "source": [
    "s['detections'] = s['detections'].fillna('None')"
   ]
  },
  {
   "cell_type": "code",
   "execution_count": null,
   "metadata": {
    "collapsed": false
   },
   "outputs": [],
   "source": [
    "s.shape"
   ]
  },
  {
   "cell_type": "code",
   "execution_count": null,
   "metadata": {
    "collapsed": true
   },
   "outputs": [],
   "source": [
    "s.to_csv('../data/try_1000_vgg_32_06.csv', index=False)"
   ]
  },
  {
   "cell_type": "code",
   "execution_count": null,
   "metadata": {
    "collapsed": true
   },
   "outputs": [],
   "source": []
  },
  {
   "cell_type": "code",
   "execution_count": null,
   "metadata": {
    "collapsed": true
   },
   "outputs": [],
   "source": []
  }
 ],
 "metadata": {
  "kernelspec": {
   "display_name": "Python 2",
   "language": "python",
   "name": "python2"
  },
  "language_info": {
   "codemirror_mode": {
    "name": "ipython",
    "version": 2
   },
   "file_extension": ".py",
   "mimetype": "text/x-python",
   "name": "python",
   "nbconvert_exporter": "python",
   "pygments_lexer": "ipython2",
   "version": "2.7.11"
  }
 },
 "nbformat": 4,
 "nbformat_minor": 0
}
