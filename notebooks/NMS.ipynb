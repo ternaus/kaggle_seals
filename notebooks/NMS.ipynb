{
 "cells": [
  {
   "cell_type": "code",
   "execution_count": 300,
   "metadata": {
    "collapsed": false
   },
   "outputs": [],
   "source": [
    "import pandas as pd"
   ]
  },
  {
   "cell_type": "code",
   "execution_count": 301,
   "metadata": {
    "collapsed": false
   },
   "outputs": [],
   "source": [
    "from multiprocessing import Pool, cpu_count, current_process"
   ]
  },
  {
   "cell_type": "code",
   "execution_count": 302,
   "metadata": {
    "collapsed": true
   },
   "outputs": [],
   "source": [
    "from joblib import Parallel, delayed"
   ]
  },
  {
   "cell_type": "code",
   "execution_count": 303,
   "metadata": {
    "collapsed": true
   },
   "outputs": [],
   "source": [
    "import json"
   ]
  },
  {
   "cell_type": "code",
   "execution_count": 304,
   "metadata": {
    "collapsed": true
   },
   "outputs": [],
   "source": [
    "import sys"
   ]
  },
  {
   "cell_type": "code",
   "execution_count": 305,
   "metadata": {
    "collapsed": true
   },
   "outputs": [],
   "source": [
    "import os"
   ]
  },
  {
   "cell_type": "code",
   "execution_count": 306,
   "metadata": {
    "collapsed": false
   },
   "outputs": [],
   "source": [
    "os.environ['CUDA_VISIBLE_DEVICES'] = \"\""
   ]
  },
  {
   "cell_type": "code",
   "execution_count": 307,
   "metadata": {
    "collapsed": true
   },
   "outputs": [],
   "source": [
    "import tensorflow as tf"
   ]
  },
  {
   "cell_type": "code",
   "execution_count": 308,
   "metadata": {
    "collapsed": true
   },
   "outputs": [],
   "source": [
    "import numpy as np"
   ]
  },
  {
   "cell_type": "code",
   "execution_count": 309,
   "metadata": {
    "collapsed": true
   },
   "outputs": [],
   "source": [
    "import os"
   ]
  },
  {
   "cell_type": "code",
   "execution_count": 310,
   "metadata": {
    "collapsed": true
   },
   "outputs": [],
   "source": [
    "from tqdm import tqdm"
   ]
  },
  {
   "cell_type": "code",
   "execution_count": 311,
   "metadata": {
    "collapsed": true
   },
   "outputs": [],
   "source": [
    "import cv2"
   ]
  },
  {
   "cell_type": "code",
   "execution_count": 312,
   "metadata": {
    "collapsed": false
   },
   "outputs": [],
   "source": [
    "temp = []\n",
    "\n",
    "for class_name in ['r', 'p', 'b', 'bl', 'g']:\n",
    "    df = pd.read_csv('/home/vladimir/workspace/data/kaggle_seals/results/comp4_det_test_patches_s0_{class_name}.txt'.format(class_name=class_name) ,\n",
    "                   header=None, \n",
    "                   sep=' ')\n",
    "    df.columns = ['file_index', 'confidence', 'x_min', 'y_min', 'x_max', 'y_max']\n",
    "    \n",
    "    df['class_name'] = class_name\n",
    "    \n",
    "    temp += [df]\n",
    "    \n",
    "    "
   ]
  },
  {
   "cell_type": "code",
   "execution_count": 313,
   "metadata": {
    "collapsed": false
   },
   "outputs": [],
   "source": [
    "for class_name in ['r', 'p', 'b', 'bl', 'g']:\n",
    "    df = pd.read_csv('/home/vladimir/workspace/data/kaggle_seals/results/comp4_det_test_patches_s1_{class_name}.txt'.format(class_name=class_name) ,\n",
    "                   header=None, \n",
    "                   sep=' ')\n",
    "    df.columns = ['file_index', 'confidence', 'x_min', 'y_min', 'x_max', 'y_max']\n",
    "    \n",
    "    df['class_name'] = class_name\n",
    "    \n",
    "    temp += [df]"
   ]
  },
  {
   "cell_type": "code",
   "execution_count": 314,
   "metadata": {
    "collapsed": false
   },
   "outputs": [],
   "source": [
    "df = pd.concat(temp)"
   ]
  },
  {
   "cell_type": "code",
   "execution_count": 315,
   "metadata": {
    "collapsed": false
   },
   "outputs": [
    {
     "data": {
      "text/html": [
       "<div>\n",
       "<table border=\"1\" class=\"dataframe\">\n",
       "  <thead>\n",
       "    <tr style=\"text-align: right;\">\n",
       "      <th></th>\n",
       "      <th>file_index</th>\n",
       "      <th>confidence</th>\n",
       "      <th>x_min</th>\n",
       "      <th>y_min</th>\n",
       "      <th>x_max</th>\n",
       "      <th>y_max</th>\n",
       "      <th>class_name</th>\n",
       "    </tr>\n",
       "  </thead>\n",
       "  <tbody>\n",
       "    <tr>\n",
       "      <th>0</th>\n",
       "      <td>2483_0_728.jpg</td>\n",
       "      <td>0.949</td>\n",
       "      <td>635.5</td>\n",
       "      <td>1.0</td>\n",
       "      <td>666.1</td>\n",
       "      <td>59.3</td>\n",
       "      <td>r</td>\n",
       "    </tr>\n",
       "    <tr>\n",
       "      <th>1</th>\n",
       "      <td>13682_1808_872.jpg</td>\n",
       "      <td>0.016</td>\n",
       "      <td>811.8</td>\n",
       "      <td>419.0</td>\n",
       "      <td>866.2</td>\n",
       "      <td>487.8</td>\n",
       "      <td>r</td>\n",
       "    </tr>\n",
       "    <tr>\n",
       "      <th>2</th>\n",
       "      <td>13682_1808_872.jpg</td>\n",
       "      <td>0.003</td>\n",
       "      <td>892.1</td>\n",
       "      <td>12.1</td>\n",
       "      <td>1000.0</td>\n",
       "      <td>83.7</td>\n",
       "      <td>r</td>\n",
       "    </tr>\n",
       "    <tr>\n",
       "      <th>3</th>\n",
       "      <td>6951_975_0.jpg</td>\n",
       "      <td>0.992</td>\n",
       "      <td>666.0</td>\n",
       "      <td>122.4</td>\n",
       "      <td>716.5</td>\n",
       "      <td>153.2</td>\n",
       "      <td>r</td>\n",
       "    </tr>\n",
       "    <tr>\n",
       "      <th>4</th>\n",
       "      <td>6951_975_0.jpg</td>\n",
       "      <td>0.001</td>\n",
       "      <td>656.8</td>\n",
       "      <td>143.3</td>\n",
       "      <td>706.6</td>\n",
       "      <td>170.5</td>\n",
       "      <td>r</td>\n",
       "    </tr>\n",
       "  </tbody>\n",
       "</table>\n",
       "</div>"
      ],
      "text/plain": [
       "           file_index  confidence  x_min  y_min   x_max  y_max class_name\n",
       "0      2483_0_728.jpg       0.949  635.5    1.0   666.1   59.3          r\n",
       "1  13682_1808_872.jpg       0.016  811.8  419.0   866.2  487.8          r\n",
       "2  13682_1808_872.jpg       0.003  892.1   12.1  1000.0   83.7          r\n",
       "3      6951_975_0.jpg       0.992  666.0  122.4   716.5  153.2          r\n",
       "4      6951_975_0.jpg       0.001  656.8  143.3   706.6  170.5          r"
      ]
     },
     "execution_count": 315,
     "metadata": {},
     "output_type": "execute_result"
    }
   ],
   "source": [
    "df.head()"
   ]
  },
  {
   "cell_type": "code",
   "execution_count": 316,
   "metadata": {
    "collapsed": false
   },
   "outputs": [
    {
     "data": {
      "text/plain": [
       "(2302176, 7)"
      ]
     },
     "execution_count": 316,
     "metadata": {},
     "output_type": "execute_result"
    }
   ],
   "source": [
    "df.shape"
   ]
  },
  {
   "cell_type": "code",
   "execution_count": 317,
   "metadata": {
    "collapsed": true
   },
   "outputs": [],
   "source": [
    "df = df[df['confidence'] > 0.6]"
   ]
  },
  {
   "cell_type": "code",
   "execution_count": 318,
   "metadata": {
    "collapsed": false
   },
   "outputs": [
    {
     "data": {
      "text/plain": [
       "(771316, 7)"
      ]
     },
     "execution_count": 318,
     "metadata": {},
     "output_type": "execute_result"
    }
   ],
   "source": [
    "df.shape"
   ]
  },
  {
   "cell_type": "code",
   "execution_count": 319,
   "metadata": {
    "collapsed": true
   },
   "outputs": [],
   "source": [
    "# df['file_name'] = df['file_index'].copy()"
   ]
  },
  {
   "cell_type": "code",
   "execution_count": 320,
   "metadata": {
    "collapsed": false
   },
   "outputs": [],
   "source": [
    "df['file_index'] = df['file_index'].str.replace('.jpg', '')"
   ]
  },
  {
   "cell_type": "code",
   "execution_count": 321,
   "metadata": {
    "collapsed": false
   },
   "outputs": [],
   "source": [
    "df['x_shift'] = df['file_index'].str.split('_').str.get(1).astype(int)\n",
    "df['y_shift'] = df['file_index'].str.split('_').str.get(2).astype(int)"
   ]
  },
  {
   "cell_type": "code",
   "execution_count": 322,
   "metadata": {
    "collapsed": false
   },
   "outputs": [],
   "source": [
    "df['x_min'] += df['x_shift']\n",
    "df['x_max'] += df['x_shift']\n",
    "\n",
    "df['y_min'] += df['y_shift']\n",
    "df['y_max'] += df['y_shift']\n"
   ]
  },
  {
   "cell_type": "code",
   "execution_count": 323,
   "metadata": {
    "collapsed": false
   },
   "outputs": [
    {
     "data": {
      "text/html": [
       "<div>\n",
       "<table border=\"1\" class=\"dataframe\">\n",
       "  <thead>\n",
       "    <tr style=\"text-align: right;\">\n",
       "      <th></th>\n",
       "      <th>file_index</th>\n",
       "      <th>confidence</th>\n",
       "      <th>x_min</th>\n",
       "      <th>y_min</th>\n",
       "      <th>x_max</th>\n",
       "      <th>y_max</th>\n",
       "      <th>class_name</th>\n",
       "      <th>x_shift</th>\n",
       "      <th>y_shift</th>\n",
       "    </tr>\n",
       "  </thead>\n",
       "  <tbody>\n",
       "    <tr>\n",
       "      <th>0</th>\n",
       "      <td>2483_0_728</td>\n",
       "      <td>0.949</td>\n",
       "      <td>635.5</td>\n",
       "      <td>729.0</td>\n",
       "      <td>666.1</td>\n",
       "      <td>787.3</td>\n",
       "      <td>r</td>\n",
       "      <td>0</td>\n",
       "      <td>728</td>\n",
       "    </tr>\n",
       "    <tr>\n",
       "      <th>3</th>\n",
       "      <td>6951_975_0</td>\n",
       "      <td>0.992</td>\n",
       "      <td>1641.0</td>\n",
       "      <td>122.4</td>\n",
       "      <td>1691.5</td>\n",
       "      <td>153.2</td>\n",
       "      <td>r</td>\n",
       "      <td>975</td>\n",
       "      <td>0</td>\n",
       "    </tr>\n",
       "    <tr>\n",
       "      <th>6</th>\n",
       "      <td>3500_975_920</td>\n",
       "      <td>0.986</td>\n",
       "      <td>1105.5</td>\n",
       "      <td>1460.2</td>\n",
       "      <td>1158.7</td>\n",
       "      <td>1570.6</td>\n",
       "      <td>r</td>\n",
       "      <td>975</td>\n",
       "      <td>920</td>\n",
       "    </tr>\n",
       "    <tr>\n",
       "      <th>18</th>\n",
       "      <td>16679_0_872</td>\n",
       "      <td>0.833</td>\n",
       "      <td>762.4</td>\n",
       "      <td>1317.6</td>\n",
       "      <td>794.0</td>\n",
       "      <td>1374.5</td>\n",
       "      <td>r</td>\n",
       "      <td>0</td>\n",
       "      <td>872</td>\n",
       "    </tr>\n",
       "    <tr>\n",
       "      <th>21</th>\n",
       "      <td>13136_975_0</td>\n",
       "      <td>0.998</td>\n",
       "      <td>1793.8</td>\n",
       "      <td>630.6</td>\n",
       "      <td>1862.7</td>\n",
       "      <td>701.9</td>\n",
       "      <td>r</td>\n",
       "      <td>975</td>\n",
       "      <td>0</td>\n",
       "    </tr>\n",
       "  </tbody>\n",
       "</table>\n",
       "</div>"
      ],
      "text/plain": [
       "      file_index  confidence   x_min   y_min   x_max   y_max class_name  \\\n",
       "0     2483_0_728       0.949   635.5   729.0   666.1   787.3          r   \n",
       "3     6951_975_0       0.992  1641.0   122.4  1691.5   153.2          r   \n",
       "6   3500_975_920       0.986  1105.5  1460.2  1158.7  1570.6          r   \n",
       "18   16679_0_872       0.833   762.4  1317.6   794.0  1374.5          r   \n",
       "21   13136_975_0       0.998  1793.8   630.6  1862.7   701.9          r   \n",
       "\n",
       "    x_shift  y_shift  \n",
       "0         0      728  \n",
       "3       975        0  \n",
       "6       975      920  \n",
       "18        0      872  \n",
       "21      975        0  "
      ]
     },
     "execution_count": 323,
     "metadata": {},
     "output_type": "execute_result"
    }
   ],
   "source": [
    "df.head()"
   ]
  },
  {
   "cell_type": "code",
   "execution_count": 324,
   "metadata": {
    "collapsed": true
   },
   "outputs": [],
   "source": [
    "df['test_id'] = df['file_index'].str.split('_').str.get(0)"
   ]
  },
  {
   "cell_type": "code",
   "execution_count": 325,
   "metadata": {
    "collapsed": false
   },
   "outputs": [
    {
     "data": {
      "text/html": [
       "<div>\n",
       "<table border=\"1\" class=\"dataframe\">\n",
       "  <thead>\n",
       "    <tr style=\"text-align: right;\">\n",
       "      <th></th>\n",
       "      <th>file_index</th>\n",
       "      <th>confidence</th>\n",
       "      <th>x_min</th>\n",
       "      <th>y_min</th>\n",
       "      <th>x_max</th>\n",
       "      <th>y_max</th>\n",
       "      <th>class_name</th>\n",
       "      <th>x_shift</th>\n",
       "      <th>y_shift</th>\n",
       "      <th>test_id</th>\n",
       "    </tr>\n",
       "  </thead>\n",
       "  <tbody>\n",
       "    <tr>\n",
       "      <th>0</th>\n",
       "      <td>2483_0_728</td>\n",
       "      <td>0.949</td>\n",
       "      <td>635.5</td>\n",
       "      <td>729.0</td>\n",
       "      <td>666.1</td>\n",
       "      <td>787.3</td>\n",
       "      <td>r</td>\n",
       "      <td>0</td>\n",
       "      <td>728</td>\n",
       "      <td>2483</td>\n",
       "    </tr>\n",
       "    <tr>\n",
       "      <th>3</th>\n",
       "      <td>6951_975_0</td>\n",
       "      <td>0.992</td>\n",
       "      <td>1641.0</td>\n",
       "      <td>122.4</td>\n",
       "      <td>1691.5</td>\n",
       "      <td>153.2</td>\n",
       "      <td>r</td>\n",
       "      <td>975</td>\n",
       "      <td>0</td>\n",
       "      <td>6951</td>\n",
       "    </tr>\n",
       "    <tr>\n",
       "      <th>6</th>\n",
       "      <td>3500_975_920</td>\n",
       "      <td>0.986</td>\n",
       "      <td>1105.5</td>\n",
       "      <td>1460.2</td>\n",
       "      <td>1158.7</td>\n",
       "      <td>1570.6</td>\n",
       "      <td>r</td>\n",
       "      <td>975</td>\n",
       "      <td>920</td>\n",
       "      <td>3500</td>\n",
       "    </tr>\n",
       "    <tr>\n",
       "      <th>18</th>\n",
       "      <td>16679_0_872</td>\n",
       "      <td>0.833</td>\n",
       "      <td>762.4</td>\n",
       "      <td>1317.6</td>\n",
       "      <td>794.0</td>\n",
       "      <td>1374.5</td>\n",
       "      <td>r</td>\n",
       "      <td>0</td>\n",
       "      <td>872</td>\n",
       "      <td>16679</td>\n",
       "    </tr>\n",
       "    <tr>\n",
       "      <th>21</th>\n",
       "      <td>13136_975_0</td>\n",
       "      <td>0.998</td>\n",
       "      <td>1793.8</td>\n",
       "      <td>630.6</td>\n",
       "      <td>1862.7</td>\n",
       "      <td>701.9</td>\n",
       "      <td>r</td>\n",
       "      <td>975</td>\n",
       "      <td>0</td>\n",
       "      <td>13136</td>\n",
       "    </tr>\n",
       "  </tbody>\n",
       "</table>\n",
       "</div>"
      ],
      "text/plain": [
       "      file_index  confidence   x_min   y_min   x_max   y_max class_name  \\\n",
       "0     2483_0_728       0.949   635.5   729.0   666.1   787.3          r   \n",
       "3     6951_975_0       0.992  1641.0   122.4  1691.5   153.2          r   \n",
       "6   3500_975_920       0.986  1105.5  1460.2  1158.7  1570.6          r   \n",
       "18   16679_0_872       0.833   762.4  1317.6   794.0  1374.5          r   \n",
       "21   13136_975_0       0.998  1793.8   630.6  1862.7   701.9          r   \n",
       "\n",
       "    x_shift  y_shift test_id  \n",
       "0         0      728    2483  \n",
       "3       975        0    6951  \n",
       "6       975      920    3500  \n",
       "18        0      872   16679  \n",
       "21      975        0   13136  "
      ]
     },
     "execution_count": 325,
     "metadata": {},
     "output_type": "execute_result"
    }
   ],
   "source": [
    "df.head()"
   ]
  },
  {
   "cell_type": "code",
   "execution_count": 326,
   "metadata": {
    "collapsed": false
   },
   "outputs": [
    {
     "data": {
      "text/plain": [
       "(771316, 10)"
      ]
     },
     "execution_count": 326,
     "metadata": {},
     "output_type": "execute_result"
    }
   ],
   "source": [
    "df.shape"
   ]
  },
  {
   "cell_type": "code",
   "execution_count": 327,
   "metadata": {
    "collapsed": true
   },
   "outputs": [],
   "source": [
    "# sample = pd.DataFrame(pd.read_csv('../data/sample_submission.csv')['test_id'])\n",
    "# sample['x'] = 1"
   ]
  },
  {
   "cell_type": "code",
   "execution_count": 328,
   "metadata": {
    "collapsed": false
   },
   "outputs": [],
   "source": [
    "# sample.info()"
   ]
  },
  {
   "cell_type": "code",
   "execution_count": 329,
   "metadata": {
    "collapsed": false
   },
   "outputs": [],
   "source": [
    "df['test_id'] = df['test_id'].astype(int)"
   ]
  },
  {
   "cell_type": "code",
   "execution_count": 330,
   "metadata": {
    "collapsed": false
   },
   "outputs": [
    {
     "data": {
      "text/html": [
       "<div>\n",
       "<table border=\"1\" class=\"dataframe\">\n",
       "  <thead>\n",
       "    <tr style=\"text-align: right;\">\n",
       "      <th></th>\n",
       "      <th>file_index</th>\n",
       "      <th>confidence</th>\n",
       "      <th>x_min</th>\n",
       "      <th>y_min</th>\n",
       "      <th>x_max</th>\n",
       "      <th>y_max</th>\n",
       "      <th>class_name</th>\n",
       "      <th>x_shift</th>\n",
       "      <th>y_shift</th>\n",
       "      <th>test_id</th>\n",
       "    </tr>\n",
       "  </thead>\n",
       "  <tbody>\n",
       "    <tr>\n",
       "      <th>0</th>\n",
       "      <td>2483_0_728</td>\n",
       "      <td>0.949</td>\n",
       "      <td>635.5</td>\n",
       "      <td>729.0</td>\n",
       "      <td>666.1</td>\n",
       "      <td>787.3</td>\n",
       "      <td>r</td>\n",
       "      <td>0</td>\n",
       "      <td>728</td>\n",
       "      <td>2483</td>\n",
       "    </tr>\n",
       "    <tr>\n",
       "      <th>3</th>\n",
       "      <td>6951_975_0</td>\n",
       "      <td>0.992</td>\n",
       "      <td>1641.0</td>\n",
       "      <td>122.4</td>\n",
       "      <td>1691.5</td>\n",
       "      <td>153.2</td>\n",
       "      <td>r</td>\n",
       "      <td>975</td>\n",
       "      <td>0</td>\n",
       "      <td>6951</td>\n",
       "    </tr>\n",
       "    <tr>\n",
       "      <th>6</th>\n",
       "      <td>3500_975_920</td>\n",
       "      <td>0.986</td>\n",
       "      <td>1105.5</td>\n",
       "      <td>1460.2</td>\n",
       "      <td>1158.7</td>\n",
       "      <td>1570.6</td>\n",
       "      <td>r</td>\n",
       "      <td>975</td>\n",
       "      <td>920</td>\n",
       "      <td>3500</td>\n",
       "    </tr>\n",
       "    <tr>\n",
       "      <th>18</th>\n",
       "      <td>16679_0_872</td>\n",
       "      <td>0.833</td>\n",
       "      <td>762.4</td>\n",
       "      <td>1317.6</td>\n",
       "      <td>794.0</td>\n",
       "      <td>1374.5</td>\n",
       "      <td>r</td>\n",
       "      <td>0</td>\n",
       "      <td>872</td>\n",
       "      <td>16679</td>\n",
       "    </tr>\n",
       "    <tr>\n",
       "      <th>21</th>\n",
       "      <td>13136_975_0</td>\n",
       "      <td>0.998</td>\n",
       "      <td>1793.8</td>\n",
       "      <td>630.6</td>\n",
       "      <td>1862.7</td>\n",
       "      <td>701.9</td>\n",
       "      <td>r</td>\n",
       "      <td>975</td>\n",
       "      <td>0</td>\n",
       "      <td>13136</td>\n",
       "    </tr>\n",
       "  </tbody>\n",
       "</table>\n",
       "</div>"
      ],
      "text/plain": [
       "      file_index  confidence   x_min   y_min   x_max   y_max class_name  \\\n",
       "0     2483_0_728       0.949   635.5   729.0   666.1   787.3          r   \n",
       "3     6951_975_0       0.992  1641.0   122.4  1691.5   153.2          r   \n",
       "6   3500_975_920       0.986  1105.5  1460.2  1158.7  1570.6          r   \n",
       "18   16679_0_872       0.833   762.4  1317.6   794.0  1374.5          r   \n",
       "21   13136_975_0       0.998  1793.8   630.6  1862.7   701.9          r   \n",
       "\n",
       "    x_shift  y_shift  test_id  \n",
       "0         0      728     2483  \n",
       "3       975        0     6951  \n",
       "6       975      920     3500  \n",
       "18        0      872    16679  \n",
       "21      975        0    13136  "
      ]
     },
     "execution_count": 330,
     "metadata": {},
     "output_type": "execute_result"
    }
   ],
   "source": [
    "df.head()"
   ]
  },
  {
   "cell_type": "code",
   "execution_count": 331,
   "metadata": {
    "collapsed": true
   },
   "outputs": [],
   "source": [
    "class_name_dict = {'r': 'adult_males',\n",
    "                  'b': 'adult_females',\n",
    "                   'p': 'subadult_males',\n",
    "                  'bl': 'juveniles',\n",
    "                  'g': 'pups'}"
   ]
  },
  {
   "cell_type": "code",
   "execution_count": 332,
   "metadata": {
    "collapsed": false
   },
   "outputs": [
    {
     "data": {
      "text/html": [
       "<div>\n",
       "<table border=\"1\" class=\"dataframe\">\n",
       "  <thead>\n",
       "    <tr style=\"text-align: right;\">\n",
       "      <th></th>\n",
       "      <th>file_index</th>\n",
       "      <th>confidence</th>\n",
       "      <th>x_min</th>\n",
       "      <th>y_min</th>\n",
       "      <th>x_max</th>\n",
       "      <th>y_max</th>\n",
       "      <th>class_name</th>\n",
       "      <th>x_shift</th>\n",
       "      <th>y_shift</th>\n",
       "      <th>test_id</th>\n",
       "    </tr>\n",
       "  </thead>\n",
       "  <tbody>\n",
       "    <tr>\n",
       "      <th>0</th>\n",
       "      <td>2483_0_728</td>\n",
       "      <td>0.949</td>\n",
       "      <td>635.5</td>\n",
       "      <td>729.0</td>\n",
       "      <td>666.1</td>\n",
       "      <td>787.3</td>\n",
       "      <td>r</td>\n",
       "      <td>0</td>\n",
       "      <td>728</td>\n",
       "      <td>2483</td>\n",
       "    </tr>\n",
       "    <tr>\n",
       "      <th>3</th>\n",
       "      <td>6951_975_0</td>\n",
       "      <td>0.992</td>\n",
       "      <td>1641.0</td>\n",
       "      <td>122.4</td>\n",
       "      <td>1691.5</td>\n",
       "      <td>153.2</td>\n",
       "      <td>r</td>\n",
       "      <td>975</td>\n",
       "      <td>0</td>\n",
       "      <td>6951</td>\n",
       "    </tr>\n",
       "    <tr>\n",
       "      <th>6</th>\n",
       "      <td>3500_975_920</td>\n",
       "      <td>0.986</td>\n",
       "      <td>1105.5</td>\n",
       "      <td>1460.2</td>\n",
       "      <td>1158.7</td>\n",
       "      <td>1570.6</td>\n",
       "      <td>r</td>\n",
       "      <td>975</td>\n",
       "      <td>920</td>\n",
       "      <td>3500</td>\n",
       "    </tr>\n",
       "    <tr>\n",
       "      <th>18</th>\n",
       "      <td>16679_0_872</td>\n",
       "      <td>0.833</td>\n",
       "      <td>762.4</td>\n",
       "      <td>1317.6</td>\n",
       "      <td>794.0</td>\n",
       "      <td>1374.5</td>\n",
       "      <td>r</td>\n",
       "      <td>0</td>\n",
       "      <td>872</td>\n",
       "      <td>16679</td>\n",
       "    </tr>\n",
       "    <tr>\n",
       "      <th>21</th>\n",
       "      <td>13136_975_0</td>\n",
       "      <td>0.998</td>\n",
       "      <td>1793.8</td>\n",
       "      <td>630.6</td>\n",
       "      <td>1862.7</td>\n",
       "      <td>701.9</td>\n",
       "      <td>r</td>\n",
       "      <td>975</td>\n",
       "      <td>0</td>\n",
       "      <td>13136</td>\n",
       "    </tr>\n",
       "  </tbody>\n",
       "</table>\n",
       "</div>"
      ],
      "text/plain": [
       "      file_index  confidence   x_min   y_min   x_max   y_max class_name  \\\n",
       "0     2483_0_728       0.949   635.5   729.0   666.1   787.3          r   \n",
       "3     6951_975_0       0.992  1641.0   122.4  1691.5   153.2          r   \n",
       "6   3500_975_920       0.986  1105.5  1460.2  1158.7  1570.6          r   \n",
       "18   16679_0_872       0.833   762.4  1317.6   794.0  1374.5          r   \n",
       "21   13136_975_0       0.998  1793.8   630.6  1862.7   701.9          r   \n",
       "\n",
       "    x_shift  y_shift  test_id  \n",
       "0         0      728     2483  \n",
       "3       975        0     6951  \n",
       "6       975      920     3500  \n",
       "18        0      872    16679  \n",
       "21      975        0    13136  "
      ]
     },
     "execution_count": 332,
     "metadata": {},
     "output_type": "execute_result"
    }
   ],
   "source": [
    "df.head()"
   ]
  },
  {
   "cell_type": "code",
   "execution_count": 333,
   "metadata": {
    "collapsed": false
   },
   "outputs": [],
   "source": [
    "df['id'] = df['test_id'].astype(str) + '_' + df['class_name']"
   ]
  },
  {
   "cell_type": "code",
   "execution_count": 334,
   "metadata": {
    "collapsed": false
   },
   "outputs": [
    {
     "data": {
      "text/html": [
       "<div>\n",
       "<table border=\"1\" class=\"dataframe\">\n",
       "  <thead>\n",
       "    <tr style=\"text-align: right;\">\n",
       "      <th></th>\n",
       "      <th>file_index</th>\n",
       "      <th>confidence</th>\n",
       "      <th>x_min</th>\n",
       "      <th>y_min</th>\n",
       "      <th>x_max</th>\n",
       "      <th>y_max</th>\n",
       "      <th>class_name</th>\n",
       "      <th>x_shift</th>\n",
       "      <th>y_shift</th>\n",
       "      <th>test_id</th>\n",
       "      <th>id</th>\n",
       "    </tr>\n",
       "  </thead>\n",
       "  <tbody>\n",
       "    <tr>\n",
       "      <th>0</th>\n",
       "      <td>2483_0_728</td>\n",
       "      <td>0.949</td>\n",
       "      <td>635.5</td>\n",
       "      <td>729.0</td>\n",
       "      <td>666.1</td>\n",
       "      <td>787.3</td>\n",
       "      <td>r</td>\n",
       "      <td>0</td>\n",
       "      <td>728</td>\n",
       "      <td>2483</td>\n",
       "      <td>2483_r</td>\n",
       "    </tr>\n",
       "    <tr>\n",
       "      <th>3</th>\n",
       "      <td>6951_975_0</td>\n",
       "      <td>0.992</td>\n",
       "      <td>1641.0</td>\n",
       "      <td>122.4</td>\n",
       "      <td>1691.5</td>\n",
       "      <td>153.2</td>\n",
       "      <td>r</td>\n",
       "      <td>975</td>\n",
       "      <td>0</td>\n",
       "      <td>6951</td>\n",
       "      <td>6951_r</td>\n",
       "    </tr>\n",
       "    <tr>\n",
       "      <th>6</th>\n",
       "      <td>3500_975_920</td>\n",
       "      <td>0.986</td>\n",
       "      <td>1105.5</td>\n",
       "      <td>1460.2</td>\n",
       "      <td>1158.7</td>\n",
       "      <td>1570.6</td>\n",
       "      <td>r</td>\n",
       "      <td>975</td>\n",
       "      <td>920</td>\n",
       "      <td>3500</td>\n",
       "      <td>3500_r</td>\n",
       "    </tr>\n",
       "    <tr>\n",
       "      <th>18</th>\n",
       "      <td>16679_0_872</td>\n",
       "      <td>0.833</td>\n",
       "      <td>762.4</td>\n",
       "      <td>1317.6</td>\n",
       "      <td>794.0</td>\n",
       "      <td>1374.5</td>\n",
       "      <td>r</td>\n",
       "      <td>0</td>\n",
       "      <td>872</td>\n",
       "      <td>16679</td>\n",
       "      <td>16679_r</td>\n",
       "    </tr>\n",
       "    <tr>\n",
       "      <th>21</th>\n",
       "      <td>13136_975_0</td>\n",
       "      <td>0.998</td>\n",
       "      <td>1793.8</td>\n",
       "      <td>630.6</td>\n",
       "      <td>1862.7</td>\n",
       "      <td>701.9</td>\n",
       "      <td>r</td>\n",
       "      <td>975</td>\n",
       "      <td>0</td>\n",
       "      <td>13136</td>\n",
       "      <td>13136_r</td>\n",
       "    </tr>\n",
       "  </tbody>\n",
       "</table>\n",
       "</div>"
      ],
      "text/plain": [
       "      file_index  confidence   x_min   y_min   x_max   y_max class_name  \\\n",
       "0     2483_0_728       0.949   635.5   729.0   666.1   787.3          r   \n",
       "3     6951_975_0       0.992  1641.0   122.4  1691.5   153.2          r   \n",
       "6   3500_975_920       0.986  1105.5  1460.2  1158.7  1570.6          r   \n",
       "18   16679_0_872       0.833   762.4  1317.6   794.0  1374.5          r   \n",
       "21   13136_975_0       0.998  1793.8   630.6  1862.7   701.9          r   \n",
       "\n",
       "    x_shift  y_shift  test_id       id  \n",
       "0         0      728     2483   2483_r  \n",
       "3       975        0     6951   6951_r  \n",
       "6       975      920     3500   3500_r  \n",
       "18        0      872    16679  16679_r  \n",
       "21      975        0    13136  13136_r  "
      ]
     },
     "execution_count": 334,
     "metadata": {},
     "output_type": "execute_result"
    }
   ],
   "source": [
    "df.head()"
   ]
  },
  {
   "cell_type": "code",
   "execution_count": 335,
   "metadata": {
    "collapsed": false
   },
   "outputs": [],
   "source": [
    "g = df.groupby('id')"
   ]
  },
  {
   "cell_type": "code",
   "execution_count": 336,
   "metadata": {
    "collapsed": false
   },
   "outputs": [],
   "source": [
    "def nms(name_groups):\n",
    "    config = tf.ConfigProto()\n",
    "#     config.gpu_options.allow_growth = True\n",
    "    dfs = []\n",
    "    \n",
    "    with tf.Session(config=config) as sess:\n",
    "        for idx, name_group in enumerate(name_groups):\n",
    "#             if idx % 100 == 0:\n",
    "#                 print(\"in process {} progress {} of {}\".format(current_process(), idx, len(name_groups)))\n",
    "            name, group = name_group\n",
    "            boxes_ph = tf.placeholder(np.float32, (None, 4), name='boxes')\n",
    "            scores_ph = tf.placeholder(np.float32, (None, ), name='confs')\n",
    "            \n",
    "            boxes = group[['x_min', 'y_min', 'x_max', 'y_max']]\n",
    "            scores = group['confidence']\n",
    "            res = sess.run(tf.image.non_max_suppression(boxes_ph, scores_ph, 1000, 0.2),\n",
    "                           feed_dict={boxes_ph: boxes, scores_ph: scores})\n",
    "            r = group.values[res]\n",
    "            dfs.append(r)\n",
    "    return dfs"
   ]
  },
  {
   "cell_type": "code",
   "execution_count": 337,
   "metadata": {
    "collapsed": false
   },
   "outputs": [],
   "source": [
    "# a0 = nms(chunks[0])"
   ]
  },
  {
   "cell_type": "code",
   "execution_count": 338,
   "metadata": {
    "collapsed": false
   },
   "outputs": [],
   "source": [
    "# nms(chunks[0])"
   ]
  },
  {
   "cell_type": "code",
   "execution_count": 339,
   "metadata": {
    "collapsed": true
   },
   "outputs": [],
   "source": [
    "num_cpu = cpu_count()"
   ]
  },
  {
   "cell_type": "code",
   "execution_count": 340,
   "metadata": {
    "collapsed": false
   },
   "outputs": [],
   "source": [
    "grouped = df.groupby('id')\n",
    "grouped = [(name, group) for name, group in grouped]\n",
    "l = len(grouped)\n",
    "sp = l // num_cpu\n",
    "chunks = [grouped[i:i + sp] for i in range(0, l, sp)]\n"
   ]
  },
  {
   "cell_type": "code",
   "execution_count": 341,
   "metadata": {
    "collapsed": false
   },
   "outputs": [],
   "source": [
    "result = Parallel(n_jobs=8)(delayed(nms)(r) for r in chunks)"
   ]
  },
  {
   "cell_type": "code",
   "execution_count": 342,
   "metadata": {
    "collapsed": false
   },
   "outputs": [
    {
     "data": {
      "text/plain": [
       "8"
      ]
     },
     "execution_count": 342,
     "metadata": {},
     "output_type": "execute_result"
    }
   ],
   "source": [
    "len(result)"
   ]
  },
  {
   "cell_type": "code",
   "execution_count": 343,
   "metadata": {
    "collapsed": false
   },
   "outputs": [
    {
     "data": {
      "text/html": [
       "<div>\n",
       "<table border=\"1\" class=\"dataframe\">\n",
       "  <thead>\n",
       "    <tr style=\"text-align: right;\">\n",
       "      <th></th>\n",
       "      <th>0</th>\n",
       "      <th>1</th>\n",
       "      <th>2</th>\n",
       "      <th>3</th>\n",
       "      <th>4</th>\n",
       "      <th>5</th>\n",
       "      <th>6</th>\n",
       "      <th>7</th>\n",
       "      <th>8</th>\n",
       "      <th>9</th>\n",
       "      <th>10</th>\n",
       "    </tr>\n",
       "  </thead>\n",
       "  <tbody>\n",
       "    <tr>\n",
       "      <th>0</th>\n",
       "      <td>0_0_0</td>\n",
       "      <td>0.999</td>\n",
       "      <td>934.4</td>\n",
       "      <td>850.2</td>\n",
       "      <td>988.1</td>\n",
       "      <td>877.8</td>\n",
       "      <td>b</td>\n",
       "      <td>0</td>\n",
       "      <td>0</td>\n",
       "      <td>0</td>\n",
       "      <td>0_b</td>\n",
       "    </tr>\n",
       "    <tr>\n",
       "      <th>1</th>\n",
       "      <td>0_0_0</td>\n",
       "      <td>0.998</td>\n",
       "      <td>904.4</td>\n",
       "      <td>844.4</td>\n",
       "      <td>926.2</td>\n",
       "      <td>895.7</td>\n",
       "      <td>b</td>\n",
       "      <td>0</td>\n",
       "      <td>0</td>\n",
       "      <td>0</td>\n",
       "      <td>0_b</td>\n",
       "    </tr>\n",
       "    <tr>\n",
       "      <th>2</th>\n",
       "      <td>0_0_0</td>\n",
       "      <td>0.996</td>\n",
       "      <td>952.3</td>\n",
       "      <td>807.8</td>\n",
       "      <td>990.9</td>\n",
       "      <td>841.2</td>\n",
       "      <td>b</td>\n",
       "      <td>0</td>\n",
       "      <td>0</td>\n",
       "      <td>0</td>\n",
       "      <td>0_b</td>\n",
       "    </tr>\n",
       "    <tr>\n",
       "      <th>3</th>\n",
       "      <td>0_0_0</td>\n",
       "      <td>0.995</td>\n",
       "      <td>874.6</td>\n",
       "      <td>818.5</td>\n",
       "      <td>922.4</td>\n",
       "      <td>846.3</td>\n",
       "      <td>b</td>\n",
       "      <td>0</td>\n",
       "      <td>0</td>\n",
       "      <td>0</td>\n",
       "      <td>0_b</td>\n",
       "    </tr>\n",
       "    <tr>\n",
       "      <th>4</th>\n",
       "      <td>0_0_0</td>\n",
       "      <td>0.995</td>\n",
       "      <td>770.4</td>\n",
       "      <td>881.9</td>\n",
       "      <td>811.8</td>\n",
       "      <td>918.1</td>\n",
       "      <td>b</td>\n",
       "      <td>0</td>\n",
       "      <td>0</td>\n",
       "      <td>0</td>\n",
       "      <td>0_b</td>\n",
       "    </tr>\n",
       "    <tr>\n",
       "      <th>5</th>\n",
       "      <td>0_0_0</td>\n",
       "      <td>0.988</td>\n",
       "      <td>836.6</td>\n",
       "      <td>829.1</td>\n",
       "      <td>857.9</td>\n",
       "      <td>882.5</td>\n",
       "      <td>b</td>\n",
       "      <td>0</td>\n",
       "      <td>0</td>\n",
       "      <td>0</td>\n",
       "      <td>0_b</td>\n",
       "    </tr>\n",
       "    <tr>\n",
       "      <th>6</th>\n",
       "      <td>0_0_920</td>\n",
       "      <td>0.987</td>\n",
       "      <td>792</td>\n",
       "      <td>932.8</td>\n",
       "      <td>838.4</td>\n",
       "      <td>963.4</td>\n",
       "      <td>b</td>\n",
       "      <td>0</td>\n",
       "      <td>920</td>\n",
       "      <td>0</td>\n",
       "      <td>0_b</td>\n",
       "    </tr>\n",
       "    <tr>\n",
       "      <th>7</th>\n",
       "      <td>0_0_0</td>\n",
       "      <td>0.98</td>\n",
       "      <td>795.8</td>\n",
       "      <td>904.4</td>\n",
       "      <td>839.3</td>\n",
       "      <td>931</td>\n",
       "      <td>b</td>\n",
       "      <td>0</td>\n",
       "      <td>0</td>\n",
       "      <td>0</td>\n",
       "      <td>0_b</td>\n",
       "    </tr>\n",
       "    <tr>\n",
       "      <th>8</th>\n",
       "      <td>0_0_0</td>\n",
       "      <td>0.969</td>\n",
       "      <td>921.9</td>\n",
       "      <td>885.4</td>\n",
       "      <td>950.2</td>\n",
       "      <td>922.7</td>\n",
       "      <td>b</td>\n",
       "      <td>0</td>\n",
       "      <td>0</td>\n",
       "      <td>0</td>\n",
       "      <td>0_b</td>\n",
       "    </tr>\n",
       "    <tr>\n",
       "      <th>9</th>\n",
       "      <td>0_0_0</td>\n",
       "      <td>0.949</td>\n",
       "      <td>798.1</td>\n",
       "      <td>806</td>\n",
       "      <td>826.8</td>\n",
       "      <td>855.4</td>\n",
       "      <td>b</td>\n",
       "      <td>0</td>\n",
       "      <td>0</td>\n",
       "      <td>0</td>\n",
       "      <td>0_b</td>\n",
       "    </tr>\n",
       "    <tr>\n",
       "      <th>10</th>\n",
       "      <td>0_0_0</td>\n",
       "      <td>0.926</td>\n",
       "      <td>785.7</td>\n",
       "      <td>791.3</td>\n",
       "      <td>808.6</td>\n",
       "      <td>844.4</td>\n",
       "      <td>b</td>\n",
       "      <td>0</td>\n",
       "      <td>0</td>\n",
       "      <td>0</td>\n",
       "      <td>0_b</td>\n",
       "    </tr>\n",
       "    <tr>\n",
       "      <th>11</th>\n",
       "      <td>0_0_0</td>\n",
       "      <td>0.911</td>\n",
       "      <td>777.8</td>\n",
       "      <td>829.4</td>\n",
       "      <td>796.9</td>\n",
       "      <td>883.6</td>\n",
       "      <td>b</td>\n",
       "      <td>0</td>\n",
       "      <td>0</td>\n",
       "      <td>0</td>\n",
       "      <td>0_b</td>\n",
       "    </tr>\n",
       "    <tr>\n",
       "      <th>12</th>\n",
       "      <td>0_975_0</td>\n",
       "      <td>0.842</td>\n",
       "      <td>993.3</td>\n",
       "      <td>734.9</td>\n",
       "      <td>1039.7</td>\n",
       "      <td>765.3</td>\n",
       "      <td>b</td>\n",
       "      <td>975</td>\n",
       "      <td>0</td>\n",
       "      <td>0</td>\n",
       "      <td>0_b</td>\n",
       "    </tr>\n",
       "    <tr>\n",
       "      <th>13</th>\n",
       "      <td>0_0_0</td>\n",
       "      <td>0.666</td>\n",
       "      <td>889.3</td>\n",
       "      <td>852.3</td>\n",
       "      <td>911.9</td>\n",
       "      <td>884.3</td>\n",
       "      <td>b</td>\n",
       "      <td>0</td>\n",
       "      <td>0</td>\n",
       "      <td>0</td>\n",
       "      <td>0_b</td>\n",
       "    </tr>\n",
       "  </tbody>\n",
       "</table>\n",
       "</div>"
      ],
      "text/plain": [
       "         0      1      2      3       4      5  6    7    8  9    10\n",
       "0     0_0_0  0.999  934.4  850.2   988.1  877.8  b    0    0  0  0_b\n",
       "1     0_0_0  0.998  904.4  844.4   926.2  895.7  b    0    0  0  0_b\n",
       "2     0_0_0  0.996  952.3  807.8   990.9  841.2  b    0    0  0  0_b\n",
       "3     0_0_0  0.995  874.6  818.5   922.4  846.3  b    0    0  0  0_b\n",
       "4     0_0_0  0.995  770.4  881.9   811.8  918.1  b    0    0  0  0_b\n",
       "5     0_0_0  0.988  836.6  829.1   857.9  882.5  b    0    0  0  0_b\n",
       "6   0_0_920  0.987    792  932.8   838.4  963.4  b    0  920  0  0_b\n",
       "7     0_0_0   0.98  795.8  904.4   839.3    931  b    0    0  0  0_b\n",
       "8     0_0_0  0.969  921.9  885.4   950.2  922.7  b    0    0  0  0_b\n",
       "9     0_0_0  0.949  798.1    806   826.8  855.4  b    0    0  0  0_b\n",
       "10    0_0_0  0.926  785.7  791.3   808.6  844.4  b    0    0  0  0_b\n",
       "11    0_0_0  0.911  777.8  829.4   796.9  883.6  b    0    0  0  0_b\n",
       "12  0_975_0  0.842  993.3  734.9  1039.7  765.3  b  975    0  0  0_b\n",
       "13    0_0_0  0.666  889.3  852.3   911.9  884.3  b    0    0  0  0_b"
      ]
     },
     "execution_count": 343,
     "metadata": {},
     "output_type": "execute_result"
    }
   ],
   "source": [
    "pd.DataFrame(result[0][0])"
   ]
  },
  {
   "cell_type": "code",
   "execution_count": 344,
   "metadata": {
    "collapsed": false
   },
   "outputs": [
    {
     "name": "stderr",
     "output_type": "stream",
     "text": [
      "100%|██████████| 8/8 [00:04<00:00,  1.66it/s]\n"
     ]
    }
   ],
   "source": [
    "tmp = []\n",
    "for c in tqdm(result):\n",
    "    for r in c:       \n",
    "        \n",
    "        tmp += [pd.DataFrame(r)]"
   ]
  },
  {
   "cell_type": "code",
   "execution_count": 345,
   "metadata": {
    "collapsed": true
   },
   "outputs": [],
   "source": [
    "df1 = pd.concat(tmp).reset_index(drop=True)"
   ]
  },
  {
   "cell_type": "code",
   "execution_count": 346,
   "metadata": {
    "collapsed": false
   },
   "outputs": [],
   "source": [
    "df1.columns = df.columns"
   ]
  },
  {
   "cell_type": "code",
   "execution_count": 347,
   "metadata": {
    "collapsed": false
   },
   "outputs": [
    {
     "data": {
      "text/html": [
       "<div>\n",
       "<table border=\"1\" class=\"dataframe\">\n",
       "  <thead>\n",
       "    <tr style=\"text-align: right;\">\n",
       "      <th></th>\n",
       "      <th>file_index</th>\n",
       "      <th>confidence</th>\n",
       "      <th>x_min</th>\n",
       "      <th>y_min</th>\n",
       "      <th>x_max</th>\n",
       "      <th>y_max</th>\n",
       "      <th>class_name</th>\n",
       "      <th>x_shift</th>\n",
       "      <th>y_shift</th>\n",
       "      <th>test_id</th>\n",
       "      <th>id</th>\n",
       "    </tr>\n",
       "  </thead>\n",
       "  <tbody>\n",
       "    <tr>\n",
       "      <th>0</th>\n",
       "      <td>0_0_0</td>\n",
       "      <td>0.999</td>\n",
       "      <td>934.4</td>\n",
       "      <td>850.2</td>\n",
       "      <td>988.1</td>\n",
       "      <td>877.8</td>\n",
       "      <td>b</td>\n",
       "      <td>0</td>\n",
       "      <td>0</td>\n",
       "      <td>0</td>\n",
       "      <td>0_b</td>\n",
       "    </tr>\n",
       "    <tr>\n",
       "      <th>1</th>\n",
       "      <td>0_0_0</td>\n",
       "      <td>0.998</td>\n",
       "      <td>904.4</td>\n",
       "      <td>844.4</td>\n",
       "      <td>926.2</td>\n",
       "      <td>895.7</td>\n",
       "      <td>b</td>\n",
       "      <td>0</td>\n",
       "      <td>0</td>\n",
       "      <td>0</td>\n",
       "      <td>0_b</td>\n",
       "    </tr>\n",
       "    <tr>\n",
       "      <th>2</th>\n",
       "      <td>0_0_0</td>\n",
       "      <td>0.996</td>\n",
       "      <td>952.3</td>\n",
       "      <td>807.8</td>\n",
       "      <td>990.9</td>\n",
       "      <td>841.2</td>\n",
       "      <td>b</td>\n",
       "      <td>0</td>\n",
       "      <td>0</td>\n",
       "      <td>0</td>\n",
       "      <td>0_b</td>\n",
       "    </tr>\n",
       "    <tr>\n",
       "      <th>3</th>\n",
       "      <td>0_0_0</td>\n",
       "      <td>0.995</td>\n",
       "      <td>874.6</td>\n",
       "      <td>818.5</td>\n",
       "      <td>922.4</td>\n",
       "      <td>846.3</td>\n",
       "      <td>b</td>\n",
       "      <td>0</td>\n",
       "      <td>0</td>\n",
       "      <td>0</td>\n",
       "      <td>0_b</td>\n",
       "    </tr>\n",
       "    <tr>\n",
       "      <th>4</th>\n",
       "      <td>0_0_0</td>\n",
       "      <td>0.995</td>\n",
       "      <td>770.4</td>\n",
       "      <td>881.9</td>\n",
       "      <td>811.8</td>\n",
       "      <td>918.1</td>\n",
       "      <td>b</td>\n",
       "      <td>0</td>\n",
       "      <td>0</td>\n",
       "      <td>0</td>\n",
       "      <td>0_b</td>\n",
       "    </tr>\n",
       "  </tbody>\n",
       "</table>\n",
       "</div>"
      ],
      "text/plain": [
       "  file_index confidence  x_min  y_min  x_max  y_max class_name x_shift  \\\n",
       "0      0_0_0      0.999  934.4  850.2  988.1  877.8          b       0   \n",
       "1      0_0_0      0.998  904.4  844.4  926.2  895.7          b       0   \n",
       "2      0_0_0      0.996  952.3  807.8  990.9  841.2          b       0   \n",
       "3      0_0_0      0.995  874.6  818.5  922.4  846.3          b       0   \n",
       "4      0_0_0      0.995  770.4  881.9  811.8  918.1          b       0   \n",
       "\n",
       "  y_shift test_id   id  \n",
       "0       0       0  0_b  \n",
       "1       0       0  0_b  \n",
       "2       0       0  0_b  \n",
       "3       0       0  0_b  \n",
       "4       0       0  0_b  "
      ]
     },
     "execution_count": 347,
     "metadata": {},
     "output_type": "execute_result"
    }
   ],
   "source": [
    "df1.head()"
   ]
  },
  {
   "cell_type": "code",
   "execution_count": 348,
   "metadata": {
    "collapsed": false
   },
   "outputs": [],
   "source": [
    "df1['file_name'] = df1['test_id'].astype(str) + '.jpg'"
   ]
  },
  {
   "cell_type": "code",
   "execution_count": 349,
   "metadata": {
    "collapsed": false
   },
   "outputs": [
    {
     "data": {
      "text/html": [
       "<div>\n",
       "<table border=\"1\" class=\"dataframe\">\n",
       "  <thead>\n",
       "    <tr style=\"text-align: right;\">\n",
       "      <th></th>\n",
       "      <th>file_index</th>\n",
       "      <th>confidence</th>\n",
       "      <th>x_min</th>\n",
       "      <th>y_min</th>\n",
       "      <th>x_max</th>\n",
       "      <th>y_max</th>\n",
       "      <th>class_name</th>\n",
       "      <th>x_shift</th>\n",
       "      <th>y_shift</th>\n",
       "      <th>test_id</th>\n",
       "      <th>id</th>\n",
       "      <th>file_name</th>\n",
       "    </tr>\n",
       "  </thead>\n",
       "  <tbody>\n",
       "    <tr>\n",
       "      <th>0</th>\n",
       "      <td>0_0_0</td>\n",
       "      <td>0.999</td>\n",
       "      <td>934.4</td>\n",
       "      <td>850.2</td>\n",
       "      <td>988.1</td>\n",
       "      <td>877.8</td>\n",
       "      <td>b</td>\n",
       "      <td>0</td>\n",
       "      <td>0</td>\n",
       "      <td>0</td>\n",
       "      <td>0_b</td>\n",
       "      <td>0.jpg</td>\n",
       "    </tr>\n",
       "    <tr>\n",
       "      <th>1</th>\n",
       "      <td>0_0_0</td>\n",
       "      <td>0.998</td>\n",
       "      <td>904.4</td>\n",
       "      <td>844.4</td>\n",
       "      <td>926.2</td>\n",
       "      <td>895.7</td>\n",
       "      <td>b</td>\n",
       "      <td>0</td>\n",
       "      <td>0</td>\n",
       "      <td>0</td>\n",
       "      <td>0_b</td>\n",
       "      <td>0.jpg</td>\n",
       "    </tr>\n",
       "    <tr>\n",
       "      <th>2</th>\n",
       "      <td>0_0_0</td>\n",
       "      <td>0.996</td>\n",
       "      <td>952.3</td>\n",
       "      <td>807.8</td>\n",
       "      <td>990.9</td>\n",
       "      <td>841.2</td>\n",
       "      <td>b</td>\n",
       "      <td>0</td>\n",
       "      <td>0</td>\n",
       "      <td>0</td>\n",
       "      <td>0_b</td>\n",
       "      <td>0.jpg</td>\n",
       "    </tr>\n",
       "    <tr>\n",
       "      <th>3</th>\n",
       "      <td>0_0_0</td>\n",
       "      <td>0.995</td>\n",
       "      <td>874.6</td>\n",
       "      <td>818.5</td>\n",
       "      <td>922.4</td>\n",
       "      <td>846.3</td>\n",
       "      <td>b</td>\n",
       "      <td>0</td>\n",
       "      <td>0</td>\n",
       "      <td>0</td>\n",
       "      <td>0_b</td>\n",
       "      <td>0.jpg</td>\n",
       "    </tr>\n",
       "    <tr>\n",
       "      <th>4</th>\n",
       "      <td>0_0_0</td>\n",
       "      <td>0.995</td>\n",
       "      <td>770.4</td>\n",
       "      <td>881.9</td>\n",
       "      <td>811.8</td>\n",
       "      <td>918.1</td>\n",
       "      <td>b</td>\n",
       "      <td>0</td>\n",
       "      <td>0</td>\n",
       "      <td>0</td>\n",
       "      <td>0_b</td>\n",
       "      <td>0.jpg</td>\n",
       "    </tr>\n",
       "  </tbody>\n",
       "</table>\n",
       "</div>"
      ],
      "text/plain": [
       "  file_index confidence  x_min  y_min  x_max  y_max class_name x_shift  \\\n",
       "0      0_0_0      0.999  934.4  850.2  988.1  877.8          b       0   \n",
       "1      0_0_0      0.998  904.4  844.4  926.2  895.7          b       0   \n",
       "2      0_0_0      0.996  952.3  807.8  990.9  841.2          b       0   \n",
       "3      0_0_0      0.995  874.6  818.5  922.4  846.3          b       0   \n",
       "4      0_0_0      0.995  770.4  881.9  811.8  918.1          b       0   \n",
       "\n",
       "  y_shift test_id   id file_name  \n",
       "0       0       0  0_b     0.jpg  \n",
       "1       0       0  0_b     0.jpg  \n",
       "2       0       0  0_b     0.jpg  \n",
       "3       0       0  0_b     0.jpg  \n",
       "4       0       0  0_b     0.jpg  "
      ]
     },
     "execution_count": 349,
     "metadata": {},
     "output_type": "execute_result"
    }
   ],
   "source": [
    "df1.head()"
   ]
  },
  {
   "cell_type": "code",
   "execution_count": 350,
   "metadata": {
    "collapsed": true
   },
   "outputs": [],
   "source": [
    "colors = {'r': (0, 0, 255),\n",
    "         'g': (0, 255, 0),\n",
    "         'bl': (255, 0, 0),\n",
    "         'p': (127, 0, 255),\n",
    "#          'l_blue': (255, 255, 0),\n",
    "#          'd_purple': (255, 0, 127),\n",
    "         'b': (0, 255, 255),\n",
    "#          'orange': (0, 128, 255),\n",
    "#          'l_green': (51, 102, 0)\n",
    "         }"
   ]
  },
  {
   "cell_type": "code",
   "execution_count": 351,
   "metadata": {
    "collapsed": true
   },
   "outputs": [],
   "source": [
    "font = cv2.FONT_HERSHEY_SIMPLEX"
   ]
  },
  {
   "cell_type": "code",
   "execution_count": 352,
   "metadata": {
    "collapsed": false
   },
   "outputs": [],
   "source": [
    "# for file_name in tqdm(df1['file_name'].unique()[:100]):\n",
    "for file_name in ['3386.jpg', '1585.jpg']:\n",
    "    img = cv2.imread(os.path.join('/home/vladimir/workspace/data/kaggle_seals/Test_small', file_name))\n",
    "    df_c = df1[df1['file_name'] == file_name]\n",
    "    for i in df_c.index:\n",
    "        class_name = df_c.loc[i, 'class_name']\n",
    "        probs = df_c.loc[i, 'confidence']        \n",
    "        boxes = df_c.loc[i, ['x_min', 'y_min', 'x_max', 'y_max']].astype(int).values        \n",
    "#         for j, value in enumerate(boxes):            \n",
    "        (x_min, y_min, x_max, y_max) = boxes\n",
    "        img = cv2.rectangle(img, (x_min, y_min), (x_max, y_max), colors[class_name], 2)\n",
    "        img = cv2.putText(img, str(int(100 * probs)), (x_max, y_min), font, 1, colors[class_name], 2)\n",
    "    cv2.imwrite(os.path.join('test_preds', file_name), img)"
   ]
  },
  {
   "cell_type": "code",
   "execution_count": 353,
   "metadata": {
    "collapsed": true
   },
   "outputs": [],
   "source": [
    "sample = pd.read_csv('../data/sample_submission.csv')"
   ]
  },
  {
   "cell_type": "code",
   "execution_count": 354,
   "metadata": {
    "collapsed": false
   },
   "outputs": [
    {
     "data": {
      "text/html": [
       "<div>\n",
       "<table border=\"1\" class=\"dataframe\">\n",
       "  <thead>\n",
       "    <tr style=\"text-align: right;\">\n",
       "      <th></th>\n",
       "      <th>test_id</th>\n",
       "      <th>adult_males</th>\n",
       "      <th>subadult_males</th>\n",
       "      <th>adult_females</th>\n",
       "      <th>juveniles</th>\n",
       "      <th>pups</th>\n",
       "    </tr>\n",
       "  </thead>\n",
       "  <tbody>\n",
       "    <tr>\n",
       "      <th>0</th>\n",
       "      <td>0</td>\n",
       "      <td>0</td>\n",
       "      <td>0</td>\n",
       "      <td>0</td>\n",
       "      <td>0</td>\n",
       "      <td>0</td>\n",
       "    </tr>\n",
       "    <tr>\n",
       "      <th>1</th>\n",
       "      <td>1</td>\n",
       "      <td>0</td>\n",
       "      <td>0</td>\n",
       "      <td>0</td>\n",
       "      <td>0</td>\n",
       "      <td>0</td>\n",
       "    </tr>\n",
       "    <tr>\n",
       "      <th>2</th>\n",
       "      <td>2</td>\n",
       "      <td>0</td>\n",
       "      <td>0</td>\n",
       "      <td>0</td>\n",
       "      <td>0</td>\n",
       "      <td>0</td>\n",
       "    </tr>\n",
       "    <tr>\n",
       "      <th>3</th>\n",
       "      <td>3</td>\n",
       "      <td>0</td>\n",
       "      <td>0</td>\n",
       "      <td>0</td>\n",
       "      <td>0</td>\n",
       "      <td>0</td>\n",
       "    </tr>\n",
       "    <tr>\n",
       "      <th>4</th>\n",
       "      <td>4</td>\n",
       "      <td>0</td>\n",
       "      <td>0</td>\n",
       "      <td>0</td>\n",
       "      <td>0</td>\n",
       "      <td>0</td>\n",
       "    </tr>\n",
       "  </tbody>\n",
       "</table>\n",
       "</div>"
      ],
      "text/plain": [
       "   test_id  adult_males  subadult_males  adult_females  juveniles  pups\n",
       "0        0            0               0              0          0     0\n",
       "1        1            0               0              0          0     0\n",
       "2        2            0               0              0          0     0\n",
       "3        3            0               0              0          0     0\n",
       "4        4            0               0              0          0     0"
      ]
     },
     "execution_count": 354,
     "metadata": {},
     "output_type": "execute_result"
    }
   ],
   "source": [
    "sample.head()"
   ]
  },
  {
   "cell_type": "code",
   "execution_count": 355,
   "metadata": {
    "collapsed": false
   },
   "outputs": [
    {
     "data": {
      "text/html": [
       "<div>\n",
       "<table border=\"1\" class=\"dataframe\">\n",
       "  <thead>\n",
       "    <tr style=\"text-align: right;\">\n",
       "      <th></th>\n",
       "      <th>file_index</th>\n",
       "      <th>confidence</th>\n",
       "      <th>x_min</th>\n",
       "      <th>y_min</th>\n",
       "      <th>x_max</th>\n",
       "      <th>y_max</th>\n",
       "      <th>class_name</th>\n",
       "      <th>x_shift</th>\n",
       "      <th>y_shift</th>\n",
       "      <th>test_id</th>\n",
       "      <th>id</th>\n",
       "      <th>file_name</th>\n",
       "    </tr>\n",
       "  </thead>\n",
       "  <tbody>\n",
       "    <tr>\n",
       "      <th>0</th>\n",
       "      <td>0_0_0</td>\n",
       "      <td>0.999</td>\n",
       "      <td>934.4</td>\n",
       "      <td>850.2</td>\n",
       "      <td>988.1</td>\n",
       "      <td>877.8</td>\n",
       "      <td>b</td>\n",
       "      <td>0</td>\n",
       "      <td>0</td>\n",
       "      <td>0</td>\n",
       "      <td>0_b</td>\n",
       "      <td>0.jpg</td>\n",
       "    </tr>\n",
       "    <tr>\n",
       "      <th>1</th>\n",
       "      <td>0_0_0</td>\n",
       "      <td>0.998</td>\n",
       "      <td>904.4</td>\n",
       "      <td>844.4</td>\n",
       "      <td>926.2</td>\n",
       "      <td>895.7</td>\n",
       "      <td>b</td>\n",
       "      <td>0</td>\n",
       "      <td>0</td>\n",
       "      <td>0</td>\n",
       "      <td>0_b</td>\n",
       "      <td>0.jpg</td>\n",
       "    </tr>\n",
       "    <tr>\n",
       "      <th>2</th>\n",
       "      <td>0_0_0</td>\n",
       "      <td>0.996</td>\n",
       "      <td>952.3</td>\n",
       "      <td>807.8</td>\n",
       "      <td>990.9</td>\n",
       "      <td>841.2</td>\n",
       "      <td>b</td>\n",
       "      <td>0</td>\n",
       "      <td>0</td>\n",
       "      <td>0</td>\n",
       "      <td>0_b</td>\n",
       "      <td>0.jpg</td>\n",
       "    </tr>\n",
       "    <tr>\n",
       "      <th>3</th>\n",
       "      <td>0_0_0</td>\n",
       "      <td>0.995</td>\n",
       "      <td>874.6</td>\n",
       "      <td>818.5</td>\n",
       "      <td>922.4</td>\n",
       "      <td>846.3</td>\n",
       "      <td>b</td>\n",
       "      <td>0</td>\n",
       "      <td>0</td>\n",
       "      <td>0</td>\n",
       "      <td>0_b</td>\n",
       "      <td>0.jpg</td>\n",
       "    </tr>\n",
       "    <tr>\n",
       "      <th>4</th>\n",
       "      <td>0_0_0</td>\n",
       "      <td>0.995</td>\n",
       "      <td>770.4</td>\n",
       "      <td>881.9</td>\n",
       "      <td>811.8</td>\n",
       "      <td>918.1</td>\n",
       "      <td>b</td>\n",
       "      <td>0</td>\n",
       "      <td>0</td>\n",
       "      <td>0</td>\n",
       "      <td>0_b</td>\n",
       "      <td>0.jpg</td>\n",
       "    </tr>\n",
       "  </tbody>\n",
       "</table>\n",
       "</div>"
      ],
      "text/plain": [
       "  file_index confidence  x_min  y_min  x_max  y_max class_name x_shift  \\\n",
       "0      0_0_0      0.999  934.4  850.2  988.1  877.8          b       0   \n",
       "1      0_0_0      0.998  904.4  844.4  926.2  895.7          b       0   \n",
       "2      0_0_0      0.996  952.3  807.8  990.9  841.2          b       0   \n",
       "3      0_0_0      0.995  874.6  818.5  922.4  846.3          b       0   \n",
       "4      0_0_0      0.995  770.4  881.9  811.8  918.1          b       0   \n",
       "\n",
       "  y_shift test_id   id file_name  \n",
       "0       0       0  0_b     0.jpg  \n",
       "1       0       0  0_b     0.jpg  \n",
       "2       0       0  0_b     0.jpg  \n",
       "3       0       0  0_b     0.jpg  \n",
       "4       0       0  0_b     0.jpg  "
      ]
     },
     "execution_count": 355,
     "metadata": {},
     "output_type": "execute_result"
    }
   ],
   "source": [
    "df1.head()"
   ]
  },
  {
   "cell_type": "code",
   "execution_count": 356,
   "metadata": {
    "collapsed": true
   },
   "outputs": [],
   "source": [
    "g = pd.DataFrame(df1.groupby(['test_id', 'class_name'])['x_min'].count()).reset_index()"
   ]
  },
  {
   "cell_type": "code",
   "execution_count": 357,
   "metadata": {
    "collapsed": true
   },
   "outputs": [],
   "source": [
    "g['class_name'] = g['class_name'].map(class_name_dict)"
   ]
  },
  {
   "cell_type": "code",
   "execution_count": 358,
   "metadata": {
    "collapsed": false
   },
   "outputs": [],
   "source": [
    "df2 = g.pivot(index='test_id', columns='class_name', values='x_min')"
   ]
  },
  {
   "cell_type": "code",
   "execution_count": 359,
   "metadata": {
    "collapsed": false
   },
   "outputs": [],
   "source": [
    "df2 = df2.reset_index()"
   ]
  },
  {
   "cell_type": "code",
   "execution_count": 360,
   "metadata": {
    "collapsed": false
   },
   "outputs": [
    {
     "data": {
      "text/html": [
       "<div>\n",
       "<table border=\"1\" class=\"dataframe\">\n",
       "  <thead>\n",
       "    <tr style=\"text-align: right;\">\n",
       "      <th>class_name</th>\n",
       "      <th>test_id</th>\n",
       "      <th>adult_females</th>\n",
       "      <th>adult_males</th>\n",
       "      <th>juveniles</th>\n",
       "      <th>pups</th>\n",
       "      <th>subadult_males</th>\n",
       "    </tr>\n",
       "  </thead>\n",
       "  <tbody>\n",
       "    <tr>\n",
       "      <th>0</th>\n",
       "      <td>0</td>\n",
       "      <td>14.0</td>\n",
       "      <td>1.0</td>\n",
       "      <td>16.0</td>\n",
       "      <td>NaN</td>\n",
       "      <td>NaN</td>\n",
       "    </tr>\n",
       "    <tr>\n",
       "      <th>1</th>\n",
       "      <td>1</td>\n",
       "      <td>2.0</td>\n",
       "      <td>NaN</td>\n",
       "      <td>2.0</td>\n",
       "      <td>NaN</td>\n",
       "      <td>4.0</td>\n",
       "    </tr>\n",
       "    <tr>\n",
       "      <th>2</th>\n",
       "      <td>2</td>\n",
       "      <td>1.0</td>\n",
       "      <td>NaN</td>\n",
       "      <td>NaN</td>\n",
       "      <td>2.0</td>\n",
       "      <td>1.0</td>\n",
       "    </tr>\n",
       "    <tr>\n",
       "      <th>3</th>\n",
       "      <td>3</td>\n",
       "      <td>NaN</td>\n",
       "      <td>NaN</td>\n",
       "      <td>1.0</td>\n",
       "      <td>NaN</td>\n",
       "      <td>1.0</td>\n",
       "    </tr>\n",
       "    <tr>\n",
       "      <th>4</th>\n",
       "      <td>4</td>\n",
       "      <td>3.0</td>\n",
       "      <td>NaN</td>\n",
       "      <td>NaN</td>\n",
       "      <td>2.0</td>\n",
       "      <td>4.0</td>\n",
       "    </tr>\n",
       "  </tbody>\n",
       "</table>\n",
       "</div>"
      ],
      "text/plain": [
       "class_name  test_id  adult_females  adult_males  juveniles  pups  \\\n",
       "0                 0           14.0          1.0       16.0   NaN   \n",
       "1                 1            2.0          NaN        2.0   NaN   \n",
       "2                 2            1.0          NaN        NaN   2.0   \n",
       "3                 3            NaN          NaN        1.0   NaN   \n",
       "4                 4            3.0          NaN        NaN   2.0   \n",
       "\n",
       "class_name  subadult_males  \n",
       "0                      NaN  \n",
       "1                      4.0  \n",
       "2                      1.0  \n",
       "3                      1.0  \n",
       "4                      4.0  "
      ]
     },
     "execution_count": 360,
     "metadata": {},
     "output_type": "execute_result"
    }
   ],
   "source": [
    "df2.head()"
   ]
  },
  {
   "cell_type": "code",
   "execution_count": 361,
   "metadata": {
    "collapsed": true
   },
   "outputs": [],
   "source": [
    "sample = pd.DataFrame(pd.read_csv('../data/sample_submission.csv')['test_id'])\n",
    "sample['x'] = 1"
   ]
  },
  {
   "cell_type": "code",
   "execution_count": 362,
   "metadata": {
    "collapsed": true
   },
   "outputs": [],
   "source": [
    "sample = sample.merge(df2, on='test_id', how='left', left_index=True)"
   ]
  },
  {
   "cell_type": "code",
   "execution_count": 363,
   "metadata": {
    "collapsed": true
   },
   "outputs": [],
   "source": [
    "sample = sample.drop('x', 1).fillna(0)"
   ]
  },
  {
   "cell_type": "code",
   "execution_count": 364,
   "metadata": {
    "collapsed": true
   },
   "outputs": [],
   "source": [
    "for column in sample.columns:\n",
    "    sample[column] = sample[column].astype(int)"
   ]
  },
  {
   "cell_type": "code",
   "execution_count": 365,
   "metadata": {
    "collapsed": true
   },
   "outputs": [],
   "source": [
    "sample.to_csv('../data/c_06.csv', index=False)"
   ]
  },
  {
   "cell_type": "code",
   "execution_count": null,
   "metadata": {
    "collapsed": true
   },
   "outputs": [],
   "source": []
  },
  {
   "cell_type": "code",
   "execution_count": null,
   "metadata": {
    "collapsed": true
   },
   "outputs": [],
   "source": []
  }
 ],
 "metadata": {
  "kernelspec": {
   "display_name": "Python 2",
   "language": "python",
   "name": "python2"
  },
  "language_info": {
   "codemirror_mode": {
    "name": "ipython",
    "version": 2
   },
   "file_extension": ".py",
   "mimetype": "text/x-python",
   "name": "python",
   "nbconvert_exporter": "python",
   "pygments_lexer": "ipython2",
   "version": "2.7.11"
  }
 },
 "nbformat": 4,
 "nbformat_minor": 0
}
